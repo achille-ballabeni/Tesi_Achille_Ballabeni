{
  "cells": [
    {
      "cell_type": "markdown",
      "metadata": {
        "id": "y5fCn7npUfHA"
      },
      "source": [
        "# Dataset loading"
      ]
    },
    {
      "cell_type": "markdown",
      "source": [
        "Download dataset partitions."
      ],
      "metadata": {
        "id": "HwvXOTpzRmtj"
      }
    },
    {
      "cell_type": "code",
      "source": [
        "!gdown https://drive.google.com/file/d/1aQ_mpyoxlQ2OgJ7vXkPk04sogAIpbyNF/view?usp=sharing --fuzzy\n",
        "!gdown https://drive.google.com/file/d/1-1bTtmmSau_o4MHBqT_FizS0-x_TwH4z/view?usp=sharing --fuzzy\n",
        "!gdown https://drive.google.com/file/d/1-4T8FSnJK0PZmOuwS295BTg68lA5Q49-/view?usp=sharing --fuzzy\n",
        "!gdown https://drive.google.com/file/d/1-7gXamdIWTDISiyOu40bd0xCfg1Q4a-O/view?usp=sharing --fuzzy\n",
        "!gdown https://drive.google.com/file/d/1-8A598Uqj2RV705DaFF5HdM2X12bowFx/view?usp=sharing --fuzzy"
      ],
      "metadata": {
        "colab": {
          "base_uri": "https://localhost:8080/"
        },
        "outputId": "801ea2d5-5a11-458c-8755-bc449e61844f",
        "id": "iQCSurelUfHB"
      },
      "execution_count": 3,
      "outputs": [
        {
          "output_type": "stream",
          "name": "stdout",
          "text": [
            "Downloading...\n",
            "From: https://drive.google.com/uc?id=1aQ_mpyoxlQ2OgJ7vXkPk04sogAIpbyNF\n",
            "To: /content/split_1.record\n",
            "100% 554M/554M [00:01<00:00, 315MB/s]\n",
            "Downloading...\n",
            "From: https://drive.google.com/uc?id=1-1bTtmmSau_o4MHBqT_FizS0-x_TwH4z\n",
            "To: /content/split_2.record\n",
            "100% 573M/573M [00:05<00:00, 97.2MB/s]\n",
            "Downloading...\n",
            "From: https://drive.google.com/uc?id=1-4T8FSnJK0PZmOuwS295BTg68lA5Q49-\n",
            "To: /content/split_3.record\n",
            "100% 600M/600M [00:10<00:00, 59.5MB/s]\n",
            "Downloading...\n",
            "From: https://drive.google.com/uc?id=1-7gXamdIWTDISiyOu40bd0xCfg1Q4a-O\n",
            "To: /content/split_4.record\n",
            "100% 570M/570M [00:08<00:00, 64.3MB/s]\n",
            "Downloading...\n",
            "From: https://drive.google.com/uc?id=1-8A598Uqj2RV705DaFF5HdM2X12bowFx\n",
            "To: /content/split_5.record\n",
            "100% 639M/639M [00:12<00:00, 50.8MB/s]\n"
          ]
        }
      ]
    },
    {
      "cell_type": "markdown",
      "source": [
        "Define loading paths."
      ],
      "metadata": {
        "id": "rwYEmmWOQgo_"
      }
    },
    {
      "cell_type": "code",
      "execution_count": 4,
      "metadata": {
        "id": "glW1I_w6UfHB"
      },
      "outputs": [],
      "source": [
        "tf_records_path = '/content/split_{}.record'"
      ]
    },
    {
      "cell_type": "markdown",
      "source": [
        "# Dataset decoding"
      ],
      "metadata": {
        "id": "hbDaIVw1T2u1"
      }
    },
    {
      "cell_type": "markdown",
      "source": [
        "Define a set of decoding functions."
      ],
      "metadata": {
        "id": "74qdKqN6T-Oj"
      }
    },
    {
      "cell_type": "code",
      "execution_count": 5,
      "metadata": {
        "id": "CGZowrcFbBas"
      },
      "outputs": [],
      "source": [
        "import tensorflow as tf\n",
        "import numpy as np\n",
        "\n",
        "def load_tf_records(filepath):\n",
        "    filenames = tf.io.gfile.glob(filepath)\n",
        "    dataset = tf.data.TFRecordDataset(filenames,num_parallel_reads=tf.data.experimental.AUTOTUNE)\n",
        "    return dataset\n",
        "\n",
        "def tf_records_file_features_description():\n",
        "    image_feature_description = {\n",
        "        \n",
        "        'image/height': tf.io.FixedLenFeature([], tf.int64),\n",
        "        'image/width': tf.io.FixedLenFeature([], tf.int64),\n",
        "        'image': tf.io.FixedLenFeature([],tf.string),\n",
        "        'label/P': tf.io.FixedLenFeature([], tf.float32),\n",
        "        'label/K': tf.io.FixedLenFeature([], tf.float32),\n",
        "        'label/Mg': tf.io.FixedLenFeature([], tf.float32),\n",
        "        'label/Ph': tf.io.FixedLenFeature([], tf.float32),\n",
        "    }\n",
        "    return image_feature_description\n",
        "\n",
        "def decode_dataset(example_proto):\n",
        "    features=tf.io.parse_single_example(example_proto, tf_records_file_features_description())\n",
        "\n",
        "    image=features['image']\n",
        "    height=features['image/height']\n",
        "    width=features['image/width']\n",
        "    image=tf.io.decode_raw(image,tf.int16)\n",
        "    image=tf.reshape(image,[height,width,150])\n",
        "\n",
        "    P=features['label/P']\n",
        "    K=features['label/K']\n",
        "    Mg=features['label/Mg']\n",
        "    Ph=features['label/Ph']\n",
        "\n",
        "    height=features['image/height']\n",
        "    width=features['image/width']\n",
        "\n",
        "    label=[P,K,Mg,Ph]\n",
        "\n",
        "    return image, label, height, width"
      ]
    },
    {
      "cell_type": "markdown",
      "metadata": {
        "id": "Z79r3lAEL1iF"
      },
      "source": [
        "# Dataset analysis\n",
        "We will use the tf.data.datest API \n",
        "\n",
        "It is not required to run this section to train the model."
      ]
    },
    {
      "cell_type": "markdown",
      "source": [
        "Load train and test datasets."
      ],
      "metadata": {
        "id": "vDc1RoE5Uwsn"
      }
    },
    {
      "cell_type": "code",
      "execution_count": 6,
      "metadata": {
        "id": "9dHd5T3FbY11"
      },
      "outputs": [],
      "source": [
        "# Load dataset partitions\n",
        "\n",
        "splits = [load_tf_records(tf_records_path.format(i)).map(decode_dataset, num_parallel_calls=tf.data.AUTOTUNE) for i in range(1,6)]"
      ]
    },
    {
      "cell_type": "markdown",
      "source": [
        "Concatenate dataset partitions for analysis purposes."
      ],
      "metadata": {
        "id": "7LvEEvaYKcBs"
      }
    },
    {
      "cell_type": "code",
      "source": [
        "full_dataset = splits[0].concatenate(splits[1]).concatenate(splits[2]).concatenate(splits[3]).concatenate(splits[4])"
      ],
      "metadata": {
        "id": "aFrNmf16KijV"
      },
      "execution_count": 7,
      "outputs": []
    },
    {
      "cell_type": "markdown",
      "source": [
        "Show dataset sizes."
      ],
      "metadata": {
        "id": "GVGhjS-5VsWj"
      }
    },
    {
      "cell_type": "code",
      "execution_count": 8,
      "metadata": {
        "colab": {
          "base_uri": "https://localhost:8080/"
        },
        "outputId": "a359f684-c6b1-4fa5-a587-763fbed77b7b",
        "id": "yniQsp7SVBB5"
      },
      "outputs": [
        {
          "output_type": "stream",
          "name": "stdout",
          "text": [
            "Number of images in each partition:  [346, 346, 346, 347, 347]\n",
            "Total number of images:  1732\n"
          ]
        }
      ],
      "source": [
        "#[len(list(partition)) for partition in splits] #High RAM usage\n",
        "num_images = [346, 346, 346, 347, 347]\n",
        "print('Number of images in each partition: ', num_images)\n",
        "total_num_images = sum(num_images)\n",
        "print('Total number of images: ', total_num_images)"
      ]
    },
    {
      "cell_type": "markdown",
      "source": [
        "Find maximum and minimum intensity values for both datasets."
      ],
      "metadata": {
        "id": "wvgwJD1wVKqD"
      }
    },
    {
      "cell_type": "code",
      "execution_count": 9,
      "metadata": {
        "id": "Fokp8m9aVBB7"
      },
      "outputs": [],
      "source": [
        "# Find maximum reflectance\n",
        "\n",
        "def find_max(dataset):                      \n",
        "    max = 0\n",
        "    for image, label, height, width in dataset:\n",
        "        max_reflectance = np.amax(image)\n",
        "        if max_reflectance > max:\n",
        "            max = max_reflectance\n",
        "    return(max)\n",
        "\n",
        "# Find minimum reflectance\n",
        "\n",
        "def find_min(dataset, min):\n",
        "    for image, label, height, width in dataset:\n",
        "        min_reflectance = np.amin(image)\n",
        "        if min_reflectance < min:\n",
        "            min = min_reflectance\n",
        "    return(min)"
      ]
    },
    {
      "cell_type": "code",
      "execution_count": 10,
      "metadata": {
        "colab": {
          "base_uri": "https://localhost:8080/"
        },
        "outputId": "dd046fb5-144e-4fa9-937d-a66576c290a8",
        "id": "Y3bctWyVVBB7"
      },
      "outputs": [
        {
          "output_type": "stream",
          "name": "stdout",
          "text": [
            "Max reflectance overall: 5419\n",
            "Min reflectance overall: -3\n"
          ]
        }
      ],
      "source": [
        "max_reflectance_overall = find_max(full_dataset)\n",
        "min_reflectance_overall = find_min(full_dataset, max_reflectance_overall)\n",
        "print('Max reflectance overall:', max_reflectance_overall)\n",
        "print('Min reflectance overall:', min_reflectance_overall)"
      ]
    },
    {
      "cell_type": "markdown",
      "source": [
        "Find maximum height and width of images in both datasets."
      ],
      "metadata": {
        "id": "flFhege9Wcft"
      }
    },
    {
      "cell_type": "code",
      "execution_count": 11,
      "metadata": {
        "colab": {
          "base_uri": "https://localhost:8080/"
        },
        "outputId": "9bbdc861-ca48-464b-a8c0-bc44c2ff9e4a",
        "id": "Jj59dpWuVBB7"
      },
      "outputs": [
        {
          "output_type": "stream",
          "name": "stdout",
          "text": [
            "Max height train: 268\n",
            "Max width train: 284\n"
          ]
        }
      ],
      "source": [
        "shape_data = np.array(list(full_dataset.map(lambda image, label, height, width: tf.shape(image)[0:2]).as_numpy_iterator()))\n",
        "h_dims, w_dims = np.hsplit(shape_data, 2)\n",
        "\n",
        "max_height = np.amax(h_dims)\n",
        "max_width = np.amax(w_dims)\n",
        "print('Max height train:', max_height)\n",
        "print('Max width train:', max_width)"
      ]
    },
    {
      "cell_type": "markdown",
      "source": [
        "Show image size distribution in a bar chart."
      ],
      "metadata": {
        "id": "D5RaK3rZWzPO"
      }
    },
    {
      "cell_type": "code",
      "execution_count": 12,
      "metadata": {
        "colab": {
          "base_uri": "https://localhost:8080/",
          "height": 458
        },
        "outputId": "99b6b37c-ad6c-4895-9d2c-3fb526157da2",
        "id": "uZP4pXuMVBB8"
      },
      "outputs": [
        {
          "output_type": "display_data",
          "data": {
            "text/plain": [
              "<Figure size 1800x504 with 2 Axes>"
            ],
            "image/png": "[encoded data removed]"
          },
          "metadata": {
            "needs_background": "light"
          }
        }
      ],
      "source": [
        "import matplotlib.pyplot as plt\n",
        "\n",
        "fig, axs = plt.subplots(1, 2, figsize=(25,7))\n",
        "\n",
        "plt.subplots_adjust(wspace=0.1, hspace=0.4, right=0.85)\n",
        "\n",
        "n_h, bins_h, patches_h = axs[0].hist(h_dims, bins='auto')\n",
        "axs[0].set_title('Height distribution')\n",
        "axs[0].set_xlabel('Image height')\n",
        "axs[0].set_ylabel('Frequency')\n",
        "axs[0].set_xticks(bins_h)\n",
        "axs[0].grid(color='white', lw = 0.5, axis='x')\n",
        "\n",
        "n_w, bins_w, patches_w = axs[1].hist(w_dims, bins='auto')\n",
        "axs[1].set_title('Width distribution')\n",
        "axs[1].set_xlabel('Image width')\n",
        "axs[1].set_ylabel('Frequency')\n",
        "axs[1].set_xticks(bins_w)\n",
        "axs[1].grid(color='white', lw = 0.5, axis='x')\n",
        "\n",
        "plt.show()"
      ]
    },
    {
      "cell_type": "markdown",
      "source": [
        "Calculate the average, median and standard deviation for the ground truth values."
      ],
      "metadata": {
        "id": "TzkIy2utVmSh"
      }
    },
    {
      "cell_type": "code",
      "execution_count": 13,
      "metadata": {
        "id": "hYAkAE9_IwLC",
        "colab": {
          "base_uri": "https://localhost:8080/",
          "height": 297
        },
        "outputId": "ee6779c0-bdf6-455c-948c-8989c8a2fbaa"
      },
      "outputs": [
        {
          "output_type": "display_data",
          "data": {
            "text/plain": [
              "<Figure size 432x288 with 1 Axes>"
            ],
            "image/png": "[encoded data removed]"
          },
          "metadata": {
            "needs_background": "light"
          }
        }
      ],
      "source": [
        "# Calculate average, median and standard deviation for ground truth values\n",
        "\n",
        "import pandas as pd\n",
        "\n",
        "gt_data = np.array(list((full_dataset.map(lambda image, label, height, width: label)).as_numpy_iterator()))\n",
        "\n",
        "gt_avg = np.mean(gt_data, axis=0)\n",
        "gt_median = np.median(gt_data, axis=0)\n",
        "gt_std = np.std(gt_data, axis=0)\n",
        "gt_max = np.amax(gt_data, axis=0)\n",
        "gt_min = np.amin(gt_data, axis=0)\n",
        "gt_stats = np.append([gt_avg], [gt_median, gt_std, gt_max,gt_min], axis=0)\n",
        "\n",
        "fig, ax = plt.subplots()\n",
        "fig.patch.set_visible(False)\n",
        "ax.axis('off')\n",
        "ax.axis('tight')\n",
        "\n",
        "df=pd.DataFrame(gt_stats, columns=['P', 'K', 'Mg', 'Ph'],)\n",
        "\n",
        "ax.table(cellText=df.values, colLabels=df.columns, rowLabels=['Average', 'Median', 'Standard deviation', 'Maximum value','Minimum value'], loc='center')\n",
        "\n",
        "fig.tight_layout()\n",
        "\n",
        "plt.show()"
      ]
    },
    {
      "cell_type": "markdown",
      "source": [
        "Find baseline mse in order to later define evaluation metrics."
      ],
      "metadata": {
        "id": "UgbBqP61ft7r"
      }
    },
    {
      "cell_type": "code",
      "execution_count": 14,
      "metadata": {
        "id": "_7eI1JIorYeB",
        "colab": {
          "base_uri": "https://localhost:8080/"
        },
        "outputId": "80fe8441-daef-47da-fcd9-fda0f202f9f9"
      },
      "outputs": [
        {
          "output_type": "stream",
          "name": "stdout",
          "text": [
            "[8.7002814e+02 3.8284080e+03 1.5888525e+03 6.7716144e-02]\n"
          ]
        }
      ],
      "source": [
        "mse_baseline = np.mean((gt_data-gt_avg)**2, axis=0)\n",
        "print(mse_baseline)"
      ]
    },
    {
      "cell_type": "markdown",
      "source": [
        "Print some entries."
      ],
      "metadata": {
        "id": "2eAFWP24fyFL"
      }
    },
    {
      "cell_type": "code",
      "execution_count": 15,
      "metadata": {
        "id": "aTGnevaaAMuu",
        "colab": {
          "base_uri": "https://localhost:8080/",
          "height": 1000
        },
        "outputId": "9de42215-cdd9-4ba2-deac-b4727482547c"
      },
      "outputs": [
        {
          "output_type": "display_data",
          "data": {
            "text/plain": [
              "<Figure size 432x288 with 1 Axes>"
            ],
            "image/png": "[encoded data removed]"
          },
          "metadata": {
            "needs_background": "light"
          }
        },
        {
          "output_type": "stream",
          "name": "stdout",
          "text": [
            "[ 85.5 234.  152.    6.9]\n"
          ]
        },
        {
          "output_type": "display_data",
          "data": {
            "text/plain": [
              "<Figure size 432x288 with 1 Axes>"
            ],
            "image/png": "[encoded data removed]"
          },
          "metadata": {
            "needs_background": "light"
          }
        },
        {
          "output_type": "stream",
          "name": "stdout",
          "text": [
            "[ 76.6 351.  165.    6.9]\n"
          ]
        },
        {
          "output_type": "display_data",
          "data": {
            "text/plain": [
              "<Figure size 432x288 with 1 Axes>"
            ],
            "image/png": "[encoded data removed]"
          },
          "metadata": {
            "needs_background": "light"
          }
        },
        {
          "output_type": "stream",
          "name": "stdout",
          "text": [
            "[123.  255.  175.    7.3]\n"
          ]
        },
        {
          "output_type": "display_data",
          "data": {
            "text/plain": [
              "<Figure size 432x288 with 1 Axes>"
            ],
            "image/png": "[encoded data removed]"
          },
          "metadata": {
            "needs_background": "light"
          }
        },
        {
          "output_type": "stream",
          "name": "stdout",
          "text": [
            "[ 65.4 283.  247.    6.8]\n"
          ]
        },
        {
          "output_type": "display_data",
          "data": {
            "text/plain": [
              "<Figure size 432x288 with 1 Axes>"
            ],
            "image/png": "[encoded data removed]"
          },
          "metadata": {
            "needs_background": "light"
          }
        },
        {
          "output_type": "stream",
          "name": "stdout",
          "text": [
            "[ 75.  197.  157.    6.5]\n"
          ]
        }
      ],
      "source": [
        "for image, label, height, width in full_dataset.take(5):\n",
        "  plt.imshow(image[:,:,1].numpy())\n",
        "  plt.show()\n",
        "  print(label.numpy())\n"
      ]
    },
    {
      "cell_type": "markdown",
      "metadata": {
        "id": "Mtr5KnNbG7Nv"
      },
      "source": [
        "# Dataset preprocessing"
      ]
    },
    {
      "cell_type": "code",
      "execution_count": 16,
      "metadata": {
        "id": "r11yDPQJNDHW"
      },
      "outputs": [],
      "source": [
        "from tensorflow import keras\n",
        "from keras import layers\n",
        "import matplotlib.pyplot as plt\n",
        "import pandas as pd\n",
        "import os\n",
        "import random as rn\n",
        "import numpy as np\n",
        "import tensorflow as tf\n",
        "\n",
        "rn.seed(2)\n",
        "np.random.seed(3)\n",
        "tf.random.set_seed(1)\n",
        "\n",
        "AUTO = tf.data.AUTOTUNE "
      ]
    },
    {
      "cell_type": "markdown",
      "source": [
        "Define preprocessing values."
      ],
      "metadata": {
        "id": "UBqZJf8If9KT"
      }
    },
    {
      "cell_type": "code",
      "execution_count": 18,
      "metadata": {
        "id": "gFdMqabUbzaF",
        "colab": {
          "base_uri": "https://localhost:8080/"
        },
        "outputId": "b0ebcd75-c409-4e73-b108-47a3179d6865"
      },
      "outputs": [
        {
          "output_type": "stream",
          "name": "stdout",
          "text": [
            "Downloading...\n",
            "From: https://drive.google.com/uc?id=12NScF4TLmZXx2oo-hfEfbkqgi6IYMmiO\n",
            "To: /content/std_vector.npy\n",
            "\r  0% 0.00/1.33k [00:00<?, ?B/s]\r100% 1.33k/1.33k [00:00<00:00, 2.26MB/s]\n"
          ]
        }
      ],
      "source": [
        "max_reflectance_overall = 5419\n",
        "\n",
        "max_height = 268\n",
        "max_width = 284\n",
        "\n",
        "total_num_images = 1732\n",
        "num_images = [346, 346, 346, 347, 347]\n",
        "\n",
        "max_gt_values = [325, 625, 400, 14]\n",
        "\n",
        "mse_baseline = [8.7002814e+02, 3.8284080e+03, 1.5888525e+03, 6.7716144e-02]\n",
        "\n",
        "!gdown https://drive.google.com/file/d/12NScF4TLmZXx2oo-hfEfbkqgi6IYMmiO/view?usp=sharing --fuzzy\n",
        "std_vec = tf.cast(tf.reshape(np.load('/content/std_vector.npy'), [150]), dtype='float32')"
      ]
    },
    {
      "cell_type": "markdown",
      "source": [
        "Define normalization and augmentation functions for the train set."
      ],
      "metadata": {
        "id": "JiShguYHgBmf"
      }
    },
    {
      "cell_type": "code",
      "source": [
        "target_image_size = 32\n",
        "\n",
        "# Function to normalize the train dataset\n",
        "def normalize_train(image,label, height, width, std_vec, max_gt_values):\n",
        "    \n",
        "    image = tf.cast(image,tf.float32)\n",
        "    image = image/std_vec\n",
        "    label /= max_gt_values\n",
        "\n",
        "    return image, label, height, width\n",
        "\n",
        "# Function that repeats a patch horizontally with random flips\n",
        "def make_horizontal_patch_train(patch, nx):\n",
        "    \n",
        "    hor_patch = tf.image.random_flip_left_right(tf.image.random_flip_up_down(patch, seed=72), seed=64)\n",
        "    i=0\n",
        "\n",
        "    def cond(hor_patch, patch, i, nx):\n",
        "        return tf.less(i, nx-1)\n",
        "    def body(hor_patch, patch, i, nx):\n",
        "        hor_patch = tf.concat([hor_patch, tf.image.random_flip_left_right(tf.image.random_flip_up_down(patch, seed=49), seed=95)], 1)\n",
        "        i+=1\n",
        "        return hor_patch, patch, i, nx\n",
        "\n",
        "    hor_patch, _, _, _ = tf.while_loop(cond, body, [hor_patch, patch, i, nx])\n",
        "\n",
        "    return hor_patch\n",
        "\n",
        "# Function that repeats small images applying random flips to create a bigger image\n",
        "def image_repetition_train(image, height, width):\n",
        "    \n",
        "    nx = tf.math.floordiv(target_image_size, tf.cast(width, tf.int32))\n",
        "    ny = tf.math.floordiv(target_image_size, tf.cast(height, tf.int32))\n",
        "    patch = image\n",
        "    image = make_horizontal_patch_train(patch, nx)\n",
        "    i=0\n",
        "\n",
        "    def cond(image, patch, i, ny):\n",
        "        return tf.less(i, ny-1)\n",
        "    def body(image, patch, i, ny):\n",
        "        image = tf.concat([image, make_horizontal_patch_train(patch, nx)], 0)\n",
        "        i+=1\n",
        "        return image, patch, i, ny\n",
        "    \n",
        "    image, _, _, _= tf.while_loop(cond, body, [image, patch, i, ny])\n",
        "\n",
        "    image = tf.cond(tf.math.maximum(nx, ny)==1, lambda: tf.image.resize(image, [target_image_size, target_image_size], method='bilinear', antialias=False), lambda: tf.image.pad_to_bounding_box(image, 0, 0, target_image_size, target_image_size))\n",
        "\n",
        "    return image\n",
        "\n",
        "# Function to resize images to [target_image_size, target_image_size, 150]\n",
        "def pad_with_patches_train(image, label, height, width):\n",
        "    \n",
        "    max_dim = tf.math.maximum(height, width)\n",
        "    image = tf.cond(max_dim<target_image_size, lambda: image_repetition_train(image, height, width), lambda: tf.image.resize(image, [target_image_size, target_image_size], method='bilinear', antialias=False))\n",
        "    image = add_gauss_noise(image)\n",
        "\n",
        "    index=tf.random.uniform(shape=[],maxval=4,dtype=tf.dtypes.int32,seed=32)\n",
        "    \n",
        "    image=tf.cond(tf.equal(index,1),lambda: tf.image.flip_left_right(image), lambda: image)\n",
        "\n",
        "    image=tf.cond(tf.equal(index,2),lambda: tf.image.flip_up_down(image), lambda: image)\n",
        "\n",
        "    image=tf.cond(tf.equal(index,3),lambda: tf.image.flip_left_right(tf.image.flip_up_down(image)), lambda: image)\n",
        "\n",
        "    return image, label\n",
        "\n",
        "# Function to add gaussian noise\n",
        "def add_gauss_noise(image):\n",
        "  \n",
        "    mean = 0\n",
        "    std = 0.05\n",
        "      \n",
        "    gauss = tf.random.normal([target_image_size, target_image_size, 150], mean, std, seed=910)\n",
        "\n",
        "    noisy = image + gauss\n",
        "\n",
        "    return noisy"
      ],
      "metadata": {
        "id": "Qw6wfLjnKdQS"
      },
      "execution_count": 20,
      "outputs": []
    },
    {
      "cell_type": "markdown",
      "source": [
        "Training setup."
      ],
      "metadata": {
        "id": "xL-Dk0RjgWGD"
      }
    },
    {
      "cell_type": "code",
      "source": [
        "# Any number in [1,5]\n",
        "test_partition_id = 5\n",
        "num_train_images = total_num_images - num_images[test_partition_id-1]\n",
        "\n",
        "epochs = 400\n",
        "batch_size = 32\n",
        "steps_per_epoch = num_train_images//batch_size"
      ],
      "metadata": {
        "id": "SF-xved7gYVa"
      },
      "execution_count": 21,
      "outputs": []
    },
    {
      "cell_type": "markdown",
      "source": [
        "Dataset mapping (tf.data.Dataset API)."
      ],
      "metadata": {
        "id": "rLXNWX3oga-l"
      }
    },
    {
      "cell_type": "code",
      "execution_count": 22,
      "metadata": {
        "id": "y0kRGziqZ5_7"
      },
      "outputs": [],
      "source": [
        "# Concatenate partitions to form the train set, the partition chosen as the test partition is excluded\n",
        "splits = [load_tf_records(tf_records_path.format(i)).map(decode_dataset, num_parallel_calls=tf.data.AUTOTUNE) for i in range(1,6)]\n",
        "index = list(range(5))\n",
        "index.pop(test_partition_id-1)\n",
        "\n",
        "ds = splits[index[0]]\n",
        "index.pop(0)\n",
        "\n",
        "for i in index:\n",
        "    ds = ds.concatenate(splits[i])\n",
        "\n",
        "# Normalize, cache, shuffle, pad, batch and prefetch train dataset\n",
        "train_data = ds.take(1376)\n",
        "train_data = train_data.map(lambda image, label, height, width: normalize_train(image, label, height, width, std_vec, max_gt_values), num_parallel_calls=AUTO).cache()\n",
        "train_data = train_data.shuffle(num_train_images, seed=1866)\n",
        "train_data = train_data.map(lambda image, label, height, width: pad_with_patches_train(image, label, height, width), num_parallel_calls=AUTO)\n",
        "train_data = train_data.batch(batch_size=batch_size, drop_remainder=True)\n",
        "train_data = train_data.prefetch(AUTO)\n",
        "\n",
        "# Normalize, cache, shuffle, pad, batch and prefetch validation dataset\n",
        "val_data = ds.skip(1376)\n",
        "val_data = val_data.map(lambda image, label, height, width: normalize_train(image, label, height, width, std_vec, max_gt_values), num_parallel_calls=AUTO).cache()\n",
        "val_data = val_data.map(lambda image, label, height, width: pad_with_patches_train(image, label, height, width), num_parallel_calls=AUTO)\n",
        "val_data = val_data.batch(batch_size=10, drop_remainder=False)\n",
        "val_data = val_data.prefetch(AUTO)"
      ]
    },
    {
      "cell_type": "markdown",
      "source": [
        "Print some training images."
      ],
      "metadata": {
        "id": "dHrz27GigqMq"
      }
    },
    {
      "cell_type": "code",
      "execution_count": 23,
      "metadata": {
        "id": "CJI-JyDZZTA-",
        "colab": {
          "base_uri": "https://localhost:8080/",
          "height": 1000
        },
        "outputId": "120bc952-31cd-46fe-ce68-608a95575fba"
      },
      "outputs": [
        {
          "output_type": "display_data",
          "data": {
            "text/plain": [
              "<Figure size 432x288 with 1 Axes>"
            ],
            "image/png": "[encoded data removed]"
          },
          "metadata": {
            "needs_background": "light"
          }
        },
        {
          "output_type": "stream",
          "name": "stdout",
          "text": [
            "[0.168  0.3424 0.595  0.5   ]\n"
          ]
        },
        {
          "output_type": "display_data",
          "data": {
            "text/plain": [
              "<Figure size 432x288 with 1 Axes>"
            ],
            "image/png": "[encoded data removed]"
          },
          "metadata": {
            "needs_background": "light"
          }
        },
        {
          "output_type": "stream",
          "name": "stdout",
          "text": [
            "[0.20584616 0.2816     0.2875     0.5214286 ]\n"
          ]
        },
        {
          "output_type": "display_data",
          "data": {
            "text/plain": [
              "<Figure size 432x288 with 1 Axes>"
            ],
            "image/png": "[encoded data removed]"
          },
          "metadata": {
            "needs_background": "light"
          }
        },
        {
          "output_type": "stream",
          "name": "stdout",
          "text": [
            "[0.41230768 0.3648     0.4775     0.4642857 ]\n"
          ]
        },
        {
          "output_type": "display_data",
          "data": {
            "text/plain": [
              "<Figure size 432x288 with 1 Axes>"
            ],
            "image/png": "[encoded data removed]"
          },
          "metadata": {
            "needs_background": "light"
          }
        },
        {
          "output_type": "stream",
          "name": "stdout",
          "text": [
            "[0.168     0.304     0.325     0.5142857]\n"
          ]
        },
        {
          "output_type": "display_data",
          "data": {
            "text/plain": [
              "<Figure size 432x288 with 1 Axes>"
            ],
            "image/png": "[encoded data removed]"
          },
          "metadata": {
            "needs_background": "light"
          }
        },
        {
          "output_type": "stream",
          "name": "stdout",
          "text": [
            "[0.10184615 0.2624     0.455      0.45000002]\n"
          ]
        }
      ],
      "source": [
        "for image, label in train_data.unbatch().take(5):\n",
        "        plt.imshow(image[:,:,0])\n",
        "        plt.show()\n",
        "        print(label.numpy())  "
      ]
    },
    {
      "cell_type": "markdown",
      "source": [
        "# Build and train NN model\n",
        "EfficientNet-Lite: the following cell is adapted from https://github.com/sebastian-sz/efficientnet-lite-keras, distributed under Apache License 2.0. We defined a new \"EfficientNetLiteB0mod\" setting width and depth to 0.5."
      ],
      "metadata": {
        "id": "QaTp4m-WhCii"
      }
    },
    {
      "cell_type": "code",
      "source": [
        "import copy\n",
        "import math\n",
        "\n",
        "import tensorflow as tf\n",
        "from tensorflow.keras import layers\n",
        "\n",
        "if tf.__version__ < \"2.8\":  # Keras has been moved to separate repository\n",
        "    from tensorflow.python.keras.applications import imagenet_utils\n",
        "else:\n",
        "    from keras.applications import imagenet_utils\n",
        "\n",
        "from tensorflow.python.keras import backend\n",
        "from tensorflow.python.keras.utils import layer_utils\n",
        "from tensorflow.python.lib.io import file_io\n",
        "\n",
        "DEFAULT_BLOCKS_ARGS = [\n",
        "    {\n",
        "        \"kernel_size\": 3,\n",
        "        \"repeats\": 1,\n",
        "        \"filters_in\": 32,\n",
        "        \"filters_out\": 16,\n",
        "        \"expand_ratio\": 1,\n",
        "        \"id_skip\": True,\n",
        "        \"strides\": 1,\n",
        "    },\n",
        "    {\n",
        "        \"kernel_size\": 3,\n",
        "        \"repeats\": 2,\n",
        "        \"filters_in\": 16,\n",
        "        \"filters_out\": 24,\n",
        "        \"expand_ratio\": 6,\n",
        "        \"id_skip\": True,\n",
        "        \"strides\": 2,\n",
        "    },\n",
        "    {\n",
        "        \"kernel_size\": 5,\n",
        "        \"repeats\": 2,\n",
        "        \"filters_in\": 24,\n",
        "        \"filters_out\": 40,\n",
        "        \"expand_ratio\": 6,\n",
        "        \"id_skip\": True,\n",
        "        \"strides\": 2,\n",
        "    },\n",
        "    {\n",
        "        \"kernel_size\": 3,\n",
        "        \"repeats\": 3,\n",
        "        \"filters_in\": 40,\n",
        "        \"filters_out\": 80,\n",
        "        \"expand_ratio\": 6,\n",
        "        \"id_skip\": True,\n",
        "        \"strides\": 2,\n",
        "    },\n",
        "    {\n",
        "        \"kernel_size\": 5,\n",
        "        \"repeats\": 3,\n",
        "        \"filters_in\": 80,\n",
        "        \"filters_out\": 112,\n",
        "        \"expand_ratio\": 6,\n",
        "        \"id_skip\": True,\n",
        "        \"strides\": 1,\n",
        "    },\n",
        "    {\n",
        "        \"kernel_size\": 5,\n",
        "        \"repeats\": 4,\n",
        "        \"filters_in\": 112,\n",
        "        \"filters_out\": 192,\n",
        "        \"expand_ratio\": 6,\n",
        "        \"id_skip\": True,\n",
        "        \"strides\": 2,\n",
        "    },\n",
        "    {\n",
        "        \"kernel_size\": 3,\n",
        "        \"repeats\": 1,\n",
        "        \"filters_in\": 192,\n",
        "        \"filters_out\": 320,\n",
        "        \"expand_ratio\": 6,\n",
        "        \"id_skip\": True,\n",
        "        \"strides\": 1,\n",
        "    },\n",
        "]\n",
        "\n",
        "CONV_KERNEL_INITIALIZER = {\n",
        "    \"class_name\": \"VarianceScaling\",\n",
        "    \"config\": {\"scale\": 2.0, \"mode\": \"fan_out\", \"distribution\": \"truncated_normal\"},\n",
        "}\n",
        "\n",
        "DENSE_KERNEL_INITIALIZER = {\n",
        "    \"class_name\": \"VarianceScaling\",\n",
        "    \"config\": {\"scale\": 1.0 / 3.0, \"mode\": \"fan_out\", \"distribution\": \"uniform\"},\n",
        "}\n",
        "\n",
        "WEIGHTS_BASE_URL = (\n",
        "    \"https://github.com/sebastian-sz/efficientnet-lite-keras/releases/download/v1.0/\"\n",
        ")\n",
        "WEIGHTS_HASHES = {\n",
        "    \"efficientnet_lite_b0.h5\": \"8236b3edc4bd9019865ffd8290cf0b05\",\n",
        "    \"efficientnet_lite_b0_notop.h5\": \"d7a91a3c0e7f0bdffe67f599ebe511cd\",\n",
        "    \"efficientnet_lite_b1.h5\": \"8684671aebaf23b7fb03a0e10fbea162\",\n",
        "    \"efficientnet_lite_b1_notop.h5\": \"9fece5f941068bf189913cd5b42439bf\",\n",
        "    \"efficientnet_lite_b2.h5\": \"e3c7128846d3297734ec7465cb171989\",\n",
        "    \"efficientnet_lite_b2_notop.h5\": \"d0b7d56925cc4b82e30a45570766b32e\",\n",
        "    \"efficientnet_lite_b3.h5\": \"f6a5df9c63310630a5a7f9bcc45c9598\",\n",
        "    \"efficientnet_lite_b3_notop.h5\": \"7ae45c1c6cb1d2ba5193d131984a2225\",\n",
        "    \"efficientnet_lite_b4.h5\": \"25b9276e711f82443523df227aa32cad\",\n",
        "    \"efficientnet_lite_b4_notop.h5\": \"8939585df7b434869381f7786dc60290\",\n",
        "}\n",
        "\n",
        "\n",
        "def EfficientNetLite(\n",
        "    width_coefficient,\n",
        "    depth_coefficient,\n",
        "    default_size,\n",
        "    dropout_rate=0.2,\n",
        "    drop_connect_rate=0.2,\n",
        "    depth_divisor=8,\n",
        "    blocks_args=\"default\",\n",
        "    model_name=\"efficientnet\",\n",
        "    include_top=True,\n",
        "    weights=\"imagenet\",\n",
        "    input_tensor=None,\n",
        "    input_shape=None,\n",
        "    pooling=None,\n",
        "    classes=1000,\n",
        "    classifier_activation=\"softmax\",\n",
        "):\n",
        "    \"\"\"\n",
        "    Instantiate the EfficientNet architecture using given scaling coefficients.\n",
        "\n",
        "    Args:\n",
        "        width_coefficient: float, scaling coefficient for network width.\n",
        "        depth_coefficient: float, scaling coefficient for network depth.\n",
        "        default_size: integer, default input image size.\n",
        "        dropout_rate: float, dropout rate before final classifier layer.\n",
        "        drop_connect_rate: float, dropout rate at skip connections.\n",
        "        depth_divisor:  integer, a unit of network width.\n",
        "        blocks_args: list of dicts, parameters to construct block modules.\n",
        "        model_name: string, model name.\n",
        "        include_top: whether to include the fully-connected\n",
        "            layer at the top of the network.\n",
        "        weights: 'imagenet' or path to weights file.\n",
        "        input_tensor: optional Keras tensor\n",
        "            (i.e. output of `layers.Input()`)\n",
        "            to use as image input for the model.\n",
        "        input_shape: optional shape tuple, only to be specified\n",
        "            if `include_top` is False.\n",
        "            It should have exactly 3 inputs channels.\n",
        "        pooling: when `include_top` is `False`.\n",
        "            - `None` means that the output of the model will be\n",
        "                the 4D tensor output of the\n",
        "                last convolutional layer.\n",
        "            - `avg` means that global average pooling\n",
        "                will be applied to the output of the\n",
        "                last convolutional layer, and thus\n",
        "                the output of the model will be a 2D tensor.\n",
        "            - `max` means that global max pooling will\n",
        "                be applied.\n",
        "        classes: optional number of classes to classify images\n",
        "            into, only to be specified if `include_top` is True, and\n",
        "            if no `weights` argument is specified.\n",
        "        classifier_activation: A `str` or callable.\n",
        "            The activation function to use on the \"top\" layer. Ignored unless\n",
        "            `include_top=True`. Set`classifier_activation=None`\n",
        "            to return the logits of the \"top\" layer.\n",
        "\n",
        "    Returns:\n",
        "        A `keras.Model` instance.\n",
        "\n",
        "    Raises:\n",
        "        ValueError: in case of invalid argument for `weights`,\n",
        "            or invalid input shape.\n",
        "        ValueError: if `classifier_activation` is not `softmax` or `None` when\n",
        "            using a pretrained top layer.\n",
        "    \"\"\"\n",
        "    if blocks_args == \"default\":\n",
        "        blocks_args = DEFAULT_BLOCKS_ARGS\n",
        "\n",
        "    if not (weights in {\"imagenet\", None} or file_io.file_exists_v2(weights)):\n",
        "        raise ValueError(\n",
        "            \"The `weights` argument should be either \"\n",
        "            \"`None` (random initialization), `imagenet` \"\n",
        "            \"(pre-training on ImageNet), \"\n",
        "            \"or the path to the weights file to be loaded.\"\n",
        "        )\n",
        "\n",
        "    if weights == \"imagenet\" and include_top and classes != 1000:\n",
        "        raise ValueError(\n",
        "            'If using `weights` as `\"imagenet\"` with `include_top`'\n",
        "            \" as true, `classes` should be 1000\"\n",
        "        )\n",
        "\n",
        "    # Determine proper input shape\n",
        "    input_shape = imagenet_utils.obtain_input_shape(\n",
        "        input_shape,\n",
        "        default_size=default_size,\n",
        "        min_size=32,\n",
        "        data_format=backend.image_data_format(),\n",
        "        require_flatten=include_top,\n",
        "        weights=weights,\n",
        "    )\n",
        "    if input_tensor is None:\n",
        "        img_input = layers.Input(shape=input_shape)\n",
        "    else:\n",
        "        if not backend.is_keras_tensor(input_tensor):\n",
        "            img_input = layers.Input(tensor=input_tensor, shape=input_shape)\n",
        "        else:\n",
        "            img_input = input_tensor\n",
        "\n",
        "    bn_axis = 3 if backend.image_data_format() == \"channels_last\" else 1\n",
        "\n",
        "    def round_filters(filters, divisor=depth_divisor):\n",
        "        \"\"\"Round number of filters based on depth multiplier.\"\"\"\n",
        "        filters *= width_coefficient\n",
        "        new_filters = max(divisor, int(filters + divisor / 2) // divisor * divisor)\n",
        "        # Make sure that round down does not go down by more than 10%.\n",
        "        if new_filters < 0.9 * filters:\n",
        "            new_filters += divisor\n",
        "        return int(new_filters)\n",
        "\n",
        "    def round_repeats(repeats):\n",
        "        \"\"\"Round number of repeats based on depth multiplier.\"\"\"\n",
        "        return int(math.ceil(depth_coefficient * repeats))\n",
        "\n",
        "    # Build stem\n",
        "    x = img_input\n",
        "\n",
        "    x = layers.ZeroPadding2D(\n",
        "        padding=imagenet_utils.correct_pad(x, 3), name=\"stem_conv_pad\"\n",
        "    )(x)\n",
        "    x = layers.Conv2D(\n",
        "        32,\n",
        "        3,\n",
        "        strides=2,\n",
        "        padding=\"valid\",\n",
        "        use_bias=False,\n",
        "        kernel_initializer=CONV_KERNEL_INITIALIZER,\n",
        "        name=\"stem_conv\",\n",
        "    )(x)\n",
        "    x = layers.BatchNormalization(axis=bn_axis, name=\"stem_bn\")(x)\n",
        "    x = layers.ReLU(max_value=6, name=\"stem_activation\")(x)\n",
        "\n",
        "    # Build blocks\n",
        "    blocks_args = copy.deepcopy(blocks_args)\n",
        "    b = 0\n",
        "    blocks = float(sum(args[\"repeats\"] for args in blocks_args))\n",
        "\n",
        "    for (i, args) in enumerate(blocks_args):\n",
        "        assert args[\"repeats\"] > 0\n",
        "        # Update block input and output filters based on depth multiplier.\n",
        "        args[\"filters_in\"] = round_filters(args[\"filters_in\"])\n",
        "        args[\"filters_out\"] = round_filters(args[\"filters_out\"])\n",
        "\n",
        "        if i == 0 or i == (len(blocks_args) - 1):\n",
        "            repeats = args.pop(\"repeats\")\n",
        "        else:\n",
        "            repeats = round_repeats(args.pop(\"repeats\"))\n",
        "\n",
        "        for j in range(repeats):\n",
        "            # The first block needs to take care of stride and filter size increase.\n",
        "            if j > 0:\n",
        "                args[\"strides\"] = 1\n",
        "                args[\"filters_in\"] = args[\"filters_out\"]\n",
        "            x = block(\n",
        "                x,\n",
        "                drop_connect_rate * b / blocks,\n",
        "                name=\"block{}{}_\".format(i + 1, chr(j + 97)),\n",
        "                **args,\n",
        "            )\n",
        "\n",
        "            b += 1\n",
        "    # Build top\n",
        "    x = layers.Conv2D(\n",
        "        1280,\n",
        "        1,\n",
        "        padding=\"same\",\n",
        "        use_bias=False,\n",
        "        kernel_initializer=CONV_KERNEL_INITIALIZER,\n",
        "        name=\"top_conv\",\n",
        "    )(x)\n",
        "    x = layers.BatchNormalization(axis=bn_axis, name=\"top_bn\")(x)\n",
        "    x = layers.ReLU(max_value=6, name=\"top_activation\")(x)\n",
        "\n",
        "    if include_top:\n",
        "        x = layers.GlobalAveragePooling2D(name=\"avg_pool\")(x)\n",
        "        if dropout_rate > 0:\n",
        "            x = layers.Dropout(dropout_rate, name=\"top_dropout\")(x)\n",
        "        imagenet_utils.validate_activation(classifier_activation, weights)\n",
        "        x = layers.Dense(\n",
        "            classes,\n",
        "            activation=classifier_activation,\n",
        "            kernel_initializer=DENSE_KERNEL_INITIALIZER,\n",
        "            name=\"predictions\",\n",
        "        )(x)\n",
        "    else:\n",
        "        if pooling == \"avg\":\n",
        "            x = layers.GlobalAveragePooling2D(name=\"avg_pool\")(x)\n",
        "        elif pooling == \"max\":\n",
        "            x = layers.GlobalMaxPooling2D(name=\"max_pool\")(x)\n",
        "\n",
        "    # Ensure that the model takes into account\n",
        "    # any potential predecessors of `input_tensor`.\n",
        "    if input_tensor is not None:\n",
        "        inputs = layer_utils.get_source_inputs(input_tensor)\n",
        "    else:\n",
        "        inputs = img_input\n",
        "\n",
        "    # Create model.\n",
        "    model = tf.keras.Model(inputs, x, name=model_name)\n",
        "\n",
        "    # Load weights.\n",
        "    if weights == \"imagenet\":\n",
        "        model_variant = \"efficientnet_lite_b\" + model_name[-1]\n",
        "\n",
        "        if not include_top:\n",
        "            model_variant += \"_notop\"\n",
        "\n",
        "        filename = f\"{model_variant}.h5\"\n",
        "        download_url = WEIGHTS_BASE_URL + filename\n",
        "        weights_path = tf.keras.utils.get_file(\n",
        "            fname=filename,\n",
        "            origin=download_url,\n",
        "            cache_subdir=\"models\",\n",
        "            file_hash=WEIGHTS_HASHES[filename],\n",
        "        )\n",
        "        model.load_weights(weights_path)\n",
        "\n",
        "    elif weights is not None:\n",
        "        model.load_weights(weights)\n",
        "\n",
        "    return model\n",
        "\n",
        "\n",
        "def block(\n",
        "    inputs,\n",
        "    drop_rate=0.0,\n",
        "    name=\"\",\n",
        "    filters_in=32,\n",
        "    filters_out=16,\n",
        "    kernel_size=3,\n",
        "    strides=1,\n",
        "    expand_ratio=1,\n",
        "    id_skip=True,\n",
        "):\n",
        "    \"\"\"\n",
        "    Create an inverted residual block.\n",
        "\n",
        "    Args:\n",
        "        inputs: input tensor.\n",
        "        drop_rate: float between 0 and 1, fraction of the input units to drop.\n",
        "        name: string, block label.\n",
        "        filters_in: integer, the number of input filters.\n",
        "        filters_out: integer, the number of output filters.\n",
        "        kernel_size: integer, the dimension of the convolution window.\n",
        "        strides: integer, the stride of the convolution.\n",
        "        expand_ratio: integer, scaling coefficient for the input filters.\n",
        "        id_skip: boolean.\n",
        "\n",
        "    Returns:\n",
        "        output tensor for the block.\n",
        "    \"\"\"\n",
        "    bn_axis = 3 if backend.image_data_format() == \"channels_last\" else 1\n",
        "    # Expansion phase\n",
        "    filters = filters_in * expand_ratio\n",
        "    if expand_ratio != 1:\n",
        "        x = layers.Conv2D(\n",
        "            filters,\n",
        "            1,\n",
        "            padding=\"same\",\n",
        "            use_bias=False,\n",
        "            kernel_initializer=CONV_KERNEL_INITIALIZER,\n",
        "            name=name + \"expand_conv\",\n",
        "        )(inputs)\n",
        "        x = layers.BatchNormalization(axis=bn_axis, name=name + \"expand_bn\")(x)\n",
        "        x = layers.ReLU(max_value=6, name=name + \"expand_activation\")(x)\n",
        "    else:\n",
        "        x = inputs\n",
        "\n",
        "    # Depthwise Convolution\n",
        "    if strides == 2:\n",
        "        x = layers.ZeroPadding2D(\n",
        "            padding=imagenet_utils.correct_pad(x, kernel_size), name=name + \"dwconv_pad\"\n",
        "        )(x)\n",
        "        conv_pad = \"valid\"\n",
        "    else:\n",
        "        conv_pad = \"same\"\n",
        "    x = layers.DepthwiseConv2D(\n",
        "        kernel_size,\n",
        "        strides=strides,\n",
        "        padding=conv_pad,\n",
        "        use_bias=False,\n",
        "        depthwise_initializer=CONV_KERNEL_INITIALIZER,\n",
        "        name=name + \"dwconv\",\n",
        "    )(x)\n",
        "    x = layers.BatchNormalization(axis=bn_axis, name=name + \"bn\")(x)\n",
        "    x = layers.ReLU(max_value=6, name=name + \"activation\")(x)\n",
        "\n",
        "    # Skip SE\n",
        "\n",
        "    # Output phase\n",
        "    x = layers.Conv2D(\n",
        "        filters_out,\n",
        "        1,\n",
        "        padding=\"same\",\n",
        "        use_bias=False,\n",
        "        kernel_initializer=CONV_KERNEL_INITIALIZER,\n",
        "        name=name + \"project_conv\",\n",
        "    )(x)\n",
        "    x = layers.BatchNormalization(axis=bn_axis, name=name + \"project_bn\")(x)\n",
        "    if id_skip and strides == 1 and filters_in == filters_out:\n",
        "        if drop_rate > 0:\n",
        "            x = layers.Dropout(\n",
        "                drop_rate, noise_shape=(None, 1, 1, 1), name=name + \"drop\"\n",
        "            )(x)\n",
        "        x = layers.add([x, inputs], name=name + \"add\")\n",
        "    return x\n",
        "\n",
        "\n",
        "def EfficientNetLiteB0mod(\n",
        "    include_top=False,\n",
        "    weights=\"imagenet\",\n",
        "    input_tensor=None,\n",
        "    input_shape=None,\n",
        "    pooling=None,\n",
        "    classes=1000,\n",
        "    classifier_activation=\"softmax\",\n",
        "    **kwargs,\n",
        "):\n",
        "    \"\"\"Create Efficient Net Lite B0 variant.\"\"\"\n",
        "    return EfficientNetLite(\n",
        "        0.5,\n",
        "        0.5,\n",
        "        224,\n",
        "        0.1,\n",
        "        model_name=\"efficientnetlite0\",\n",
        "        include_top=include_top,\n",
        "        weights=weights,\n",
        "        input_tensor=input_tensor,\n",
        "        input_shape=input_shape,\n",
        "        pooling=pooling,\n",
        "        classes=classes,\n",
        "        classifier_activation=classifier_activation,\n",
        "        **kwargs,\n",
        "    )"
      ],
      "metadata": {
        "id": "PJqNnHBQQ_Yb"
      },
      "execution_count": 24,
      "outputs": []
    },
    {
      "cell_type": "markdown",
      "source": [
        "Learning rate scheduling."
      ],
      "metadata": {
        "id": "lw1ZScaFhLKI"
      }
    },
    {
      "cell_type": "code",
      "execution_count": 25,
      "metadata": {
        "id": "AD1GZwFOY2nb",
        "colab": {
          "base_uri": "https://localhost:8080/",
          "height": 282
        },
        "outputId": "09e52e0c-3d8c-44d4-991f-871a16d4ecc5"
      },
      "outputs": [
        {
          "output_type": "stream",
          "name": "stdout",
          "text": [
            "Learning rate per epoch:\n"
          ]
        },
        {
          "output_type": "display_data",
          "data": {
            "text/plain": [
              "<Figure size 432x288 with 1 Axes>"
            ],
            "image/png": "[encoded data removed]"
          },
          "metadata": {
            "needs_background": "light"
          }
        }
      ],
      "source": [
        "start_lr = 0.005 #*256/batch_size\n",
        "alpha = 0.0001\n",
        "decay_steps = epochs\n",
        "\n",
        "def lr_scheduler(epoch, start_lr):\n",
        "    if epoch < 1:\n",
        "      lr = (start_lr-0.001)/1*epoch+0.001\n",
        "    else:\n",
        "      cosine_decay = 0.5 * (1 + tf.cos(np.pi * epoch / (decay_steps)))\n",
        "      decayed = (1 - alpha) * cosine_decay + alpha\n",
        "      lr = start_lr * decayed\n",
        "    return lr\n",
        "\n",
        "lr_callback = tf.keras.callbacks.LearningRateScheduler(lambda epoch: lr_scheduler(epoch, start_lr), verbose=1)\n",
        "\n",
        "#Plot learning rate\n",
        "\n",
        "x_range = np.arange(epochs)\n",
        "y = [lr_scheduler(x, start_lr) for x in x_range]\n",
        "plt.plot(x_range, y)\n",
        "print('Learning rate per epoch:')"
      ]
    },
    {
      "cell_type": "markdown",
      "source": [
        "Create and compile the model."
      ],
      "metadata": {
        "id": "xlX7VNRGhPcT"
      }
    },
    {
      "cell_type": "code",
      "execution_count": 26,
      "metadata": {
        "id": "U5zbwXZFdqWg",
        "colab": {
          "base_uri": "https://localhost:8080/"
        },
        "outputId": "76c4b38c-ea58-4c00-ca65-5455b1bfb2f4"
      },
      "outputs": [
        {
          "output_type": "stream",
          "name": "stderr",
          "text": [
            "/usr/local/lib/python3.7/dist-packages/ipykernel_launcher.py:198: UserWarning: This model usually expects 1 or 3 input channels. However, it was passed an input_shape with 150 input channels.\n"
          ]
        },
        {
          "output_type": "stream",
          "name": "stdout",
          "text": [
            "Model: \"sequential\"\n",
            "_________________________________________________________________\n",
            " Layer (type)                Output Shape              Param #   \n",
            "=================================================================\n",
            " efficientnetlite0 (Function  (None, 1, 1, 1280)       728896    \n",
            " al)                                                             \n",
            "                                                                 \n",
            " flatten (Flatten)           (None, 1280)              0         \n",
            "                                                                 \n",
            " dense (Dense)               (None, 4)                 5124      \n",
            "                                                                 \n",
            "=================================================================\n",
            "Total params: 734,020\n",
            "Trainable params: 719,780\n",
            "Non-trainable params: 14,240\n",
            "_________________________________________________________________\n"
          ]
        }
      ],
      "source": [
        "network_name = 'EfficientNetLiteB0mod12_GPU_32px_cross_validation'\n",
        "\n",
        "base_model = EfficientNetLiteB0mod(input_shape=(target_image_size, target_image_size, 150),weights=None)\n",
        "model = tf.keras.Sequential([base_model,  \n",
        "                                layers.Flatten(),\n",
        "                                    layers.Dense(4, kernel_initializer=tf.keras.initializers.GlorotUniform(seed=1509))])\n",
        "\n",
        "def custom_metric(y_true, y_pred):\n",
        "    y_true = tf.multiply(y_true, max_gt_values)\n",
        "    y_pred = tf.multiply(y_pred, max_gt_values)\n",
        "    mse = tf.reduce_mean((y_true-y_pred)**2, axis=0)\n",
        "    score = tf.reduce_mean(mse/mse_baseline)\n",
        "\n",
        "    return score\n",
        "\n",
        "opt = keras.optimizers.Adam(clipnorm=1.)\n",
        "model.compile(\n",
        "    optimizer=opt,\n",
        "    loss='mse',\n",
        "    metrics=[custom_metric],\n",
        "  )\n",
        "\n",
        "model.summary()"
      ]
    },
    {
      "cell_type": "markdown",
      "source": [
        "Define saving paths."
      ],
      "metadata": {
        "id": "1adESxVahbMi"
      }
    },
    {
      "cell_type": "code",
      "execution_count": 27,
      "metadata": {
        "id": "ATStBRFAa5Pb",
        "colab": {
          "base_uri": "https://localhost:8080/"
        },
        "outputId": "90284786-36d8-494d-d182-836adfa1952f"
      },
      "outputs": [
        {
          "output_type": "stream",
          "name": "stdout",
          "text": [
            "/content/EfficientNetLiteB0mod12_GPU_32px_cross_validation/model_test_partition_5\n",
            "/content/EfficientNetLiteB0mod12_GPU_32px_cross_validation/predictions_test_partition_5.csv\n"
          ]
        }
      ],
      "source": [
        "base_path = '/content/'\n",
        "\n",
        "checkpoint_filepath = base_path + network_name + '/model_test_partition_' + str(test_partition_id) \n",
        "predictions_filepath = base_path + network_name + '/predictions_test_partition_' + str(test_partition_id) + '.csv'\n",
        "\n",
        "print(checkpoint_filepath)\n",
        "print(predictions_filepath)"
      ]
    },
    {
      "cell_type": "markdown",
      "metadata": {
        "id": "nwaNDfdvUUi0"
      },
      "source": [
        "Train the model."
      ]
    },
    {
      "cell_type": "code",
      "source": [
        "History = model.fit(train_data, epochs=epochs, callbacks=[lr_callback], validation_data=val_data)"
      ],
      "metadata": {
        "colab": {
          "base_uri": "https://localhost:8080/"
        },
        "id": "_nXP6USqbXmJ",
        "outputId": "a8608144-cf49-4387-eff4-bad7be47e86d"
      },
      "execution_count": null,
      "outputs": [
        {
          "output_type": "stream",
          "name": "stdout",
          "text": [
            "\n",
            "Epoch 1: LearningRateScheduler setting learning rate to 0.001.\n",
            "Epoch 1/400\n",
            "43/43 [==============================] - 11s 132ms/step - loss: 0.4275 - custom_metric: 330.4252 - val_loss: 0.1390 - val_custom_metric: 188.7691 - lr: 0.0010\n",
            "\n",
            "Epoch 2: LearningRateScheduler setting learning rate to 0.004999923054128885.\n",
            "Epoch 2/400\n",
            "43/43 [==============================] - 6s 131ms/step - loss: 0.3713 - custom_metric: 313.3016 - val_loss: 0.0726 - val_custom_metric: 39.9877 - lr: 0.0050\n",
            "\n",
            "Epoch 3: LearningRateScheduler setting learning rate to 0.004999691620469093.\n",
            "Epoch 3/400\n",
            "43/43 [==============================] - 5s 120ms/step - loss: 0.0426 - custom_metric: 29.5092 - val_loss: 0.0078 - val_custom_metric: 1.5548 - lr: 0.0050\n",
            "\n",
            "Epoch 4: LearningRateScheduler setting learning rate to 0.0049993060529232025.\n",
            "Epoch 4/400\n",
            "43/43 [==============================] - 5s 119ms/step - loss: 0.0315 - custom_metric: 15.6672 - val_loss: 0.0061 - val_custom_metric: 1.8952 - lr: 0.0050\n",
            "\n",
            "Epoch 5: LearningRateScheduler setting learning rate to 0.0049987658858299255.\n",
            "Epoch 5/400\n",
            "43/43 [==============================] - 5s 119ms/step - loss: 0.0308 - custom_metric: 12.8712 - val_loss: 0.0103 - val_custom_metric: 13.4435 - lr: 0.0050\n",
            "\n",
            "Epoch 6: LearningRateScheduler setting learning rate to 0.004998072516173124.\n",
            "Epoch 6/400\n",
            "43/43 [==============================] - 5s 120ms/step - loss: 0.0310 - custom_metric: 19.4930 - val_loss: 0.0147 - val_custom_metric: 6.1940 - lr: 0.0050\n",
            "\n",
            "Epoch 7: LearningRateScheduler setting learning rate to 0.004997225012630224.\n",
            "Epoch 7/400\n",
            "43/43 [==============================] - 5s 121ms/step - loss: 0.0299 - custom_metric: 16.3808 - val_loss: 0.0129 - val_custom_metric: 2.2833 - lr: 0.0050\n",
            "\n",
            "Epoch 8: LearningRateScheduler setting learning rate to 0.004996222909539938.\n",
            "Epoch 8/400\n",
            "43/43 [==============================] - 5s 121ms/step - loss: 0.0308 - custom_metric: 14.5696 - val_loss: 0.0211 - val_custom_metric: 7.7808 - lr: 0.0050\n",
            "\n",
            "Epoch 9: LearningRateScheduler setting learning rate to 0.00499506713822484.\n",
            "Epoch 9/400\n",
            "43/43 [==============================] - 5s 122ms/step - loss: 0.0278 - custom_metric: 17.9545 - val_loss: 0.0222 - val_custom_metric: 10.2873 - lr: 0.0050\n",
            "\n",
            "Epoch 10: LearningRateScheduler setting learning rate to 0.004993757698684931.\n",
            "Epoch 10/400\n",
            "43/43 [==============================] - 5s 121ms/step - loss: 0.0297 - custom_metric: 17.0047 - val_loss: 0.0425 - val_custom_metric: 69.1277 - lr: 0.0050\n",
            "\n",
            "Epoch 11: LearningRateScheduler setting learning rate to 0.004992294125258923.\n",
            "Epoch 11/400\n",
            "43/43 [==============================] - 5s 121ms/step - loss: 0.0228 - custom_metric: 11.2444 - val_loss: 0.0280 - val_custom_metric: 5.5287 - lr: 0.0050\n",
            "\n",
            "Epoch 12: LearningRateScheduler setting learning rate to 0.004990676883608103.\n",
            "Epoch 12/400\n",
            "43/43 [==============================] - 5s 121ms/step - loss: 0.0182 - custom_metric: 4.1961 - val_loss: 0.0105 - val_custom_metric: 2.1000 - lr: 0.0050\n",
            "\n",
            "Epoch 13: LearningRateScheduler setting learning rate to 0.0049889059737324715.\n",
            "Epoch 13/400\n",
            "43/43 [==============================] - 5s 121ms/step - loss: 0.0221 - custom_metric: 12.4961 - val_loss: 0.0243 - val_custom_metric: 35.2862 - lr: 0.0050\n",
            "\n",
            "Epoch 14: LearningRateScheduler setting learning rate to 0.004986981861293316.\n",
            "Epoch 14/400\n",
            "43/43 [==============================] - 5s 125ms/step - loss: 0.0246 - custom_metric: 11.6357 - val_loss: 0.0130 - val_custom_metric: 11.3461 - lr: 0.0050\n",
            "\n",
            "Epoch 15: LearningRateScheduler setting learning rate to 0.0049849036149680614.\n",
            "Epoch 15/400\n",
            "43/43 [==============================] - 5s 121ms/step - loss: 0.0169 - custom_metric: 10.5896 - val_loss: 0.0168 - val_custom_metric: 8.0552 - lr: 0.0050\n",
            "\n",
            "Epoch 16: LearningRateScheduler setting learning rate to 0.00498267263174057.\n",
            "Epoch 16/400\n",
            "43/43 [==============================] - 5s 123ms/step - loss: 0.0118 - custom_metric: 4.8317 - val_loss: 0.0081 - val_custom_metric: 6.2947 - lr: 0.0050\n",
            "\n",
            "Epoch 17: LearningRateScheduler setting learning rate to 0.004980288911610842.\n",
            "Epoch 17/400\n",
            "43/43 [==============================] - 5s 122ms/step - loss: 0.0147 - custom_metric: 3.2720 - val_loss: 0.0150 - val_custom_metric: 1.9153 - lr: 0.0050\n",
            "\n",
            "Epoch 18: LearningRateScheduler setting learning rate to 0.004977751523256302.\n",
            "Epoch 18/400\n",
            "43/43 [==============================] - 5s 123ms/step - loss: 0.0142 - custom_metric: 2.7484 - val_loss: 0.0045 - val_custom_metric: 0.7121 - lr: 0.0050\n",
            "\n",
            "Epoch 19: LearningRateScheduler setting learning rate to 0.004975061397999525.\n",
            "Epoch 19/400\n",
            "43/43 [==============================] - 7s 157ms/step - loss: 0.0134 - custom_metric: 3.1670 - val_loss: 0.0143 - val_custom_metric: 6.7995 - lr: 0.0050\n",
            "\n",
            "Epoch 20: LearningRateScheduler setting learning rate to 0.004972218535840511.\n",
            "Epoch 20/400\n",
            "43/43 [==============================] - 5s 123ms/step - loss: 0.0121 - custom_metric: 2.7664 - val_loss: 0.0107 - val_custom_metric: 3.0774 - lr: 0.0050\n",
            "\n",
            "Epoch 21: LearningRateScheduler setting learning rate to 0.004969223402440548.\n",
            "Epoch 21/400\n",
            "43/43 [==============================] - 5s 123ms/step - loss: 0.0119 - custom_metric: 2.5234 - val_loss: 0.0151 - val_custom_metric: 6.6363 - lr: 0.0050\n",
            "\n",
            "Epoch 22: LearningRateScheduler setting learning rate to 0.004966075997799635.\n",
            "Epoch 22/400\n",
            "43/43 [==============================] - 5s 124ms/step - loss: 0.0135 - custom_metric: 2.9407 - val_loss: 0.0326 - val_custom_metric: 27.8739 - lr: 0.0050\n",
            "\n",
            "Epoch 23: LearningRateScheduler setting learning rate to 0.00496277678757906.\n",
            "Epoch 23/400\n",
            "43/43 [==============================] - 5s 123ms/step - loss: 0.0124 - custom_metric: 2.6240 - val_loss: 0.0712 - val_custom_metric: 9.7823 - lr: 0.0050\n",
            "\n",
            "Epoch 24: LearningRateScheduler setting learning rate to 0.004959325771778822.\n",
            "Epoch 24/400\n",
            "43/43 [==============================] - 5s 124ms/step - loss: 0.0130 - custom_metric: 2.3195 - val_loss: 0.0445 - val_custom_metric: 6.7830 - lr: 0.0050\n",
            "\n",
            "Epoch 25: LearningRateScheduler setting learning rate to 0.004955722484737635.\n",
            "Epoch 25/400\n",
            "43/43 [==============================] - 5s 122ms/step - loss: 0.0121 - custom_metric: 2.7508 - val_loss: 0.0265 - val_custom_metric: 4.4427 - lr: 0.0050\n",
            "\n",
            "Epoch 26: LearningRateScheduler setting learning rate to 0.004951967857778072.\n",
            "Epoch 26/400\n",
            "43/43 [==============================] - 5s 124ms/step - loss: 0.0112 - custom_metric: 4.0785 - val_loss: 0.0089 - val_custom_metric: 3.8317 - lr: 0.0050\n",
            "\n",
            "Epoch 27: LearningRateScheduler setting learning rate to 0.004948061890900135.\n",
            "Epoch 27/400\n",
            "43/43 [==============================] - 5s 124ms/step - loss: 0.0111 - custom_metric: 2.5186 - val_loss: 0.0094 - val_custom_metric: 1.5044 - lr: 0.0049\n",
            "\n",
            "Epoch 28: LearningRateScheduler setting learning rate to 0.00494400504976511.\n",
            "Epoch 28/400\n",
            "43/43 [==============================] - 5s 122ms/step - loss: 0.0101 - custom_metric: 2.7963 - val_loss: 0.0354 - val_custom_metric: 6.6053 - lr: 0.0049\n",
            "\n",
            "Epoch 29: LearningRateScheduler setting learning rate to 0.004939797800034285.\n",
            "Epoch 29/400\n",
            "43/43 [==============================] - 5s 121ms/step - loss: 0.0140 - custom_metric: 2.5932 - val_loss: 0.0091 - val_custom_metric: 2.1787 - lr: 0.0049\n",
            "\n",
            "Epoch 30: LearningRateScheduler setting learning rate to 0.0049354396760463715.\n",
            "Epoch 30/400\n",
            "43/43 [==============================] - 5s 122ms/step - loss: 0.0128 - custom_metric: 3.2681 - val_loss: 0.0053 - val_custom_metric: 1.3488 - lr: 0.0049\n",
            "\n",
            "Epoch 31: LearningRateScheduler setting learning rate to 0.004930931609123945.\n",
            "Epoch 31/400\n",
            "43/43 [==============================] - 5s 122ms/step - loss: 0.0124 - custom_metric: 2.8412 - val_loss: 0.0046 - val_custom_metric: 0.7296 - lr: 0.0049\n",
            "\n",
            "Epoch 32: LearningRateScheduler setting learning rate to 0.004926273599267006.\n",
            "Epoch 32/400\n",
            "43/43 [==============================] - 5s 122ms/step - loss: 0.0107 - custom_metric: 1.8897 - val_loss: 0.0088 - val_custom_metric: 1.9000 - lr: 0.0049\n",
            "\n",
            "Epoch 33: LearningRateScheduler setting learning rate to 0.004921465180814266.\n",
            "Epoch 33/400\n",
            "43/43 [==============================] - 5s 122ms/step - loss: 0.0097 - custom_metric: 1.7283 - val_loss: 0.0068 - val_custom_metric: 1.2195 - lr: 0.0049\n",
            "\n",
            "Epoch 34: LearningRateScheduler setting learning rate to 0.004916508682072163.\n",
            "Epoch 34/400\n",
            "43/43 [==============================] - 5s 123ms/step - loss: 0.0104 - custom_metric: 2.1446 - val_loss: 0.0054 - val_custom_metric: 1.7738 - lr: 0.0049\n",
            "\n",
            "Epoch 35: LearningRateScheduler setting learning rate to 0.004911402240395546.\n",
            "Epoch 35/400\n",
            "43/43 [==============================] - 5s 123ms/step - loss: 0.0097 - custom_metric: 1.7859 - val_loss: 0.0039 - val_custom_metric: 0.7442 - lr: 0.0049\n",
            "\n",
            "Epoch 36: LearningRateScheduler setting learning rate to 0.004906147718429565.\n",
            "Epoch 36/400\n",
            "43/43 [==============================] - 5s 122ms/step - loss: 0.0090 - custom_metric: 1.5764 - val_loss: 0.0049 - val_custom_metric: 1.1460 - lr: 0.0049\n",
            "\n",
            "Epoch 37: LearningRateScheduler setting learning rate to 0.004900744184851646.\n",
            "Epoch 37/400\n",
            "43/43 [==============================] - 5s 122ms/step - loss: 0.0091 - custom_metric: 1.8810 - val_loss: 0.0048 - val_custom_metric: 2.3354 - lr: 0.0049\n",
            "\n",
            "Epoch 38: LearningRateScheduler setting learning rate to 0.0048951925709843636.\n",
            "Epoch 38/400\n",
            "43/43 [==============================] - 5s 121ms/step - loss: 0.0100 - custom_metric: 1.7145 - val_loss: 0.0040 - val_custom_metric: 0.7429 - lr: 0.0049\n",
            "\n",
            "Epoch 39: LearningRateScheduler setting learning rate to 0.004889493342489004.\n",
            "Epoch 39/400\n",
            "43/43 [==============================] - 5s 119ms/step - loss: 0.0092 - custom_metric: 1.7206 - val_loss: 0.0079 - val_custom_metric: 1.6406 - lr: 0.0049\n",
            "\n",
            "Epoch 40: LearningRateScheduler setting learning rate to 0.0048836469650268555.\n",
            "Epoch 40/400\n",
            "43/43 [==============================] - 5s 122ms/step - loss: 0.0185 - custom_metric: 9.0008 - val_loss: 0.0309 - val_custom_metric: 7.1223 - lr: 0.0049\n",
            "\n",
            "Epoch 41: LearningRateScheduler setting learning rate to 0.0048776534385979176.\n",
            "Epoch 41/400\n",
            "43/43 [==============================] - 5s 123ms/step - loss: 0.0119 - custom_metric: 3.2344 - val_loss: 0.0142 - val_custom_metric: 9.0476 - lr: 0.0049\n",
            "\n",
            "Epoch 42: LearningRateScheduler setting learning rate to 0.004871513228863478.\n",
            "Epoch 42/400\n",
            "43/43 [==============================] - 5s 122ms/step - loss: 0.0114 - custom_metric: 2.5634 - val_loss: 0.0065 - val_custom_metric: 3.4788 - lr: 0.0049\n",
            "\n",
            "Epoch 43: LearningRateScheduler setting learning rate to 0.004865226801484823.\n",
            "Epoch 43/400\n",
            "43/43 [==============================] - 5s 122ms/step - loss: 0.0091 - custom_metric: 1.8129 - val_loss: 0.0065 - val_custom_metric: 3.0537 - lr: 0.0049\n",
            "\n",
            "Epoch 44: LearningRateScheduler setting learning rate to 0.004858794622123241.\n",
            "Epoch 44/400\n",
            "43/43 [==============================] - 5s 122ms/step - loss: 0.0086 - custom_metric: 1.7914 - val_loss: 0.0060 - val_custom_metric: 3.8305 - lr: 0.0049\n",
            "\n",
            "Epoch 45: LearningRateScheduler setting learning rate to 0.004852216690778732.\n",
            "Epoch 45/400\n",
            "43/43 [==============================] - 5s 120ms/step - loss: 0.0089 - custom_metric: 2.3093 - val_loss: 0.0050 - val_custom_metric: 0.8902 - lr: 0.0049\n",
            "\n",
            "Epoch 46: LearningRateScheduler setting learning rate to 0.0048454939387738705.\n",
            "Epoch 46/400\n",
            "43/43 [==============================] - 5s 124ms/step - loss: 0.0083 - custom_metric: 1.4422 - val_loss: 0.0042 - val_custom_metric: 0.7533 - lr: 0.0048\n",
            "\n",
            "Epoch 47: LearningRateScheduler setting learning rate to 0.004838626366108656.\n",
            "Epoch 47/400\n",
            "43/43 [==============================] - 5s 122ms/step - loss: 0.0079 - custom_metric: 1.4012 - val_loss: 0.0069 - val_custom_metric: 2.6612 - lr: 0.0048\n",
            "\n",
            "Epoch 48: LearningRateScheduler setting learning rate to 0.004831614438444376.\n",
            "Epoch 48/400\n",
            "43/43 [==============================] - 5s 121ms/step - loss: 0.0082 - custom_metric: 1.6096 - val_loss: 0.0049 - val_custom_metric: 0.9073 - lr: 0.0048\n",
            "\n",
            "Epoch 49: LearningRateScheduler setting learning rate to 0.004824458621442318.\n",
            "Epoch 49/400\n",
            "43/43 [==============================] - 5s 121ms/step - loss: 0.0083 - custom_metric: 1.5498 - val_loss: 0.0045 - val_custom_metric: 0.7068 - lr: 0.0048\n",
            "\n",
            "Epoch 50: LearningRateScheduler setting learning rate to 0.004817159380763769.\n",
            "Epoch 50/400\n",
            "43/43 [==============================] - 5s 121ms/step - loss: 0.0081 - custom_metric: 1.2697 - val_loss: 0.0096 - val_custom_metric: 3.2282 - lr: 0.0048\n",
            "\n",
            "Epoch 51: LearningRateScheduler setting learning rate to 0.0048097181133925915.\n",
            "Epoch 51/400\n",
            "43/43 [==============================] - 5s 121ms/step - loss: 0.0079 - custom_metric: 1.5136 - val_loss: 0.0065 - val_custom_metric: 0.8390 - lr: 0.0048\n",
            "\n",
            "Epoch 52: LearningRateScheduler setting learning rate to 0.004802133422344923.\n",
            "Epoch 52/400\n",
            "43/43 [==============================] - 5s 122ms/step - loss: 0.0078 - custom_metric: 1.2671 - val_loss: 0.0049 - val_custom_metric: 0.8838 - lr: 0.0048\n",
            "\n",
            "Epoch 53: LearningRateScheduler setting learning rate to 0.004794407170265913.\n",
            "Epoch 53/400\n",
            "43/43 [==============================] - 7s 162ms/step - loss: 0.0076 - custom_metric: 1.2697 - val_loss: 0.0090 - val_custom_metric: 1.4394 - lr: 0.0048\n",
            "\n",
            "Epoch 54: LearningRateScheduler setting learning rate to 0.0047865393571555614.\n",
            "Epoch 54/400\n",
            "43/43 [==============================] - 5s 121ms/step - loss: 0.0081 - custom_metric: 1.4482 - val_loss: 0.0057 - val_custom_metric: 0.8160 - lr: 0.0048\n",
            "\n",
            "Epoch 55: LearningRateScheduler setting learning rate to 0.004778529983013868.\n",
            "Epoch 55/400\n",
            "43/43 [==============================] - 5s 119ms/step - loss: 0.0077 - custom_metric: 1.1712 - val_loss: 0.0053 - val_custom_metric: 0.9399 - lr: 0.0048\n",
            "\n",
            "Epoch 56: LearningRateScheduler setting learning rate to 0.004770380910485983.\n",
            "Epoch 56/400\n",
            "43/43 [==============================] - 5s 121ms/step - loss: 0.0076 - custom_metric: 1.2332 - val_loss: 0.0046 - val_custom_metric: 1.0118 - lr: 0.0048\n",
            "\n",
            "Epoch 57: LearningRateScheduler setting learning rate to 0.004762091673910618.\n",
            "Epoch 57/400\n",
            "43/43 [==============================] - 5s 120ms/step - loss: 0.0076 - custom_metric: 1.2097 - val_loss: 0.0057 - val_custom_metric: 1.0153 - lr: 0.0048\n",
            "\n",
            "Epoch 58: LearningRateScheduler setting learning rate to 0.0047536627389490604.\n",
            "Epoch 58/400\n",
            "43/43 [==============================] - 5s 122ms/step - loss: 0.0080 - custom_metric: 1.3155 - val_loss: 0.0048 - val_custom_metric: 0.6888 - lr: 0.0048\n",
            "\n",
            "Epoch 59: LearningRateScheduler setting learning rate to 0.004745094571262598.\n",
            "Epoch 59/400\n",
            "43/43 [==============================] - 5s 120ms/step - loss: 0.0078 - custom_metric: 1.2109 - val_loss: 0.0054 - val_custom_metric: 1.0712 - lr: 0.0047\n",
            "\n",
            "Epoch 60: LearningRateScheduler setting learning rate to 0.004736387636512518.\n",
            "Epoch 60/400\n",
            "43/43 [==============================] - 5s 120ms/step - loss: 0.0073 - custom_metric: 1.2169 - val_loss: 0.0046 - val_custom_metric: 0.8967 - lr: 0.0047\n",
            "\n",
            "Epoch 61: LearningRateScheduler setting learning rate to 0.004727543331682682.\n",
            "Epoch 61/400\n",
            "43/43 [==============================] - 5s 122ms/step - loss: 0.0078 - custom_metric: 1.4221 - val_loss: 0.0058 - val_custom_metric: 1.4951 - lr: 0.0047\n",
            "\n",
            "Epoch 62: LearningRateScheduler setting learning rate to 0.00471856165677309.\n",
            "Epoch 62/400\n",
            "43/43 [==============================] - 5s 123ms/step - loss: 0.0078 - custom_metric: 1.3028 - val_loss: 0.0043 - val_custom_metric: 0.9213 - lr: 0.0047\n",
            "\n",
            "Epoch 63: LearningRateScheduler setting learning rate to 0.0047094435431063175.\n",
            "Epoch 63/400\n",
            "43/43 [==============================] - 5s 120ms/step - loss: 0.0078 - custom_metric: 1.3340 - val_loss: 0.0048 - val_custom_metric: 0.8152 - lr: 0.0047\n",
            "\n",
            "Epoch 64: LearningRateScheduler setting learning rate to 0.004700188059359789.\n",
            "Epoch 64/400\n",
            "43/43 [==============================] - 5s 121ms/step - loss: 0.0073 - custom_metric: 1.1698 - val_loss: 0.0049 - val_custom_metric: 1.0812 - lr: 0.0047\n",
            "\n",
            "Epoch 65: LearningRateScheduler setting learning rate to 0.004690797999501228.\n",
            "Epoch 65/400\n",
            "43/43 [==============================] - 5s 120ms/step - loss: 0.0073 - custom_metric: 1.1412 - val_loss: 0.0044 - val_custom_metric: 0.6625 - lr: 0.0047\n",
            "\n",
            "Epoch 66: LearningRateScheduler setting learning rate to 0.004681271966546774.\n",
            "Epoch 66/400\n",
            "43/43 [==============================] - 5s 122ms/step - loss: 0.0073 - custom_metric: 1.1424 - val_loss: 0.0041 - val_custom_metric: 0.6722 - lr: 0.0047\n",
            "\n",
            "Epoch 67: LearningRateScheduler setting learning rate to 0.004671611823141575.\n",
            "Epoch 67/400\n",
            "43/43 [==============================] - 5s 121ms/step - loss: 0.0074 - custom_metric: 1.1255 - val_loss: 0.0045 - val_custom_metric: 0.8665 - lr: 0.0047\n",
            "\n",
            "Epoch 68: LearningRateScheduler setting learning rate to 0.004661817569285631.\n",
            "Epoch 68/400\n",
            "43/43 [==============================] - 5s 122ms/step - loss: 0.0077 - custom_metric: 1.3874 - val_loss: 0.0061 - val_custom_metric: 1.6787 - lr: 0.0047\n",
            "\n",
            "Epoch 69: LearningRateScheduler setting learning rate to 0.0046518901363015175.\n",
            "Epoch 69/400\n",
            "43/43 [==============================] - 5s 122ms/step - loss: 0.0073 - custom_metric: 1.1922 - val_loss: 0.0044 - val_custom_metric: 0.6543 - lr: 0.0047\n",
            "\n",
            "Epoch 70: LearningRateScheduler setting learning rate to 0.004641829524189234.\n",
            "Epoch 70/400\n",
            "43/43 [==============================] - 7s 161ms/step - loss: 0.0075 - custom_metric: 1.1605 - val_loss: 0.0042 - val_custom_metric: 0.7430 - lr: 0.0046\n",
            "\n",
            "Epoch 71: LearningRateScheduler setting learning rate to 0.004631637129932642.\n",
            "Epoch 71/400\n",
            "43/43 [==============================] - 5s 122ms/step - loss: 0.0070 - custom_metric: 1.0809 - val_loss: 0.0058 - val_custom_metric: 0.8950 - lr: 0.0046\n",
            "\n",
            "Epoch 72: LearningRateScheduler setting learning rate to 0.004621313419193029.\n",
            "Epoch 72/400\n",
            "43/43 [==============================] - 5s 122ms/step - loss: 0.0076 - custom_metric: 1.1214 - val_loss: 0.0044 - val_custom_metric: 0.6495 - lr: 0.0046\n",
            "\n",
            "Epoch 73: LearningRateScheduler setting learning rate to 0.004610858857631683.\n",
            "Epoch 73/400\n",
            "43/43 [==============================] - 5s 123ms/step - loss: 0.0073 - custom_metric: 1.1021 - val_loss: 0.0060 - val_custom_metric: 1.3026 - lr: 0.0046\n",
            "\n",
            "Epoch 74: LearningRateScheduler setting learning rate to 0.004600273910909891.\n",
            "Epoch 74/400\n",
            "43/43 [==============================] - 5s 123ms/step - loss: 0.0073 - custom_metric: 1.1076 - val_loss: 0.0052 - val_custom_metric: 0.7879 - lr: 0.0046\n",
            "\n",
            "Epoch 75: LearningRateScheduler setting learning rate to 0.004589559510350227.\n",
            "Epoch 75/400\n",
            "43/43 [==============================] - 5s 122ms/step - loss: 0.0071 - custom_metric: 1.1080 - val_loss: 0.0056 - val_custom_metric: 0.7227 - lr: 0.0046\n",
            "\n",
            "Epoch 76: LearningRateScheduler setting learning rate to 0.004578716121613979.\n",
            "Epoch 76/400\n",
            "43/43 [==============================] - 5s 121ms/step - loss: 0.0070 - custom_metric: 1.0829 - val_loss: 0.0051 - val_custom_metric: 0.7271 - lr: 0.0046\n",
            "\n",
            "Epoch 77: LearningRateScheduler setting learning rate to 0.004567744676023722.\n",
            "Epoch 77/400\n",
            "43/43 [==============================] - 5s 121ms/step - loss: 0.0070 - custom_metric: 1.0878 - val_loss: 0.0050 - val_custom_metric: 0.8161 - lr: 0.0046\n",
            "\n",
            "Epoch 78: LearningRateScheduler setting learning rate to 0.004556645639240742.\n",
            "Epoch 78/400\n",
            "43/43 [==============================] - 5s 121ms/step - loss: 0.0070 - custom_metric: 1.0513 - val_loss: 0.0041 - val_custom_metric: 0.6050 - lr: 0.0046\n",
            "\n",
            "Epoch 79: LearningRateScheduler setting learning rate to 0.004545419942587614.\n",
            "Epoch 79/400\n",
            "43/43 [==============================] - 5s 122ms/step - loss: 0.0071 - custom_metric: 1.0822 - val_loss: 0.0046 - val_custom_metric: 0.6722 - lr: 0.0045\n",
            "\n",
            "Epoch 80: LearningRateScheduler setting learning rate to 0.004534067586064339.\n",
            "Epoch 80/400\n",
            "43/43 [==============================] - 5s 121ms/step - loss: 0.0074 - custom_metric: 1.1744 - val_loss: 0.0046 - val_custom_metric: 0.7259 - lr: 0.0045\n",
            "\n",
            "Epoch 81: LearningRateScheduler setting learning rate to 0.0045225899666547775.\n",
            "Epoch 81/400\n",
            "43/43 [==============================] - 5s 121ms/step - loss: 0.0071 - custom_metric: 1.1086 - val_loss: 0.0044 - val_custom_metric: 0.7901 - lr: 0.0045\n",
            "\n",
            "Epoch 82: LearningRateScheduler setting learning rate to 0.004510988015681505.\n",
            "Epoch 82/400\n",
            "43/43 [==============================] - 5s 122ms/step - loss: 0.0072 - custom_metric: 1.0647 - val_loss: 0.0049 - val_custom_metric: 0.6840 - lr: 0.0045\n",
            "\n",
            "Epoch 83: LearningRateScheduler setting learning rate to 0.004499261733144522.\n",
            "Epoch 83/400\n",
            "43/43 [==============================] - 5s 121ms/step - loss: 0.0071 - custom_metric: 1.0567 - val_loss: 0.0041 - val_custom_metric: 0.6660 - lr: 0.0045\n",
            "\n",
            "Epoch 84: LearningRateScheduler setting learning rate to 0.004487412050366402.\n",
            "Epoch 84/400\n",
            "43/43 [==============================] - 5s 123ms/step - loss: 0.0072 - custom_metric: 1.0800 - val_loss: 0.0045 - val_custom_metric: 0.7416 - lr: 0.0045\n",
            "\n",
            "Epoch 85: LearningRateScheduler setting learning rate to 0.00447543989866972.\n",
            "Epoch 85/400\n",
            "43/43 [==============================] - 5s 124ms/step - loss: 0.0070 - custom_metric: 1.0481 - val_loss: 0.0055 - val_custom_metric: 0.7284 - lr: 0.0045\n",
            "\n",
            "Epoch 86: LearningRateScheduler setting learning rate to 0.004463345743715763.\n",
            "Epoch 86/400\n",
            "43/43 [==============================] - 5s 124ms/step - loss: 0.0074 - custom_metric: 1.1194 - val_loss: 0.0042 - val_custom_metric: 0.6460 - lr: 0.0045\n",
            "\n",
            "Epoch 87: LearningRateScheduler setting learning rate to 0.004451130982488394.\n",
            "Epoch 87/400\n",
            "43/43 [==============================] - 6s 130ms/step - loss: 0.0070 - custom_metric: 1.0336 - val_loss: 0.0054 - val_custom_metric: 0.7275 - lr: 0.0045\n",
            "\n",
            "Epoch 88: LearningRateScheduler setting learning rate to 0.0044387951493263245.\n",
            "Epoch 88/400\n",
            "43/43 [==============================] - 5s 123ms/step - loss: 0.0071 - custom_metric: 1.0511 - val_loss: 0.0050 - val_custom_metric: 0.7026 - lr: 0.0044\n",
            "\n",
            "Epoch 89: LearningRateScheduler setting learning rate to 0.004426340572535992.\n",
            "Epoch 89/400\n",
            "43/43 [==============================] - 5s 122ms/step - loss: 0.0070 - custom_metric: 1.0398 - val_loss: 0.0046 - val_custom_metric: 0.6682 - lr: 0.0044\n",
            "\n",
            "Epoch 90: LearningRateScheduler setting learning rate to 0.004413766786456108.\n",
            "Epoch 90/400\n",
            "43/43 [==============================] - 5s 123ms/step - loss: 0.0069 - custom_metric: 1.0879 - val_loss: 0.0054 - val_custom_metric: 1.1381 - lr: 0.0044\n",
            "\n",
            "Epoch 91: LearningRateScheduler setting learning rate to 0.004401074722409248.\n",
            "Epoch 91/400\n",
            "43/43 [==============================] - 5s 122ms/step - loss: 0.0067 - custom_metric: 1.0042 - val_loss: 0.0044 - val_custom_metric: 0.7040 - lr: 0.0044\n",
            "\n",
            "Epoch 92: LearningRateScheduler setting learning rate to 0.004388265777379274.\n",
            "Epoch 92/400\n",
            "43/43 [==============================] - 5s 122ms/step - loss: 0.0066 - custom_metric: 1.0304 - val_loss: 0.0051 - val_custom_metric: 0.7559 - lr: 0.0044\n",
            "\n",
            "Epoch 93: LearningRateScheduler setting learning rate to 0.0043753404170274734.\n",
            "Epoch 93/400\n",
            "43/43 [==============================] - 5s 123ms/step - loss: 0.0066 - custom_metric: 0.9975 - val_loss: 0.0062 - val_custom_metric: 0.9162 - lr: 0.0044\n",
            "\n",
            "Epoch 94: LearningRateScheduler setting learning rate to 0.004362298641353846.\n",
            "Epoch 94/400\n",
            "43/43 [==============================] - 5s 121ms/step - loss: 0.0066 - custom_metric: 0.9825 - val_loss: 0.0039 - val_custom_metric: 0.6435 - lr: 0.0044\n",
            "\n",
            "Epoch 95: LearningRateScheduler setting learning rate to 0.004349142778664827.\n",
            "Epoch 95/400\n",
            "43/43 [==============================] - 5s 123ms/step - loss: 0.0064 - custom_metric: 0.9746 - val_loss: 0.0039 - val_custom_metric: 0.6868 - lr: 0.0043\n",
            "\n",
            "Epoch 96: LearningRateScheduler setting learning rate to 0.004335872828960419.\n",
            "Epoch 96/400\n",
            "43/43 [==============================] - 5s 123ms/step - loss: 0.0065 - custom_metric: 0.9492 - val_loss: 0.0036 - val_custom_metric: 0.6210 - lr: 0.0043\n",
            "\n",
            "Epoch 97: LearningRateScheduler setting learning rate to 0.004322489257901907.\n",
            "Epoch 97/400\n",
            "43/43 [==============================] - 5s 122ms/step - loss: 0.0065 - custom_metric: 1.0026 - val_loss: 0.0041 - val_custom_metric: 0.7340 - lr: 0.0043\n",
            "\n",
            "Epoch 98: LearningRateScheduler setting learning rate to 0.004308993928134441.\n",
            "Epoch 98/400\n",
            "43/43 [==============================] - 5s 124ms/step - loss: 0.0066 - custom_metric: 0.9938 - val_loss: 0.0043 - val_custom_metric: 0.7537 - lr: 0.0043\n",
            "\n",
            "Epoch 99: LearningRateScheduler setting learning rate to 0.004295385908335447.\n",
            "Epoch 99/400\n",
            "43/43 [==============================] - 5s 122ms/step - loss: 0.0068 - custom_metric: 1.0198 - val_loss: 0.0038 - val_custom_metric: 0.6106 - lr: 0.0043\n",
            "\n",
            "Epoch 100: LearningRateScheduler setting learning rate to 0.004281668458133936.\n",
            "Epoch 100/400\n",
            "43/43 [==============================] - 5s 122ms/step - loss: 0.0065 - custom_metric: 1.0118 - val_loss: 0.0036 - val_custom_metric: 0.5390 - lr: 0.0043\n",
            "\n",
            "Epoch 101: LearningRateScheduler setting learning rate to 0.004267840180546045.\n",
            "Epoch 101/400\n",
            "43/43 [==============================] - 5s 122ms/step - loss: 0.0067 - custom_metric: 1.0129 - val_loss: 0.0039 - val_custom_metric: 0.6097 - lr: 0.0043\n",
            "\n",
            "Epoch 102: LearningRateScheduler setting learning rate to 0.004253902938216925.\n",
            "Epoch 102/400\n",
            "43/43 [==============================] - 5s 122ms/step - loss: 0.0068 - custom_metric: 1.0019 - val_loss: 0.0038 - val_custom_metric: 0.5648 - lr: 0.0043\n",
            "\n",
            "Epoch 103: LearningRateScheduler setting learning rate to 0.004239858128130436.\n",
            "Epoch 103/400\n",
            "43/43 [==============================] - 5s 121ms/step - loss: 0.0064 - custom_metric: 0.9437 - val_loss: 0.0046 - val_custom_metric: 0.6481 - lr: 0.0042\n",
            "\n",
            "Epoch 104: LearningRateScheduler setting learning rate to 0.004225705284625292.\n",
            "Epoch 104/400\n",
            "43/43 [==============================] - 5s 122ms/step - loss: 0.0065 - custom_metric: 0.9597 - val_loss: 0.0052 - val_custom_metric: 1.0940 - lr: 0.0042\n",
            "\n",
            "Epoch 105: LearningRateScheduler setting learning rate to 0.004211446736007929.\n",
            "Epoch 105/400\n",
            "43/43 [==============================] - 6s 132ms/step - loss: 0.0065 - custom_metric: 1.0074 - val_loss: 0.0042 - val_custom_metric: 0.5909 - lr: 0.0042\n",
            "\n",
            "Epoch 106: LearningRateScheduler setting learning rate to 0.00419708201661706.\n",
            "Epoch 106/400\n",
            "43/43 [==============================] - 5s 122ms/step - loss: 0.0066 - custom_metric: 0.9658 - val_loss: 0.0044 - val_custom_metric: 0.6765 - lr: 0.0042\n",
            "\n",
            "Epoch 107: LearningRateScheduler setting learning rate to 0.004182612989097834.\n",
            "Epoch 107/400\n",
            "43/43 [==============================] - 5s 124ms/step - loss: 0.0064 - custom_metric: 0.9406 - val_loss: 0.0041 - val_custom_metric: 0.6151 - lr: 0.0042\n",
            "\n",
            "Epoch 108: LearningRateScheduler setting learning rate to 0.004168040119111538.\n",
            "Epoch 108/400\n",
            "43/43 [==============================] - 5s 122ms/step - loss: 0.0063 - custom_metric: 0.9171 - val_loss: 0.0042 - val_custom_metric: 0.6780 - lr: 0.0042\n",
            "\n",
            "Epoch 109: LearningRateScheduler setting learning rate to 0.004153364337980747.\n",
            "Epoch 109/400\n",
            "43/43 [==============================] - 5s 121ms/step - loss: 0.0071 - custom_metric: 1.0254 - val_loss: 0.0055 - val_custom_metric: 0.7381 - lr: 0.0042\n",
            "\n",
            "Epoch 110: LearningRateScheduler setting learning rate to 0.004138586577028036.\n",
            "Epoch 110/400\n",
            "43/43 [==============================] - 5s 120ms/step - loss: 0.0073 - custom_metric: 1.0765 - val_loss: 0.0061 - val_custom_metric: 0.8838 - lr: 0.0041\n",
            "\n",
            "Epoch 111: LearningRateScheduler setting learning rate to 0.004123707767575979.\n",
            "Epoch 111/400\n",
            "43/43 [==============================] - 5s 121ms/step - loss: 0.0071 - custom_metric: 1.0463 - val_loss: 0.0045 - val_custom_metric: 0.7420 - lr: 0.0041\n",
            "\n",
            "Epoch 112: LearningRateScheduler setting learning rate to 0.004108728840947151.\n",
            "Epoch 112/400\n",
            "43/43 [==============================] - 5s 121ms/step - loss: 0.0069 - custom_metric: 1.0052 - val_loss: 0.0041 - val_custom_metric: 0.6750 - lr: 0.0041\n",
            "\n",
            "Epoch 113: LearningRateScheduler setting learning rate to 0.004093650262802839.\n",
            "Epoch 113/400\n",
            "43/43 [==============================] - 5s 122ms/step - loss: 0.0067 - custom_metric: 0.9683 - val_loss: 0.0048 - val_custom_metric: 0.7195 - lr: 0.0041\n",
            "\n",
            "Epoch 114: LearningRateScheduler setting learning rate to 0.004078473895788193.\n",
            "Epoch 114/400\n",
            "43/43 [==============================] - 5s 122ms/step - loss: 0.0068 - custom_metric: 0.9624 - val_loss: 0.0050 - val_custom_metric: 0.8070 - lr: 0.0041\n",
            "\n",
            "Epoch 115: LearningRateScheduler setting learning rate to 0.004063200205564499.\n",
            "Epoch 115/400\n",
            "43/43 [==============================] - 5s 120ms/step - loss: 0.0067 - custom_metric: 0.9418 - val_loss: 0.0042 - val_custom_metric: 0.7585 - lr: 0.0041\n",
            "\n",
            "Epoch 116: LearningRateScheduler setting learning rate to 0.004047830123454332.\n",
            "Epoch 116/400\n",
            "43/43 [==============================] - 5s 119ms/step - loss: 0.0066 - custom_metric: 0.9422 - val_loss: 0.0046 - val_custom_metric: 0.7049 - lr: 0.0040\n",
            "\n",
            "Epoch 117: LearningRateScheduler setting learning rate to 0.004032364580780268.\n",
            "Epoch 117/400\n",
            "43/43 [==============================] - 5s 121ms/step - loss: 0.0065 - custom_metric: 0.9218 - val_loss: 0.0039 - val_custom_metric: 0.6149 - lr: 0.0040\n",
            "\n",
            "Epoch 118: LearningRateScheduler setting learning rate to 0.004016804043203592.\n",
            "Epoch 118/400\n",
            "43/43 [==============================] - 5s 122ms/step - loss: 0.0066 - custom_metric: 0.9427 - val_loss: 0.0033 - val_custom_metric: 0.5421 - lr: 0.0040\n",
            "\n",
            "Epoch 119: LearningRateScheduler setting learning rate to 0.004001150373369455.\n",
            "Epoch 119/400\n",
            "43/43 [==============================] - 5s 121ms/step - loss: 0.0065 - custom_metric: 0.9352 - val_loss: 0.0045 - val_custom_metric: 0.6417 - lr: 0.0040\n",
            "\n",
            "Epoch 120: LearningRateScheduler setting learning rate to 0.003985404036939144.\n",
            "Epoch 120/400\n",
            "43/43 [==============================] - 5s 123ms/step - loss: 0.0065 - custom_metric: 0.9300 - val_loss: 0.0048 - val_custom_metric: 0.6547 - lr: 0.0040\n",
            "\n",
            "Epoch 121: LearningRateScheduler setting learning rate to 0.003969565965235233.\n",
            "Epoch 121/400\n",
            "43/43 [==============================] - 5s 123ms/step - loss: 0.0064 - custom_metric: 0.9258 - val_loss: 0.0040 - val_custom_metric: 0.7294 - lr: 0.0040\n",
            "\n",
            "Epoch 122: LearningRateScheduler setting learning rate to 0.003953637555241585.\n",
            "Epoch 122/400\n",
            "43/43 [==============================] - 6s 135ms/step - loss: 0.0063 - custom_metric: 0.9023 - val_loss: 0.0044 - val_custom_metric: 0.6716 - lr: 0.0040\n",
            "\n",
            "Epoch 123: LearningRateScheduler setting learning rate to 0.003937619738280773.\n",
            "Epoch 123/400\n",
            "43/43 [==============================] - 5s 123ms/step - loss: 0.0064 - custom_metric: 0.9155 - val_loss: 0.0037 - val_custom_metric: 0.5595 - lr: 0.0039\n",
            "\n",
            "Epoch 124: LearningRateScheduler setting learning rate to 0.003921512048691511.\n",
            "Epoch 124/400\n",
            "43/43 [==============================] - 5s 123ms/step - loss: 0.0065 - custom_metric: 0.9203 - val_loss: 0.0043 - val_custom_metric: 0.6184 - lr: 0.0039\n",
            "\n",
            "Epoch 125: LearningRateScheduler setting learning rate to 0.00390531774610281.\n",
            "Epoch 125/400\n",
            "43/43 [==============================] - 5s 121ms/step - loss: 0.0063 - custom_metric: 0.9048 - val_loss: 0.0034 - val_custom_metric: 0.5386 - lr: 0.0039\n",
            "\n",
            "Epoch 126: LearningRateScheduler setting learning rate to 0.0038890365976840258.\n",
            "Epoch 126/400\n",
            "43/43 [==============================] - 5s 123ms/step - loss: 0.0064 - custom_metric: 0.9144 - val_loss: 0.0040 - val_custom_metric: 0.6130 - lr: 0.0039\n",
            "\n",
            "Epoch 127: LearningRateScheduler setting learning rate to 0.0038726695347577333.\n",
            "Epoch 127/400\n",
            "43/43 [==============================] - 5s 124ms/step - loss: 0.0064 - custom_metric: 0.9065 - val_loss: 0.0049 - val_custom_metric: 0.7991 - lr: 0.0039\n",
            "\n",
            "Epoch 128: LearningRateScheduler setting learning rate to 0.003856218419969082.\n",
            "Epoch 128/400\n",
            "43/43 [==============================] - 5s 121ms/step - loss: 0.0063 - custom_metric: 0.9120 - val_loss: 0.0045 - val_custom_metric: 0.7173 - lr: 0.0039\n",
            "\n",
            "Epoch 129: LearningRateScheduler setting learning rate to 0.0038396825548261404.\n",
            "Epoch 129/400\n",
            "43/43 [==============================] - 5s 122ms/step - loss: 0.0062 - custom_metric: 0.8976 - val_loss: 0.0043 - val_custom_metric: 0.6906 - lr: 0.0038\n",
            "\n",
            "Epoch 130: LearningRateScheduler setting learning rate to 0.0038230647332966328.\n",
            "Epoch 130/400\n",
            "43/43 [==============================] - 5s 122ms/step - loss: 0.0062 - custom_metric: 0.8856 - val_loss: 0.0042 - val_custom_metric: 0.6501 - lr: 0.0038\n",
            "\n",
            "Epoch 131: LearningRateScheduler setting learning rate to 0.00380636565387249.\n",
            "Epoch 131/400\n",
            "43/43 [==============================] - 5s 121ms/step - loss: 0.0063 - custom_metric: 0.8961 - val_loss: 0.0041 - val_custom_metric: 0.6477 - lr: 0.0038\n",
            "\n",
            "Epoch 132: LearningRateScheduler setting learning rate to 0.003789585782214999.\n",
            "Epoch 132/400\n",
            "43/43 [==============================] - 5s 120ms/step - loss: 0.0063 - custom_metric: 0.8948 - val_loss: 0.0043 - val_custom_metric: 0.6765 - lr: 0.0038\n",
            "\n",
            "Epoch 133: LearningRateScheduler setting learning rate to 0.003772726282477379.\n",
            "Epoch 133/400\n",
            "43/43 [==============================] - 5s 122ms/step - loss: 0.0062 - custom_metric: 0.8882 - val_loss: 0.0043 - val_custom_metric: 0.6710 - lr: 0.0038\n",
            "\n",
            "Epoch 134: LearningRateScheduler setting learning rate to 0.003755788318812847.\n",
            "Epoch 134/400\n",
            "43/43 [==============================] - 5s 122ms/step - loss: 0.0062 - custom_metric: 0.8800 - val_loss: 0.0039 - val_custom_metric: 0.6275 - lr: 0.0038\n",
            "\n",
            "Epoch 135: LearningRateScheduler setting learning rate to 0.0037387728225439787.\n",
            "Epoch 135/400\n",
            "43/43 [==============================] - 5s 121ms/step - loss: 0.0061 - custom_metric: 0.8740 - val_loss: 0.0043 - val_custom_metric: 0.6318 - lr: 0.0037\n",
            "\n",
            "Epoch 136: LearningRateScheduler setting learning rate to 0.0037216809578239918.\n",
            "Epoch 136/400\n",
            "43/43 [==============================] - 5s 124ms/step - loss: 0.0061 - custom_metric: 0.8823 - val_loss: 0.0046 - val_custom_metric: 0.6833 - lr: 0.0037\n",
            "\n",
            "Epoch 137: LearningRateScheduler setting learning rate to 0.0037045138888061047.\n",
            "Epoch 137/400\n",
            "43/43 [==============================] - 5s 121ms/step - loss: 0.0061 - custom_metric: 0.8872 - val_loss: 0.0040 - val_custom_metric: 0.5984 - lr: 0.0037\n",
            "\n",
            "Epoch 138: LearningRateScheduler setting learning rate to 0.0036872723139822483.\n",
            "Epoch 138/400\n",
            "43/43 [==============================] - 6s 149ms/step - loss: 0.0060 - custom_metric: 0.8612 - val_loss: 0.0041 - val_custom_metric: 0.6254 - lr: 0.0037\n",
            "\n",
            "Epoch 139: LearningRateScheduler setting learning rate to 0.003669957397505641.\n",
            "Epoch 139/400\n",
            "43/43 [==============================] - 5s 123ms/step - loss: 0.0061 - custom_metric: 0.8704 - val_loss: 0.0039 - val_custom_metric: 0.5866 - lr: 0.0037\n",
            "\n",
            "Epoch 140: LearningRateScheduler setting learning rate to 0.0036525707691907883.\n",
            "Epoch 140/400\n",
            "43/43 [==============================] - 5s 123ms/step - loss: 0.0061 - custom_metric: 0.8830 - val_loss: 0.0042 - val_custom_metric: 0.6399 - lr: 0.0037\n",
            "\n",
            "Epoch 141: LearningRateScheduler setting learning rate to 0.0036351128946989775.\n",
            "Epoch 141/400\n",
            "43/43 [==============================] - 5s 122ms/step - loss: 0.0060 - custom_metric: 0.8639 - val_loss: 0.0038 - val_custom_metric: 0.5785 - lr: 0.0036\n",
            "\n",
            "Epoch 142: LearningRateScheduler setting learning rate to 0.003617584938183427.\n",
            "Epoch 142/400\n",
            "43/43 [==============================] - 5s 124ms/step - loss: 0.0060 - custom_metric: 0.8609 - val_loss: 0.0044 - val_custom_metric: 0.6987 - lr: 0.0036\n",
            "\n",
            "Epoch 143: LearningRateScheduler setting learning rate to 0.0035999880637973547.\n",
            "Epoch 143/400\n",
            "43/43 [==============================] - 5s 123ms/step - loss: 0.0062 - custom_metric: 0.8753 - val_loss: 0.0042 - val_custom_metric: 0.6410 - lr: 0.0036\n",
            "\n",
            "Epoch 144: LearningRateScheduler setting learning rate to 0.0035823234356939793.\n",
            "Epoch 144/400\n",
            "43/43 [==============================] - 5s 124ms/step - loss: 0.0060 - custom_metric: 0.8706 - val_loss: 0.0046 - val_custom_metric: 0.6475 - lr: 0.0036\n",
            "\n",
            "Epoch 145: LearningRateScheduler setting learning rate to 0.003564591985195875.\n",
            "Epoch 145/400\n",
            "43/43 [==============================] - 5s 122ms/step - loss: 0.0060 - custom_metric: 0.8659 - val_loss: 0.0044 - val_custom_metric: 0.6673 - lr: 0.0036\n",
            "\n",
            "Epoch 146: LearningRateScheduler setting learning rate to 0.0035467948764562607.\n",
            "Epoch 146/400\n",
            "43/43 [==============================] - 5s 125ms/step - loss: 0.0059 - custom_metric: 0.8638 - val_loss: 0.0043 - val_custom_metric: 0.6252 - lr: 0.0035\n",
            "\n",
            "Epoch 147: LearningRateScheduler setting learning rate to 0.0035289330407977104.\n",
            "Epoch 147/400\n",
            "43/43 [==============================] - 5s 123ms/step - loss: 0.0062 - custom_metric: 0.8794 - val_loss: 0.0049 - val_custom_metric: 0.6959 - lr: 0.0035\n",
            "\n",
            "Epoch 148: LearningRateScheduler setting learning rate to 0.0035110078752040863.\n",
            "Epoch 148/400\n",
            "43/43 [==============================] - 5s 123ms/step - loss: 0.0059 - custom_metric: 0.8612 - val_loss: 0.0044 - val_custom_metric: 0.6454 - lr: 0.0035\n",
            "\n",
            "Epoch 149: LearningRateScheduler setting learning rate to 0.0034930205438286066.\n",
            "Epoch 149/400\n",
            "43/43 [==============================] - 5s 123ms/step - loss: 0.0060 - custom_metric: 0.8591 - val_loss: 0.0043 - val_custom_metric: 0.6503 - lr: 0.0035\n",
            "\n",
            "Epoch 150: LearningRateScheduler setting learning rate to 0.0034749715123325586.\n",
            "Epoch 150/400\n",
            "43/43 [==============================] - 5s 123ms/step - loss: 0.0058 - custom_metric: 0.8368 - val_loss: 0.0047 - val_custom_metric: 0.7296 - lr: 0.0035\n",
            "\n",
            "Epoch 151: LearningRateScheduler setting learning rate to 0.003456863109022379.\n",
            "Epoch 151/400\n",
            "43/43 [==============================] - 5s 122ms/step - loss: 0.0060 - custom_metric: 0.8579 - val_loss: 0.0042 - val_custom_metric: 0.6357 - lr: 0.0035\n",
            "\n",
            "Epoch 152: LearningRateScheduler setting learning rate to 0.003438695101067424.\n",
            "Epoch 152/400\n",
            "43/43 [==============================] - 5s 126ms/step - loss: 0.0060 - custom_metric: 0.8496 - val_loss: 0.0043 - val_custom_metric: 0.6197 - lr: 0.0034\n",
            "\n",
            "Epoch 153: LearningRateScheduler setting learning rate to 0.003420469118282199.\n",
            "Epoch 153/400\n",
            "43/43 [==============================] - 5s 125ms/step - loss: 0.0060 - custom_metric: 0.8571 - val_loss: 0.0041 - val_custom_metric: 0.6237 - lr: 0.0034\n",
            "\n",
            "Epoch 154: LearningRateScheduler setting learning rate to 0.003402186557650566.\n",
            "Epoch 154/400\n",
            "43/43 [==============================] - 5s 126ms/step - loss: 0.0059 - custom_metric: 0.8510 - val_loss: 0.0035 - val_custom_metric: 0.5611 - lr: 0.0034\n",
            "\n",
            "Epoch 155: LearningRateScheduler setting learning rate to 0.0033838485833257437.\n",
            "Epoch 155/400\n",
            "43/43 [==============================] - 5s 126ms/step - loss: 0.0060 - custom_metric: 0.8629 - val_loss: 0.0043 - val_custom_metric: 0.6602 - lr: 0.0034\n",
            "\n",
            "Epoch 156: LearningRateScheduler setting learning rate to 0.0033654561266303062.\n",
            "Epoch 156/400\n",
            "43/43 [==============================] - 7s 161ms/step - loss: 0.0060 - custom_metric: 0.8666 - val_loss: 0.0042 - val_custom_metric: 0.6167 - lr: 0.0034\n",
            "\n",
            "Epoch 157: LearningRateScheduler setting learning rate to 0.003347010351717472.\n",
            "Epoch 157/400\n",
            "43/43 [==============================] - 5s 126ms/step - loss: 0.0060 - custom_metric: 0.8603 - val_loss: 0.0040 - val_custom_metric: 0.5827 - lr: 0.0033\n",
            "\n",
            "Epoch 158: LearningRateScheduler setting learning rate to 0.003328511957079172.\n",
            "Epoch 158/400\n",
            "43/43 [==============================] - 5s 126ms/step - loss: 0.0060 - custom_metric: 0.8596 - val_loss: 0.0046 - val_custom_metric: 0.6498 - lr: 0.0033\n",
            "\n",
            "Epoch 159: LearningRateScheduler setting learning rate to 0.0033099623396992683.\n",
            "Epoch 159/400\n",
            "43/43 [==============================] - 6s 127ms/step - loss: 0.0059 - custom_metric: 0.8439 - val_loss: 0.0039 - val_custom_metric: 0.6043 - lr: 0.0033\n",
            "\n",
            "Epoch 160: LearningRateScheduler setting learning rate to 0.0032913631293922663.\n",
            "Epoch 160/400\n",
            "43/43 [==============================] - 5s 126ms/step - loss: 0.0059 - custom_metric: 0.8590 - val_loss: 0.0042 - val_custom_metric: 0.6432 - lr: 0.0033\n",
            "\n",
            "Epoch 161: LearningRateScheduler setting learning rate to 0.003272715024650097.\n",
            "Epoch 161/400\n",
            "43/43 [==============================] - 6s 128ms/step - loss: 0.0059 - custom_metric: 0.8552 - val_loss: 0.0042 - val_custom_metric: 0.6322 - lr: 0.0033\n",
            "\n",
            "Epoch 162: LearningRateScheduler setting learning rate to 0.0032540196552872658.\n",
            "Epoch 162/400\n",
            "43/43 [==============================] - 6s 129ms/step - loss: 0.0060 - custom_metric: 0.8687 - val_loss: 0.0039 - val_custom_metric: 0.6173 - lr: 0.0033\n",
            "\n",
            "Epoch 163: LearningRateScheduler setting learning rate to 0.0032352772541344166.\n",
            "Epoch 163/400\n",
            "43/43 [==============================] - 5s 125ms/step - loss: 0.0058 - custom_metric: 0.8367 - val_loss: 0.0040 - val_custom_metric: 0.6069 - lr: 0.0032\n",
            "\n",
            "Epoch 164: LearningRateScheduler setting learning rate to 0.0032164896838366985.\n",
            "Epoch 164/400\n",
            "43/43 [==============================] - 5s 127ms/step - loss: 0.0059 - custom_metric: 0.8453 - val_loss: 0.0041 - val_custom_metric: 0.6061 - lr: 0.0032\n",
            "\n",
            "Epoch 165: LearningRateScheduler setting learning rate to 0.0031976578757166862.\n",
            "Epoch 165/400\n",
            "43/43 [==============================] - 5s 125ms/step - loss: 0.0060 - custom_metric: 0.8563 - val_loss: 0.0042 - val_custom_metric: 0.6309 - lr: 0.0032\n",
            "\n",
            "Epoch 166: LearningRateScheduler setting learning rate to 0.003178782993927598.\n",
            "Epoch 166/400\n",
            "43/43 [==============================] - 5s 126ms/step - loss: 0.0058 - custom_metric: 0.8361 - val_loss: 0.0045 - val_custom_metric: 0.6443 - lr: 0.0032\n",
            "\n",
            "Epoch 167: LearningRateScheduler setting learning rate to 0.0031598666682839394.\n",
            "Epoch 167/400\n",
            "43/43 [==============================] - 5s 125ms/step - loss: 0.0058 - custom_metric: 0.8355 - val_loss: 0.0046 - val_custom_metric: 0.6378 - lr: 0.0032\n",
            "\n",
            "Epoch 168: LearningRateScheduler setting learning rate to 0.0031409093644469976.\n",
            "Epoch 168/400\n",
            "43/43 [==============================] - 5s 127ms/step - loss: 0.0059 - custom_metric: 0.8431 - val_loss: 0.0040 - val_custom_metric: 0.6170 - lr: 0.0031\n",
            "\n",
            "Epoch 169: LearningRateScheduler setting learning rate to 0.0031219127122312784.\n",
            "Epoch 169/400\n",
            "43/43 [==============================] - 5s 126ms/step - loss: 0.0057 - custom_metric: 0.8321 - val_loss: 0.0041 - val_custom_metric: 0.5888 - lr: 0.0031\n",
            "\n",
            "Epoch 170: LearningRateScheduler setting learning rate to 0.0031028776429593563.\n",
            "Epoch 170/400\n",
            "43/43 [==============================] - 5s 127ms/step - loss: 0.0059 - custom_metric: 0.8412 - val_loss: 0.0041 - val_custom_metric: 0.5741 - lr: 0.0031\n",
            "\n",
            "Epoch 171: LearningRateScheduler setting learning rate to 0.003083805087953806.\n",
            "Epoch 171/400\n",
            "43/43 [==============================] - 5s 127ms/step - loss: 0.0058 - custom_metric: 0.8386 - val_loss: 0.0052 - val_custom_metric: 0.7770 - lr: 0.0031\n",
            "\n",
            "Epoch 172: LearningRateScheduler setting learning rate to 0.0030646969098597765.\n",
            "Epoch 172/400\n",
            "43/43 [==============================] - 5s 126ms/step - loss: 0.0057 - custom_metric: 0.8362 - val_loss: 0.0045 - val_custom_metric: 0.6706 - lr: 0.0031\n",
            "\n",
            "Epoch 173: LearningRateScheduler setting learning rate to 0.0030455535743385553.\n",
            "Epoch 173/400\n",
            "43/43 [==============================] - 5s 125ms/step - loss: 0.0058 - custom_metric: 0.8308 - val_loss: 0.0040 - val_custom_metric: 0.5685 - lr: 0.0030\n",
            "\n",
            "Epoch 174: LearningRateScheduler setting learning rate to 0.003026376711204648.\n",
            "Epoch 174/400\n",
            "43/43 [==============================] - 5s 126ms/step - loss: 0.0058 - custom_metric: 0.8375 - val_loss: 0.0044 - val_custom_metric: 0.6092 - lr: 0.0030\n",
            "\n",
            "Epoch 175: LearningRateScheduler setting learning rate to 0.0030071677174419165.\n",
            "Epoch 175/400\n",
            "43/43 [==============================] - 5s 126ms/step - loss: 0.0058 - custom_metric: 0.8352 - val_loss: 0.0042 - val_custom_metric: 0.5916 - lr: 0.0030\n",
            "\n",
            "Epoch 176: LearningRateScheduler setting learning rate to 0.0029879268258810043.\n",
            "Epoch 176/400\n",
            "43/43 [==============================] - 5s 126ms/step - loss: 0.0058 - custom_metric: 0.8347 - val_loss: 0.0052 - val_custom_metric: 0.7751 - lr: 0.0030\n",
            "\n",
            "Epoch 177: LearningRateScheduler setting learning rate to 0.002968656597658992.\n",
            "Epoch 177/400\n",
            "43/43 [==============================] - 5s 125ms/step - loss: 0.0058 - custom_metric: 0.8409 - val_loss: 0.0055 - val_custom_metric: 0.8508 - lr: 0.0030\n",
            "\n",
            "Epoch 178: LearningRateScheduler setting learning rate to 0.002949357032775879.\n",
            "Epoch 178/400\n",
            "43/43 [==============================] - 5s 126ms/step - loss: 0.0059 - custom_metric: 0.8617 - val_loss: 0.0058 - val_custom_metric: 0.8339 - lr: 0.0029\n",
            "\n",
            "Epoch 179: LearningRateScheduler setting learning rate to 0.002930029761046171.\n",
            "Epoch 179/400\n",
            "43/43 [==============================] - 5s 124ms/step - loss: 0.0058 - custom_metric: 0.8361 - val_loss: 0.0038 - val_custom_metric: 0.5723 - lr: 0.0029\n",
            "\n",
            "Epoch 180: LearningRateScheduler setting learning rate to 0.002910675946623087.\n",
            "Epoch 180/400\n",
            "43/43 [==============================] - 5s 126ms/step - loss: 0.0056 - custom_metric: 0.8175 - val_loss: 0.0043 - val_custom_metric: 0.6102 - lr: 0.0029\n",
            "\n",
            "Epoch 181: LearningRateScheduler setting learning rate to 0.0028912972193211317.\n",
            "Epoch 181/400\n",
            "43/43 [==============================] - 5s 125ms/step - loss: 0.0057 - custom_metric: 0.8236 - val_loss: 0.0041 - val_custom_metric: 0.5810 - lr: 0.0029\n",
            "\n",
            "Epoch 182: LearningRateScheduler setting learning rate to 0.002871893811970949.\n",
            "Epoch 182/400\n",
            "43/43 [==============================] - 5s 125ms/step - loss: 0.0058 - custom_metric: 0.8371 - val_loss: 0.0038 - val_custom_metric: 0.5685 - lr: 0.0029\n",
            "\n",
            "Epoch 183: LearningRateScheduler setting learning rate to 0.002852467820048332.\n",
            "Epoch 183/400\n",
            "43/43 [==============================] - 5s 124ms/step - loss: 0.0057 - custom_metric: 0.8234 - val_loss: 0.0043 - val_custom_metric: 0.6290 - lr: 0.0029\n",
            "\n",
            "Epoch 184: LearningRateScheduler setting learning rate to 0.002833019942045212.\n",
            "Epoch 184/400\n",
            "43/43 [==============================] - 5s 127ms/step - loss: 0.0058 - custom_metric: 0.8295 - val_loss: 0.0040 - val_custom_metric: 0.5714 - lr: 0.0028\n",
            "\n",
            "Epoch 185: LearningRateScheduler setting learning rate to 0.00281355157494545.\n",
            "Epoch 185/400\n",
            "43/43 [==============================] - 5s 127ms/step - loss: 0.0057 - custom_metric: 0.8292 - val_loss: 0.0039 - val_custom_metric: 0.6010 - lr: 0.0028\n",
            "\n",
            "Epoch 186: LearningRateScheduler setting learning rate to 0.0027940638829022646.\n",
            "Epoch 186/400\n",
            "43/43 [==============================] - 5s 125ms/step - loss: 0.0056 - custom_metric: 0.8112 - val_loss: 0.0040 - val_custom_metric: 0.5991 - lr: 0.0028\n",
            "\n",
            "Epoch 187: LearningRateScheduler setting learning rate to 0.002774558262899518.\n",
            "Epoch 187/400\n",
            "43/43 [==============================] - 5s 126ms/step - loss: 0.0056 - custom_metric: 0.8186 - val_loss: 0.0039 - val_custom_metric: 0.5895 - lr: 0.0028\n",
            "\n",
            "Epoch 188: LearningRateScheduler setting learning rate to 0.002755035413429141.\n",
            "Epoch 188/400\n",
            "43/43 [==============================] - 5s 126ms/step - loss: 0.0057 - custom_metric: 0.8288 - val_loss: 0.0039 - val_custom_metric: 0.5754 - lr: 0.0028\n",
            "\n",
            "Epoch 189: LearningRateScheduler setting learning rate to 0.002735497197136283.\n",
            "Epoch 189/400\n",
            "43/43 [==============================] - 7s 165ms/step - loss: 0.0056 - custom_metric: 0.8184 - val_loss: 0.0040 - val_custom_metric: 0.6068 - lr: 0.0027\n",
            "\n",
            "Epoch 190: LearningRateScheduler setting learning rate to 0.0027159443125128746.\n",
            "Epoch 190/400\n",
            "43/43 [==============================] - 5s 126ms/step - loss: 0.0058 - custom_metric: 0.8285 - val_loss: 0.0046 - val_custom_metric: 0.7155 - lr: 0.0027\n",
            "\n",
            "Epoch 191: LearningRateScheduler setting learning rate to 0.0026963779237121344.\n",
            "Epoch 191/400\n",
            "43/43 [==============================] - 5s 126ms/step - loss: 0.0057 - custom_metric: 0.8276 - val_loss: 0.0040 - val_custom_metric: 0.6068 - lr: 0.0027\n",
            "\n",
            "Epoch 192: LearningRateScheduler setting learning rate to 0.0026767998933792114.\n",
            "Epoch 192/400\n",
            "43/43 [==============================] - 6s 130ms/step - loss: 0.0057 - custom_metric: 0.8340 - val_loss: 0.0038 - val_custom_metric: 0.5762 - lr: 0.0027\n",
            "\n",
            "Epoch 193: LearningRateScheduler setting learning rate to 0.0026572104543447495.\n",
            "Epoch 193/400\n",
            "43/43 [==============================] - 6s 128ms/step - loss: 0.0057 - custom_metric: 0.8267 - val_loss: 0.0041 - val_custom_metric: 0.5985 - lr: 0.0027\n",
            "\n",
            "Epoch 194: LearningRateScheduler setting learning rate to 0.0026376114692538977.\n",
            "Epoch 194/400\n",
            "43/43 [==============================] - 5s 127ms/step - loss: 0.0055 - custom_metric: 0.8021 - val_loss: 0.0038 - val_custom_metric: 0.5792 - lr: 0.0026\n",
            "\n",
            "Epoch 195: LearningRateScheduler setting learning rate to 0.0026180041022598743.\n",
            "Epoch 195/400\n",
            "43/43 [==============================] - 5s 126ms/step - loss: 0.0057 - custom_metric: 0.8261 - val_loss: 0.0039 - val_custom_metric: 0.5977 - lr: 0.0026\n",
            "\n",
            "Epoch 196: LearningRateScheduler setting learning rate to 0.0025983895175158978.\n",
            "Epoch 196/400\n",
            "43/43 [==============================] - 5s 125ms/step - loss: 0.0057 - custom_metric: 0.8271 - val_loss: 0.0042 - val_custom_metric: 0.6481 - lr: 0.0026\n",
            "\n",
            "Epoch 197: LearningRateScheduler setting learning rate to 0.002578768879175186.\n",
            "Epoch 197/400\n",
            "43/43 [==============================] - 5s 126ms/step - loss: 0.0058 - custom_metric: 0.8343 - val_loss: 0.0035 - val_custom_metric: 0.5585 - lr: 0.0026\n",
            "\n",
            "Epoch 198: LearningRateScheduler setting learning rate to 0.002559143351390958.\n",
            "Epoch 198/400\n",
            "43/43 [==============================] - 5s 127ms/step - loss: 0.0057 - custom_metric: 0.8253 - val_loss: 0.0044 - val_custom_metric: 0.6124 - lr: 0.0026\n",
            "\n",
            "Epoch 199: LearningRateScheduler setting learning rate to 0.0025395143311470747.\n",
            "Epoch 199/400\n",
            "43/43 [==============================] - 6s 130ms/step - loss: 0.0055 - custom_metric: 0.8059 - val_loss: 0.0039 - val_custom_metric: 0.5454 - lr: 0.0025\n",
            "\n",
            "Epoch 200: LearningRateScheduler setting learning rate to 0.0025198825169354677.\n",
            "Epoch 200/400\n",
            "43/43 [==============================] - 6s 128ms/step - loss: 0.0055 - custom_metric: 0.8036 - val_loss: 0.0040 - val_custom_metric: 0.5901 - lr: 0.0025\n",
            "\n",
            "Epoch 201: LearningRateScheduler setting learning rate to 0.002500249771401286.\n",
            "Epoch 201/400\n",
            "43/43 [==============================] - 6s 130ms/step - loss: 0.0056 - custom_metric: 0.8129 - val_loss: 0.0041 - val_custom_metric: 0.5969 - lr: 0.0025\n",
            "\n",
            "Epoch 202: LearningRateScheduler setting learning rate to 0.0024806170258671045.\n",
            "Epoch 202/400\n",
            "43/43 [==============================] - 6s 131ms/step - loss: 0.0056 - custom_metric: 0.8063 - val_loss: 0.0040 - val_custom_metric: 0.5788 - lr: 0.0025\n",
            "\n",
            "Epoch 203: LearningRateScheduler setting learning rate to 0.0024609852116554976.\n",
            "Epoch 203/400\n",
            "43/43 [==============================] - 6s 128ms/step - loss: 0.0056 - custom_metric: 0.8184 - val_loss: 0.0037 - val_custom_metric: 0.5698 - lr: 0.0025\n",
            "\n",
            "Epoch 204: LearningRateScheduler setting learning rate to 0.0024413561914116144.\n",
            "Epoch 204/400\n",
            "43/43 [==============================] - 7s 166ms/step - loss: 0.0057 - custom_metric: 0.8131 - val_loss: 0.0043 - val_custom_metric: 0.6113 - lr: 0.0024\n",
            "\n",
            "Epoch 205: LearningRateScheduler setting learning rate to 0.002421730663627386.\n",
            "Epoch 205/400\n",
            "43/43 [==============================] - 5s 126ms/step - loss: 0.0056 - custom_metric: 0.8026 - val_loss: 0.0038 - val_custom_metric: 0.5427 - lr: 0.0024\n",
            "\n",
            "Epoch 206: LearningRateScheduler setting learning rate to 0.002402110258117318.\n",
            "Epoch 206/400\n",
            "43/43 [==============================] - 6s 128ms/step - loss: 0.0054 - custom_metric: 0.7949 - val_loss: 0.0038 - val_custom_metric: 0.5282 - lr: 0.0024\n",
            "\n",
            "Epoch 207: LearningRateScheduler setting learning rate to 0.0023824956733733416.\n",
            "Epoch 207/400\n",
            "43/43 [==============================] - 5s 126ms/step - loss: 0.0056 - custom_metric: 0.8063 - val_loss: 0.0040 - val_custom_metric: 0.5820 - lr: 0.0024\n",
            "\n",
            "Epoch 208: LearningRateScheduler setting learning rate to 0.0023628883063793182.\n",
            "Epoch 208/400\n",
            "43/43 [==============================] - 6s 129ms/step - loss: 0.0055 - custom_metric: 0.7956 - val_loss: 0.0046 - val_custom_metric: 0.6643 - lr: 0.0024\n",
            "\n",
            "Epoch 209: LearningRateScheduler setting learning rate to 0.0023432893212884665.\n",
            "Epoch 209/400\n",
            "43/43 [==============================] - 5s 126ms/step - loss: 0.0055 - custom_metric: 0.7932 - val_loss: 0.0047 - val_custom_metric: 0.6634 - lr: 0.0023\n",
            "\n",
            "Epoch 210: LearningRateScheduler setting learning rate to 0.002323700347915292.\n",
            "Epoch 210/400\n",
            "43/43 [==============================] - 5s 127ms/step - loss: 0.0054 - custom_metric: 0.7834 - val_loss: 0.0038 - val_custom_metric: 0.5529 - lr: 0.0023\n",
            "\n",
            "Epoch 211: LearningRateScheduler setting learning rate to 0.0023041218519210815.\n",
            "Epoch 211/400\n",
            "43/43 [==============================] - 5s 126ms/step - loss: 0.0055 - custom_metric: 0.7999 - val_loss: 0.0037 - val_custom_metric: 0.5449 - lr: 0.0023\n",
            "\n",
            "Epoch 212: LearningRateScheduler setting learning rate to 0.002284555695950985.\n",
            "Epoch 212/400\n",
            "43/43 [==============================] - 6s 128ms/step - loss: 0.0054 - custom_metric: 0.7861 - val_loss: 0.0040 - val_custom_metric: 0.5900 - lr: 0.0023\n",
            "\n",
            "Epoch 213: LearningRateScheduler setting learning rate to 0.002265002578496933.\n",
            "Epoch 213/400\n",
            "43/43 [==============================] - 5s 127ms/step - loss: 0.0055 - custom_metric: 0.7933 - val_loss: 0.0041 - val_custom_metric: 0.6189 - lr: 0.0023\n",
            "\n",
            "Epoch 214: LearningRateScheduler setting learning rate to 0.002245464362204075.\n",
            "Epoch 214/400\n",
            "43/43 [==============================] - 5s 126ms/step - loss: 0.0054 - custom_metric: 0.7871 - val_loss: 0.0046 - val_custom_metric: 0.6650 - lr: 0.0022\n",
            "\n",
            "Epoch 215: LearningRateScheduler setting learning rate to 0.002225941512733698.\n",
            "Epoch 215/400\n",
            "43/43 [==============================] - 5s 126ms/step - loss: 0.0055 - custom_metric: 0.8064 - val_loss: 0.0086 - val_custom_metric: 1.0896 - lr: 0.0022\n",
            "\n",
            "Epoch 216: LearningRateScheduler setting learning rate to 0.0022064356599003077.\n",
            "Epoch 216/400\n",
            "43/43 [==============================] - 6s 131ms/step - loss: 0.0055 - custom_metric: 0.8054 - val_loss: 0.0035 - val_custom_metric: 0.5190 - lr: 0.0022\n",
            "\n",
            "Epoch 217: LearningRateScheduler setting learning rate to 0.002186948200687766.\n",
            "Epoch 217/400\n",
            "43/43 [==============================] - 6s 130ms/step - loss: 0.0054 - custom_metric: 0.7815 - val_loss: 0.0038 - val_custom_metric: 0.5755 - lr: 0.0022\n",
            "\n",
            "Epoch 218: LearningRateScheduler setting learning rate to 0.002167479833588004.\n",
            "Epoch 218/400\n",
            "43/43 [==============================] - 6s 129ms/step - loss: 0.0055 - custom_metric: 0.8014 - val_loss: 0.0036 - val_custom_metric: 0.5495 - lr: 0.0022\n",
            "\n",
            "Epoch 219: LearningRateScheduler setting learning rate to 0.0021480319555848837.\n",
            "Epoch 219/400\n",
            "43/43 [==============================] - 6s 128ms/step - loss: 0.0054 - custom_metric: 0.7921 - val_loss: 0.0048 - val_custom_metric: 0.6467 - lr: 0.0021\n",
            "\n",
            "Epoch 220: LearningRateScheduler setting learning rate to 0.0021286059636622667.\n",
            "Epoch 220/400\n",
            "43/43 [==============================] - 6s 132ms/step - loss: 0.0055 - custom_metric: 0.8039 - val_loss: 0.0040 - val_custom_metric: 0.6158 - lr: 0.0021\n",
            "\n",
            "Epoch 221: LearningRateScheduler setting learning rate to 0.002109202789142728.\n",
            "Epoch 221/400\n",
            "43/43 [==============================] - 6s 131ms/step - loss: 0.0055 - custom_metric: 0.8021 - val_loss: 0.0048 - val_custom_metric: 0.6976 - lr: 0.0021\n",
            "\n",
            "Epoch 222: LearningRateScheduler setting learning rate to 0.002089823829010129.\n",
            "Epoch 222/400\n",
            "43/43 [==============================] - 6s 129ms/step - loss: 0.0054 - custom_metric: 0.7823 - val_loss: 0.0106 - val_custom_metric: 1.3602 - lr: 0.0021\n",
            "\n",
            "Epoch 223: LearningRateScheduler setting learning rate to 0.0020704700145870447.\n",
            "Epoch 223/400\n",
            "43/43 [==============================] - 5s 127ms/step - loss: 0.0055 - custom_metric: 0.7927 - val_loss: 0.0043 - val_custom_metric: 0.6220 - lr: 0.0021\n",
            "\n",
            "Epoch 224: LearningRateScheduler setting learning rate to 0.002051142742857337.\n",
            "Epoch 224/400\n",
            "43/43 [==============================] - 6s 131ms/step - loss: 0.0054 - custom_metric: 0.7859 - val_loss: 0.0036 - val_custom_metric: 0.5255 - lr: 0.0021\n",
            "\n",
            "Epoch 225: LearningRateScheduler setting learning rate to 0.0020318434108048677.\n",
            "Epoch 225/400\n",
            "43/43 [==============================] - 5s 127ms/step - loss: 0.0053 - custom_metric: 0.7764 - val_loss: 0.0040 - val_custom_metric: 0.5807 - lr: 0.0020\n",
            "\n",
            "Epoch 226: LearningRateScheduler setting learning rate to 0.0020125729497522116.\n",
            "Epoch 226/400\n",
            "43/43 [==============================] - 5s 127ms/step - loss: 0.0057 - custom_metric: 0.8277 - val_loss: 0.0043 - val_custom_metric: 0.6204 - lr: 0.0020\n",
            "\n",
            "Epoch 227: LearningRateScheduler setting learning rate to 0.001993332291021943.\n",
            "Epoch 227/400\n",
            "43/43 [==============================] - 5s 126ms/step - loss: 0.0059 - custom_metric: 0.8629 - val_loss: 0.0049 - val_custom_metric: 0.6553 - lr: 0.0020\n",
            "\n",
            "Epoch 228: LearningRateScheduler setting learning rate to 0.001974123064428568.\n",
            "Epoch 228/400\n",
            "43/43 [==============================] - 5s 127ms/step - loss: 0.0059 - custom_metric: 0.8530 - val_loss: 0.0037 - val_custom_metric: 0.5591 - lr: 0.0020\n",
            "\n",
            "Epoch 229: LearningRateScheduler setting learning rate to 0.0019549464341253042.\n",
            "Epoch 229/400\n",
            "43/43 [==============================] - 5s 126ms/step - loss: 0.0059 - custom_metric: 0.8520 - val_loss: 0.0039 - val_custom_metric: 0.5943 - lr: 0.0020\n",
            "\n",
            "Epoch 230: LearningRateScheduler setting learning rate to 0.001935803098604083.\n",
            "Epoch 230/400\n",
            "43/43 [==============================] - 5s 126ms/step - loss: 0.0059 - custom_metric: 0.8447 - val_loss: 0.0038 - val_custom_metric: 0.5349 - lr: 0.0019\n",
            "\n",
            "Epoch 231: LearningRateScheduler setting learning rate to 0.0019166948040947318.\n",
            "Epoch 231/400\n",
            "43/43 [==============================] - 5s 123ms/step - loss: 0.0057 - custom_metric: 0.8274 - val_loss: 0.0048 - val_custom_metric: 0.7740 - lr: 0.0019\n",
            "\n",
            "Epoch 232: LearningRateScheduler setting learning rate to 0.001897622481919825.\n",
            "Epoch 232/400\n",
            "43/43 [==============================] - 5s 126ms/step - loss: 0.0057 - custom_metric: 0.8178 - val_loss: 0.0039 - val_custom_metric: 0.6043 - lr: 0.0019\n",
            "\n",
            "Epoch 233: LearningRateScheduler setting learning rate to 0.0018785872962325811.\n",
            "Epoch 233/400\n",
            "43/43 [==============================] - 5s 126ms/step - loss: 0.0060 - custom_metric: 0.8782 - val_loss: 0.0039 - val_custom_metric: 0.6655 - lr: 0.0019\n",
            "\n",
            "Epoch 234: LearningRateScheduler setting learning rate to 0.00185959052760154.\n",
            "Epoch 234/400\n",
            "43/43 [==============================] - 5s 127ms/step - loss: 0.0064 - custom_metric: 0.9063 - val_loss: 0.0039 - val_custom_metric: 0.6125 - lr: 0.0019\n",
            "\n",
            "Epoch 235: LearningRateScheduler setting learning rate to 0.0018406331073492765.\n",
            "Epoch 235/400\n",
            "43/43 [==============================] - 5s 125ms/step - loss: 0.0062 - custom_metric: 0.8847 - val_loss: 0.0041 - val_custom_metric: 0.6562 - lr: 0.0018\n",
            "\n",
            "Epoch 236: LearningRateScheduler setting learning rate to 0.0018217164324596524.\n",
            "Epoch 236/400\n",
            "43/43 [==============================] - 5s 126ms/step - loss: 0.0060 - custom_metric: 0.8558 - val_loss: 0.0041 - val_custom_metric: 0.5556 - lr: 0.0018\n",
            "\n",
            "Epoch 237: LearningRateScheduler setting learning rate to 0.0018028417835012078.\n",
            "Epoch 237/400\n",
            "43/43 [==============================] - 5s 127ms/step - loss: 0.0058 - custom_metric: 0.8387 - val_loss: 0.0040 - val_custom_metric: 0.5877 - lr: 0.0018\n",
            "\n",
            "Epoch 238: LearningRateScheduler setting learning rate to 0.0017840100917965174.\n",
            "Epoch 238/400\n",
            "43/43 [==============================] - 5s 127ms/step - loss: 0.0057 - custom_metric: 0.8231 - val_loss: 0.0046 - val_custom_metric: 0.7063 - lr: 0.0018\n",
            "\n",
            "Epoch 239: LearningRateScheduler setting learning rate to 0.0017652225214987993.\n",
            "Epoch 239/400\n",
            "43/43 [==============================] - 5s 126ms/step - loss: 0.0062 - custom_metric: 0.9448 - val_loss: 0.0039 - val_custom_metric: 0.6774 - lr: 0.0018\n",
            "\n",
            "Epoch 240: LearningRateScheduler setting learning rate to 0.001746480236761272.\n",
            "Epoch 240/400\n",
            "43/43 [==============================] - 6s 128ms/step - loss: 0.0060 - custom_metric: 0.8530 - val_loss: 0.0040 - val_custom_metric: 0.6206 - lr: 0.0017\n",
            "\n",
            "Epoch 241: LearningRateScheduler setting learning rate to 0.0017277845181524754.\n",
            "Epoch 241/400\n",
            "43/43 [==============================] - 6s 128ms/step - loss: 0.0059 - custom_metric: 0.8490 - val_loss: 0.0037 - val_custom_metric: 0.5550 - lr: 0.0017\n",
            "\n",
            "Epoch 242: LearningRateScheduler setting learning rate to 0.0017091365298256278.\n",
            "Epoch 242/400\n",
            "43/43 [==============================] - 5s 125ms/step - loss: 0.0058 - custom_metric: 0.8390 - val_loss: 0.0040 - val_custom_metric: 0.6117 - lr: 0.0017\n",
            "\n",
            "Epoch 243: LearningRateScheduler setting learning rate to 0.0016905373195186257.\n",
            "Epoch 243/400\n",
            "43/43 [==============================] - 6s 128ms/step - loss: 0.0057 - custom_metric: 0.8221 - val_loss: 0.0044 - val_custom_metric: 0.6875 - lr: 0.0017\n",
            "\n",
            "Epoch 244: LearningRateScheduler setting learning rate to 0.0016719881678000093.\n",
            "Epoch 244/400\n",
            "43/43 [==============================] - 5s 127ms/step - loss: 0.0057 - custom_metric: 0.8250 - val_loss: 0.0040 - val_custom_metric: 0.5768 - lr: 0.0017\n",
            "\n",
            "Epoch 245: LearningRateScheduler setting learning rate to 0.0016534898895770311.\n",
            "Epoch 245/400\n",
            "43/43 [==============================] - 5s 127ms/step - loss: 0.0056 - custom_metric: 0.8067 - val_loss: 0.0040 - val_custom_metric: 0.5852 - lr: 0.0017\n",
            "\n",
            "Epoch 246: LearningRateScheduler setting learning rate to 0.0016350438818335533.\n",
            "Epoch 246/400\n",
            "43/43 [==============================] - 5s 125ms/step - loss: 0.0055 - custom_metric: 0.7991 - val_loss: 0.0040 - val_custom_metric: 0.5776 - lr: 0.0016\n",
            "\n",
            "Epoch 247: LearningRateScheduler setting learning rate to 0.0016166511923074722.\n",
            "Epoch 247/400\n",
            "43/43 [==============================] - 5s 127ms/step - loss: 0.0054 - custom_metric: 0.7912 - val_loss: 0.0040 - val_custom_metric: 0.6009 - lr: 0.0016\n",
            "\n",
            "Epoch 248: LearningRateScheduler setting learning rate to 0.001598313101567328.\n",
            "Epoch 248/400\n",
            "43/43 [==============================] - 5s 126ms/step - loss: 0.0056 - custom_metric: 0.8153 - val_loss: 0.0041 - val_custom_metric: 0.5827 - lr: 0.0016\n",
            "\n",
            "Epoch 249: LearningRateScheduler setting learning rate to 0.0015800307737663388.\n",
            "Epoch 249/400\n",
            "43/43 [==============================] - 5s 127ms/step - loss: 0.0055 - custom_metric: 0.7994 - val_loss: 0.0039 - val_custom_metric: 0.5936 - lr: 0.0016\n",
            "\n",
            "Epoch 250: LearningRateScheduler setting learning rate to 0.001561804790981114.\n",
            "Epoch 250/400\n",
            "43/43 [==============================] - 6s 143ms/step - loss: 0.0061 - custom_metric: 0.8894 - val_loss: 0.0049 - val_custom_metric: 0.8337 - lr: 0.0016\n",
            "\n",
            "Epoch 251: LearningRateScheduler setting learning rate to 0.0015436370158568025.\n",
            "Epoch 251/400\n",
            "43/43 [==============================] - 6s 128ms/step - loss: 0.0061 - custom_metric: 0.8680 - val_loss: 0.0047 - val_custom_metric: 0.6492 - lr: 0.0015\n",
            "\n",
            "Epoch 252: LearningRateScheduler setting learning rate to 0.0015255282633006573.\n",
            "Epoch 252/400\n",
            "43/43 [==============================] - 6s 128ms/step - loss: 0.0060 - custom_metric: 0.8491 - val_loss: 0.0052 - val_custom_metric: 0.7573 - lr: 0.0015\n",
            "\n",
            "Epoch 253: LearningRateScheduler setting learning rate to 0.0015074793482199311.\n",
            "Epoch 253/400\n",
            "43/43 [==============================] - 6s 128ms/step - loss: 0.0059 - custom_metric: 0.8477 - val_loss: 0.0043 - val_custom_metric: 0.6388 - lr: 0.0015\n",
            "\n",
            "Epoch 254: LearningRateScheduler setting learning rate to 0.0014894919004291296.\n",
            "Epoch 254/400\n",
            "43/43 [==============================] - 5s 126ms/step - loss: 0.0057 - custom_metric: 0.8239 - val_loss: 0.0043 - val_custom_metric: 0.6754 - lr: 0.0015\n",
            "\n",
            "Epoch 255: LearningRateScheduler setting learning rate to 0.001471567084081471.\n",
            "Epoch 255/400\n",
            "43/43 [==============================] - 5s 125ms/step - loss: 0.0057 - custom_metric: 0.8272 - val_loss: 0.0040 - val_custom_metric: 0.6442 - lr: 0.0015\n",
            "\n",
            "Epoch 256: LearningRateScheduler setting learning rate to 0.0014537051320075989.\n",
            "Epoch 256/400\n",
            "43/43 [==============================] - 5s 125ms/step - loss: 0.0056 - custom_metric: 0.8101 - val_loss: 0.0039 - val_custom_metric: 0.6387 - lr: 0.0015\n",
            "\n",
            "Epoch 257: LearningRateScheduler setting learning rate to 0.0014359079068526626.\n",
            "Epoch 257/400\n",
            "43/43 [==============================] - 5s 128ms/step - loss: 0.0055 - custom_metric: 0.8069 - val_loss: 0.0042 - val_custom_metric: 0.6820 - lr: 0.0014\n",
            "\n",
            "Epoch 258: LearningRateScheduler setting learning rate to 0.0014181764563545585.\n",
            "Epoch 258/400\n",
            "43/43 [==============================] - 5s 126ms/step - loss: 0.0055 - custom_metric: 0.7966 - val_loss: 0.0038 - val_custom_metric: 0.6020 - lr: 0.0014\n",
            "\n",
            "Epoch 259: LearningRateScheduler setting learning rate to 0.0014005117118358612.\n",
            "Epoch 259/400\n",
            "43/43 [==============================] - 6s 128ms/step - loss: 0.0055 - custom_metric: 0.8001 - val_loss: 0.0037 - val_custom_metric: 0.5710 - lr: 0.0014\n",
            "\n",
            "Epoch 260: LearningRateScheduler setting learning rate to 0.0013829149538651109.\n",
            "Epoch 260/400\n",
            "43/43 [==============================] - 5s 126ms/step - loss: 0.0055 - custom_metric: 0.7982 - val_loss: 0.0041 - val_custom_metric: 0.6097 - lr: 0.0014\n",
            "\n",
            "Epoch 261: LearningRateScheduler setting learning rate to 0.0013653869973495603.\n",
            "Epoch 261/400\n",
            "43/43 [==============================] - 5s 127ms/step - loss: 0.0055 - custom_metric: 0.7961 - val_loss: 0.0042 - val_custom_metric: 0.5903 - lr: 0.0014\n",
            "\n",
            "Epoch 262: LearningRateScheduler setting learning rate to 0.0013479297049343586.\n",
            "Epoch 262/400\n",
            "43/43 [==============================] - 5s 127ms/step - loss: 0.0054 - custom_metric: 0.7941 - val_loss: 0.0041 - val_custom_metric: 0.6135 - lr: 0.0013\n",
            "\n",
            "Epoch 263: LearningRateScheduler setting learning rate to 0.0013305424945428967.\n",
            "Epoch 263/400\n",
            "43/43 [==============================] - 5s 127ms/step - loss: 0.0053 - custom_metric: 0.7799 - val_loss: 0.0038 - val_custom_metric: 0.5347 - lr: 0.0013\n",
            "\n",
            "Epoch 264: LearningRateScheduler setting learning rate to 0.001313227927312255.\n",
            "Epoch 264/400\n",
            "43/43 [==============================] - 5s 126ms/step - loss: 0.0054 - custom_metric: 0.7860 - val_loss: 0.0040 - val_custom_metric: 0.5724 - lr: 0.0013\n",
            "\n",
            "Epoch 265: LearningRateScheduler setting learning rate to 0.0012959863524883986.\n",
            "Epoch 265/400\n",
            "43/43 [==============================] - 6s 128ms/step - loss: 0.0055 - custom_metric: 0.8006 - val_loss: 0.0038 - val_custom_metric: 0.5715 - lr: 0.0013\n",
            "\n",
            "Epoch 266: LearningRateScheduler setting learning rate to 0.0012788191670551896.\n",
            "Epoch 266/400\n",
            "43/43 [==============================] - 7s 159ms/step - loss: 0.0054 - custom_metric: 0.7800 - val_loss: 0.0040 - val_custom_metric: 0.5795 - lr: 0.0013\n",
            "\n",
            "Epoch 267: LearningRateScheduler setting learning rate to 0.0012617271859198809.\n",
            "Epoch 267/400\n",
            "43/43 [==============================] - 5s 126ms/step - loss: 0.0053 - custom_metric: 0.7781 - val_loss: 0.0038 - val_custom_metric: 0.5797 - lr: 0.0013\n",
            "\n",
            "Epoch 268: LearningRateScheduler setting learning rate to 0.001244711922481656.\n",
            "Epoch 268/400\n",
            "43/43 [==============================] - 5s 126ms/step - loss: 0.0053 - custom_metric: 0.7727 - val_loss: 0.0041 - val_custom_metric: 0.6146 - lr: 0.0012\n",
            "\n",
            "Epoch 269: LearningRateScheduler setting learning rate to 0.0012277737259864807.\n",
            "Epoch 269/400\n",
            "43/43 [==============================] - 5s 127ms/step - loss: 0.0053 - custom_metric: 0.7811 - val_loss: 0.0036 - val_custom_metric: 0.5359 - lr: 0.0012\n",
            "\n",
            "Epoch 270: LearningRateScheduler setting learning rate to 0.0012109143426641822.\n",
            "Epoch 270/400\n",
            "43/43 [==============================] - 5s 125ms/step - loss: 0.0054 - custom_metric: 0.7789 - val_loss: 0.0037 - val_custom_metric: 0.5635 - lr: 0.0012\n",
            "\n",
            "Epoch 271: LearningRateScheduler setting learning rate to 0.0011941343545913696.\n",
            "Epoch 271/400\n",
            "43/43 [==============================] - 5s 126ms/step - loss: 0.0054 - custom_metric: 0.7883 - val_loss: 0.0039 - val_custom_metric: 0.5547 - lr: 0.0012\n",
            "\n",
            "Epoch 272: LearningRateScheduler setting learning rate to 0.0011774349259212613.\n",
            "Epoch 272/400\n",
            "43/43 [==============================] - 5s 126ms/step - loss: 0.0053 - custom_metric: 0.7689 - val_loss: 0.0036 - val_custom_metric: 0.5696 - lr: 0.0012\n",
            "\n",
            "Epoch 273: LearningRateScheduler setting learning rate to 0.0011608169879764318.\n",
            "Epoch 273/400\n",
            "43/43 [==============================] - 5s 125ms/step - loss: 0.0053 - custom_metric: 0.7798 - val_loss: 0.0037 - val_custom_metric: 0.5554 - lr: 0.0012\n",
            "\n",
            "Epoch 274: LearningRateScheduler setting learning rate to 0.0011442818213254213.\n",
            "Epoch 274/400\n",
            "43/43 [==============================] - 5s 125ms/step - loss: 0.0053 - custom_metric: 0.7726 - val_loss: 0.0039 - val_custom_metric: 0.5783 - lr: 0.0011\n",
            "\n",
            "Epoch 275: LearningRateScheduler setting learning rate to 0.0011278302408754826.\n",
            "Epoch 275/400\n",
            "43/43 [==============================] - 5s 125ms/step - loss: 0.0053 - custom_metric: 0.7718 - val_loss: 0.0039 - val_custom_metric: 0.5714 - lr: 0.0011\n",
            "\n",
            "Epoch 276: LearningRateScheduler setting learning rate to 0.0011114634107798338.\n",
            "Epoch 276/400\n",
            "43/43 [==============================] - 5s 124ms/step - loss: 0.0052 - custom_metric: 0.7578 - val_loss: 0.0040 - val_custom_metric: 0.5871 - lr: 0.0011\n",
            "\n",
            "Epoch 277: LearningRateScheduler setting learning rate to 0.001095182029530406.\n",
            "Epoch 277/400\n",
            "43/43 [==============================] - 5s 124ms/step - loss: 0.0052 - custom_metric: 0.7664 - val_loss: 0.0039 - val_custom_metric: 0.5634 - lr: 0.0011\n",
            "\n",
            "Epoch 278: LearningRateScheduler setting learning rate to 0.001078987610526383.\n",
            "Epoch 278/400\n",
            "43/43 [==============================] - 5s 125ms/step - loss: 0.0053 - custom_metric: 0.7707 - val_loss: 0.0037 - val_custom_metric: 0.5497 - lr: 0.0011\n",
            "\n",
            "Epoch 279: LearningRateScheduler setting learning rate to 0.0010628806194290519.\n",
            "Epoch 279/400\n",
            "43/43 [==============================] - 5s 126ms/step - loss: 0.0051 - custom_metric: 0.7600 - val_loss: 0.0036 - val_custom_metric: 0.5407 - lr: 0.0011\n",
            "\n",
            "Epoch 280: LearningRateScheduler setting learning rate to 0.0010468624532222748.\n",
            "Epoch 280/400\n",
            "43/43 [==============================] - 5s 125ms/step - loss: 0.0051 - custom_metric: 0.7546 - val_loss: 0.0037 - val_custom_metric: 0.5572 - lr: 0.0010\n",
            "\n",
            "Epoch 281: LearningRateScheduler setting learning rate to 0.0010309338103979826.\n",
            "Epoch 281/400\n",
            "43/43 [==============================] - 6s 129ms/step - loss: 0.0051 - custom_metric: 0.7525 - val_loss: 0.0038 - val_custom_metric: 0.5764 - lr: 0.0010\n",
            "\n",
            "Epoch 282: LearningRateScheduler setting learning rate to 0.0010150958551093936.\n",
            "Epoch 282/400\n",
            "43/43 [==============================] - 5s 125ms/step - loss: 0.0051 - custom_metric: 0.7479 - val_loss: 0.0037 - val_custom_metric: 0.5732 - lr: 0.0010\n",
            "\n",
            "Epoch 283: LearningRateScheduler setting learning rate to 0.0009993495186790824.\n",
            "Epoch 283/400\n",
            "43/43 [==============================] - 5s 126ms/step - loss: 0.0050 - custom_metric: 0.7386 - val_loss: 0.0035 - val_custom_metric: 0.5130 - lr: 9.9935e-04\n",
            "\n",
            "Epoch 284: LearningRateScheduler setting learning rate to 0.0009836957324296236.\n",
            "Epoch 284/400\n",
            "43/43 [==============================] - 5s 126ms/step - loss: 0.0051 - custom_metric: 0.7495 - val_loss: 0.0047 - val_custom_metric: 0.6760 - lr: 9.8370e-04\n",
            "\n",
            "Epoch 285: LearningRateScheduler setting learning rate to 0.0009681356023065746.\n",
            "Epoch 285/400\n",
            "43/43 [==============================] - 5s 125ms/step - loss: 0.0050 - custom_metric: 0.7425 - val_loss: 0.0037 - val_custom_metric: 0.5875 - lr: 9.6814e-04\n",
            "\n",
            "Epoch 286: LearningRateScheduler setting learning rate to 0.0009526698850095272.\n",
            "Epoch 286/400\n",
            "43/43 [==============================] - 5s 126ms/step - loss: 0.0050 - custom_metric: 0.7448 - val_loss: 0.0037 - val_custom_metric: 0.5506 - lr: 9.5267e-04\n",
            "\n",
            "Epoch 287: LearningRateScheduler setting learning rate to 0.0009372996282763779.\n",
            "Epoch 287/400\n",
            "43/43 [==============================] - 6s 127ms/step - loss: 0.0051 - custom_metric: 0.7476 - val_loss: 0.0040 - val_custom_metric: 0.5873 - lr: 9.3730e-04\n",
            "\n",
            "Epoch 288: LearningRateScheduler setting learning rate to 0.0009220258798450232.\n",
            "Epoch 288/400\n",
            "43/43 [==============================] - 6s 129ms/step - loss: 0.0050 - custom_metric: 0.7397 - val_loss: 0.0041 - val_custom_metric: 0.5650 - lr: 9.2203e-04\n",
            "\n",
            "Epoch 289: LearningRateScheduler setting learning rate to 0.0009068493382073939.\n",
            "Epoch 289/400\n",
            "43/43 [==============================] - 6s 128ms/step - loss: 0.0050 - custom_metric: 0.7286 - val_loss: 0.0038 - val_custom_metric: 0.5729 - lr: 9.0685e-04\n",
            "\n",
            "Epoch 290: LearningRateScheduler setting learning rate to 0.0008917711675167084.\n",
            "Epoch 290/400\n",
            "43/43 [==============================] - 5s 126ms/step - loss: 0.0050 - custom_metric: 0.7364 - val_loss: 0.0037 - val_custom_metric: 0.5493 - lr: 8.9177e-04\n",
            "\n",
            "Epoch 291: LearningRateScheduler setting learning rate to 0.0008767922990955412.\n",
            "Epoch 291/400\n",
            "43/43 [==============================] - 6s 128ms/step - loss: 0.0050 - custom_metric: 0.7336 - val_loss: 0.0035 - val_custom_metric: 0.5398 - lr: 8.7679e-04\n",
            "\n",
            "Epoch 292: LearningRateScheduler setting learning rate to 0.0008619134896434844.\n",
            "Epoch 292/400\n",
            "43/43 [==============================] - 5s 127ms/step - loss: 0.0050 - custom_metric: 0.7379 - val_loss: 0.0035 - val_custom_metric: 0.5536 - lr: 8.6191e-04\n",
            "\n",
            "Epoch 293: LearningRateScheduler setting learning rate to 0.0008471356122754514.\n",
            "Epoch 293/400\n",
            "43/43 [==============================] - 5s 128ms/step - loss: 0.0050 - custom_metric: 0.7315 - val_loss: 0.0035 - val_custom_metric: 0.5479 - lr: 8.4714e-04\n",
            "\n",
            "Epoch 294: LearningRateScheduler setting learning rate to 0.0008324597729369998.\n",
            "Epoch 294/400\n",
            "43/43 [==============================] - 5s 127ms/step - loss: 0.0050 - custom_metric: 0.7349 - val_loss: 0.0035 - val_custom_metric: 0.5251 - lr: 8.3246e-04\n",
            "\n",
            "Epoch 295: LearningRateScheduler setting learning rate to 0.0008178868447430432.\n",
            "Epoch 295/400\n",
            "43/43 [==============================] - 5s 126ms/step - loss: 0.0050 - custom_metric: 0.7333 - val_loss: 0.0036 - val_custom_metric: 0.5231 - lr: 8.1789e-04\n",
            "\n",
            "Epoch 296: LearningRateScheduler setting learning rate to 0.0008034177590161562.\n",
            "Epoch 296/400\n",
            "43/43 [==============================] - 5s 127ms/step - loss: 0.0049 - custom_metric: 0.7247 - val_loss: 0.0036 - val_custom_metric: 0.5222 - lr: 8.0342e-04\n",
            "\n",
            "Epoch 297: LearningRateScheduler setting learning rate to 0.0007890532724559307.\n",
            "Epoch 297/400\n",
            "43/43 [==============================] - 5s 128ms/step - loss: 0.0049 - custom_metric: 0.7265 - val_loss: 0.0036 - val_custom_metric: 0.5214 - lr: 7.8905e-04\n",
            "\n",
            "Epoch 298: LearningRateScheduler setting learning rate to 0.0007747944328002632.\n",
            "Epoch 298/400\n",
            "43/43 [==============================] - 5s 125ms/step - loss: 0.0049 - custom_metric: 0.7318 - val_loss: 0.0037 - val_custom_metric: 0.5459 - lr: 7.7479e-04\n",
            "\n",
            "Epoch 299: LearningRateScheduler setting learning rate to 0.0007606418221257627.\n",
            "Epoch 299/400\n",
            "43/43 [==============================] - 5s 125ms/step - loss: 0.0050 - custom_metric: 0.7330 - val_loss: 0.0035 - val_custom_metric: 0.5272 - lr: 7.6064e-04\n",
            "\n",
            "Epoch 300: LearningRateScheduler setting learning rate to 0.0007465966627933085.\n",
            "Epoch 300/400\n",
            "43/43 [==============================] - 5s 127ms/step - loss: 0.0049 - custom_metric: 0.7234 - val_loss: 0.0036 - val_custom_metric: 0.5247 - lr: 7.4660e-04\n",
            "\n",
            "Epoch 301: LearningRateScheduler setting learning rate to 0.0007326598279178143.\n",
            "Epoch 301/400\n",
            "43/43 [==============================] - 6s 128ms/step - loss: 0.0048 - custom_metric: 0.7170 - val_loss: 0.0037 - val_custom_metric: 0.5437 - lr: 7.3266e-04\n",
            "\n",
            "Epoch 302: LearningRateScheduler setting learning rate to 0.0007188317831605673.\n",
            "Epoch 302/400\n",
            "43/43 [==============================] - 5s 126ms/step - loss: 0.0049 - custom_metric: 0.7276 - val_loss: 0.0038 - val_custom_metric: 0.5462 - lr: 7.1883e-04\n",
            "\n",
            "Epoch 303: LearningRateScheduler setting learning rate to 0.0007051137508824468.\n",
            "Epoch 303/400\n",
            "43/43 [==============================] - 6s 129ms/step - loss: 0.0049 - custom_metric: 0.7344 - val_loss: 0.0037 - val_custom_metric: 0.5619 - lr: 7.0511e-04\n",
            "\n",
            "Epoch 304: LearningRateScheduler setting learning rate to 0.0006915063131600618.\n",
            "Epoch 304/400\n",
            "43/43 [==============================] - 5s 126ms/step - loss: 0.0047 - custom_metric: 0.7045 - val_loss: 0.0036 - val_custom_metric: 0.5358 - lr: 6.9151e-04\n",
            "\n",
            "Epoch 305: LearningRateScheduler setting learning rate to 0.0006780106341466308.\n",
            "Epoch 305/400\n",
            "43/43 [==============================] - 5s 127ms/step - loss: 0.0049 - custom_metric: 0.7190 - val_loss: 0.0038 - val_custom_metric: 0.5653 - lr: 6.7801e-04\n",
            "\n",
            "Epoch 306: LearningRateScheduler setting learning rate to 0.0006646271795034409.\n",
            "Epoch 306/400\n",
            "43/43 [==============================] - 5s 126ms/step - loss: 0.0049 - custom_metric: 0.7251 - val_loss: 0.0036 - val_custom_metric: 0.5279 - lr: 6.6463e-04\n",
            "\n",
            "Epoch 307: LearningRateScheduler setting learning rate to 0.0006513571133837104.\n",
            "Epoch 307/400\n",
            "43/43 [==============================] - 6s 128ms/step - loss: 0.0049 - custom_metric: 0.7158 - val_loss: 0.0036 - val_custom_metric: 0.5355 - lr: 6.5136e-04\n",
            "\n",
            "Epoch 308: LearningRateScheduler setting learning rate to 0.0006382010178640485.\n",
            "Epoch 308/400\n",
            "43/43 [==============================] - 5s 126ms/step - loss: 0.0049 - custom_metric: 0.7181 - val_loss: 0.0036 - val_custom_metric: 0.5332 - lr: 6.3820e-04\n",
            "\n",
            "Epoch 309: LearningRateScheduler setting learning rate to 0.0006251597078517079.\n",
            "Epoch 309/400\n",
            "43/43 [==============================] - 5s 124ms/step - loss: 0.0048 - custom_metric: 0.7147 - val_loss: 0.0035 - val_custom_metric: 0.5236 - lr: 6.2516e-04\n",
            "\n",
            "Epoch 310: LearningRateScheduler setting learning rate to 0.0006122341146692634.\n",
            "Epoch 310/400\n",
            "43/43 [==============================] - 5s 126ms/step - loss: 0.0049 - custom_metric: 0.7235 - val_loss: 0.0036 - val_custom_metric: 0.5235 - lr: 6.1223e-04\n",
            "\n",
            "Epoch 311: LearningRateScheduler setting learning rate to 0.0005994250532239676.\n",
            "Epoch 311/400\n",
            "43/43 [==============================] - 5s 127ms/step - loss: 0.0048 - custom_metric: 0.7122 - val_loss: 0.0034 - val_custom_metric: 0.4948 - lr: 5.9943e-04\n",
            "\n",
            "Epoch 312: LearningRateScheduler setting learning rate to 0.0005867332220077515.\n",
            "Epoch 312/400\n",
            "43/43 [==============================] - 6s 130ms/step - loss: 0.0048 - custom_metric: 0.7104 - val_loss: 0.0035 - val_custom_metric: 0.5159 - lr: 5.8673e-04\n",
            "\n",
            "Epoch 313: LearningRateScheduler setting learning rate to 0.000574159377720207.\n",
            "Epoch 313/400\n",
            "43/43 [==============================] - 6s 129ms/step - loss: 0.0048 - custom_metric: 0.7054 - val_loss: 0.0037 - val_custom_metric: 0.5348 - lr: 5.7416e-04\n",
            "\n",
            "Epoch 314: LearningRateScheduler setting learning rate to 0.0005617044516839087.\n",
            "Epoch 314/400\n",
            "43/43 [==============================] - 5s 126ms/step - loss: 0.0049 - custom_metric: 0.7256 - val_loss: 0.0041 - val_custom_metric: 0.5842 - lr: 5.6170e-04\n",
            "\n",
            "Epoch 315: LearningRateScheduler setting learning rate to 0.0005493689677678049.\n",
            "Epoch 315/400\n",
            "43/43 [==============================] - 5s 125ms/step - loss: 0.0048 - custom_metric: 0.7105 - val_loss: 0.0038 - val_custom_metric: 0.5456 - lr: 5.4937e-04\n",
            "\n",
            "Epoch 316: LearningRateScheduler setting learning rate to 0.0005371539737097919.\n",
            "Epoch 316/400\n",
            "43/43 [==============================] - 7s 164ms/step - loss: 0.0048 - custom_metric: 0.7091 - val_loss: 0.0036 - val_custom_metric: 0.5389 - lr: 5.3715e-04\n",
            "\n",
            "Epoch 317: LearningRateScheduler setting learning rate to 0.0005250599351711571.\n",
            "Epoch 317/400\n",
            "43/43 [==============================] - 5s 125ms/step - loss: 0.0048 - custom_metric: 0.7060 - val_loss: 0.0034 - val_custom_metric: 0.5083 - lr: 5.2506e-04\n",
            "\n",
            "Epoch 318: LearningRateScheduler setting learning rate to 0.0005130877252668142.\n",
            "Epoch 318/400\n",
            "43/43 [==============================] - 6s 127ms/step - loss: 0.0048 - custom_metric: 0.7174 - val_loss: 0.0036 - val_custom_metric: 0.5285 - lr: 5.1309e-04\n",
            "\n",
            "Epoch 319: LearningRateScheduler setting learning rate to 0.000501238158904016.\n",
            "Epoch 319/400\n",
            "43/43 [==============================] - 6s 129ms/step - loss: 0.0048 - custom_metric: 0.7188 - val_loss: 0.0035 - val_custom_metric: 0.5125 - lr: 5.0124e-04\n",
            "\n",
            "Epoch 320: LearningRateScheduler setting learning rate to 0.0004895119345746934.\n",
            "Epoch 320/400\n",
            "43/43 [==============================] - 5s 126ms/step - loss: 0.0047 - custom_metric: 0.7073 - val_loss: 0.0037 - val_custom_metric: 0.5340 - lr: 4.8951e-04\n",
            "\n",
            "Epoch 321: LearningRateScheduler setting learning rate to 0.0004779095761477947.\n",
            "Epoch 321/400\n",
            "43/43 [==============================] - 6s 128ms/step - loss: 0.0048 - custom_metric: 0.7063 - val_loss: 0.0035 - val_custom_metric: 0.5218 - lr: 4.7791e-04\n",
            "\n",
            "Epoch 322: LearningRateScheduler setting learning rate to 0.0004664322186727077.\n",
            "Epoch 322/400\n",
            "43/43 [==============================] - 5s 127ms/step - loss: 0.0048 - custom_metric: 0.7095 - val_loss: 0.0037 - val_custom_metric: 0.5412 - lr: 4.6643e-04\n",
            "\n",
            "Epoch 323: LearningRateScheduler setting learning rate to 0.00045508015318773687.\n",
            "Epoch 323/400\n",
            "43/43 [==============================] - 5s 128ms/step - loss: 0.0047 - custom_metric: 0.7075 - val_loss: 0.0036 - val_custom_metric: 0.5289 - lr: 4.5508e-04\n",
            "\n",
            "Epoch 324: LearningRateScheduler setting learning rate to 0.0004438543110154569.\n",
            "Epoch 324/400\n",
            "43/43 [==============================] - 5s 127ms/step - loss: 0.0048 - custom_metric: 0.6996 - val_loss: 0.0037 - val_custom_metric: 0.5348 - lr: 4.4385e-04\n",
            "\n",
            "Epoch 325: LearningRateScheduler setting learning rate to 0.00043275521602481604.\n",
            "Epoch 325/400\n",
            "43/43 [==============================] - 6s 128ms/step - loss: 0.0047 - custom_metric: 0.6994 - val_loss: 0.0038 - val_custom_metric: 0.5528 - lr: 4.3276e-04\n",
            "\n",
            "Epoch 326: LearningRateScheduler setting learning rate to 0.00042178374133072793.\n",
            "Epoch 326/400\n",
            "43/43 [==============================] - 5s 125ms/step - loss: 0.0047 - custom_metric: 0.6987 - val_loss: 0.0035 - val_custom_metric: 0.5167 - lr: 4.2178e-04\n",
            "\n",
            "Epoch 327: LearningRateScheduler setting learning rate to 0.0004109404981136322.\n",
            "Epoch 327/400\n",
            "43/43 [==============================] - 5s 127ms/step - loss: 0.0047 - custom_metric: 0.6985 - val_loss: 0.0035 - val_custom_metric: 0.5088 - lr: 4.1094e-04\n",
            "\n",
            "Epoch 328: LearningRateScheduler setting learning rate to 0.0004002259811386466.\n",
            "Epoch 328/400\n",
            "43/43 [==============================] - 5s 125ms/step - loss: 0.0047 - custom_metric: 0.7003 - val_loss: 0.0035 - val_custom_metric: 0.5052 - lr: 4.0023e-04\n",
            "\n",
            "Epoch 329: LearningRateScheduler setting learning rate to 0.0003896410926245153.\n",
            "Epoch 329/400\n",
            "43/43 [==============================] - 5s 125ms/step - loss: 0.0047 - custom_metric: 0.7006 - val_loss: 0.0035 - val_custom_metric: 0.5104 - lr: 3.8964e-04\n",
            "\n",
            "Epoch 330: LearningRateScheduler setting learning rate to 0.00037918644375167787.\n",
            "Epoch 330/400\n",
            "43/43 [==============================] - 5s 125ms/step - loss: 0.0047 - custom_metric: 0.6947 - val_loss: 0.0036 - val_custom_metric: 0.5292 - lr: 3.7919e-04\n",
            "\n",
            "Epoch 331: LearningRateScheduler setting learning rate to 0.00036886261659674346.\n",
            "Epoch 331/400\n",
            "43/43 [==============================] - 5s 126ms/step - loss: 0.0046 - custom_metric: 0.6920 - val_loss: 0.0035 - val_custom_metric: 0.5210 - lr: 3.6886e-04\n",
            "\n",
            "Epoch 332: LearningRateScheduler setting learning rate to 0.0003586701932363212.\n",
            "Epoch 332/400\n",
            "43/43 [==============================] - 7s 162ms/step - loss: 0.0047 - custom_metric: 0.7018 - val_loss: 0.0035 - val_custom_metric: 0.5272 - lr: 3.5867e-04\n",
            "\n",
            "Epoch 333: LearningRateScheduler setting learning rate to 0.000348609930370003.\n",
            "Epoch 333/400\n",
            "43/43 [==============================] - 5s 126ms/step - loss: 0.0047 - custom_metric: 0.6903 - val_loss: 0.0034 - val_custom_metric: 0.5144 - lr: 3.4861e-04\n",
            "\n",
            "Epoch 334: LearningRateScheduler setting learning rate to 0.0003386824391782284.\n",
            "Epoch 334/400\n",
            "43/43 [==============================] - 6s 128ms/step - loss: 0.0046 - custom_metric: 0.6901 - val_loss: 0.0036 - val_custom_metric: 0.5148 - lr: 3.3868e-04\n",
            "\n",
            "Epoch 335: LearningRateScheduler setting learning rate to 0.0003288881271146238.\n",
            "Epoch 335/400\n",
            "43/43 [==============================] - 5s 127ms/step - loss: 0.0046 - custom_metric: 0.6925 - val_loss: 0.0034 - val_custom_metric: 0.4891 - lr: 3.2889e-04\n",
            "\n",
            "Epoch 336: LearningRateScheduler setting learning rate to 0.0003192279546055943.\n",
            "Epoch 336/400\n",
            "43/43 [==============================] - 5s 126ms/step - loss: 0.0046 - custom_metric: 0.6907 - val_loss: 0.0034 - val_custom_metric: 0.4904 - lr: 3.1923e-04\n",
            "\n",
            "Epoch 337: LearningRateScheduler setting learning rate to 0.00030970259103924036.\n",
            "Epoch 337/400\n",
            "43/43 [==============================] - 5s 127ms/step - loss: 0.0046 - custom_metric: 0.6916 - val_loss: 0.0033 - val_custom_metric: 0.4928 - lr: 3.0970e-04\n",
            "\n",
            "Epoch 338: LearningRateScheduler setting learning rate to 0.0003003119200002402.\n",
            "Epoch 338/400\n",
            "43/43 [==============================] - 5s 127ms/step - loss: 0.0047 - custom_metric: 0.6972 - val_loss: 0.0035 - val_custom_metric: 0.5109 - lr: 3.0031e-04\n",
            "\n",
            "Epoch 339: LearningRateScheduler setting learning rate to 0.00029105698922649026.\n",
            "Epoch 339/400\n",
            "43/43 [==============================] - 5s 126ms/step - loss: 0.0047 - custom_metric: 0.6933 - val_loss: 0.0034 - val_custom_metric: 0.5050 - lr: 2.9106e-04\n",
            "\n",
            "Epoch 340: LearningRateScheduler setting learning rate to 0.0002819384098984301.\n",
            "Epoch 340/400\n",
            "43/43 [==============================] - 5s 127ms/step - loss: 0.0046 - custom_metric: 0.6862 - val_loss: 0.0033 - val_custom_metric: 0.4942 - lr: 2.8194e-04\n",
            "\n",
            "Epoch 341: LearningRateScheduler setting learning rate to 0.00027295658946968615.\n",
            "Epoch 341/400\n",
            "43/43 [==============================] - 6s 129ms/step - loss: 0.0046 - custom_metric: 0.6930 - val_loss: 0.0034 - val_custom_metric: 0.5085 - lr: 2.7296e-04\n",
            "\n",
            "Epoch 342: LearningRateScheduler setting learning rate to 0.0002641121100168675.\n",
            "Epoch 342/400\n",
            "43/43 [==============================] - 5s 127ms/step - loss: 0.0046 - custom_metric: 0.6888 - val_loss: 0.0033 - val_custom_metric: 0.4991 - lr: 2.6411e-04\n",
            "\n",
            "Epoch 343: LearningRateScheduler setting learning rate to 0.0002554056409280747.\n",
            "Epoch 343/400\n",
            "43/43 [==============================] - 5s 126ms/step - loss: 0.0046 - custom_metric: 0.6873 - val_loss: 0.0033 - val_custom_metric: 0.5190 - lr: 2.5541e-04\n",
            "\n",
            "Epoch 344: LearningRateScheduler setting learning rate to 0.00024683758965693414.\n",
            "Epoch 344/400\n",
            "43/43 [==============================] - 5s 125ms/step - loss: 0.0046 - custom_metric: 0.6860 - val_loss: 0.0032 - val_custom_metric: 0.4766 - lr: 2.4684e-04\n",
            "\n",
            "Epoch 345: LearningRateScheduler setting learning rate to 0.00023840869835112244.\n",
            "Epoch 345/400\n",
            "43/43 [==============================] - 6s 128ms/step - loss: 0.0046 - custom_metric: 0.6901 - val_loss: 0.0032 - val_custom_metric: 0.4886 - lr: 2.3841e-04\n",
            "\n",
            "Epoch 346: LearningRateScheduler setting learning rate to 0.00023011912708170712.\n",
            "Epoch 346/400\n",
            "43/43 [==============================] - 5s 126ms/step - loss: 0.0046 - custom_metric: 0.6840 - val_loss: 0.0033 - val_custom_metric: 0.5069 - lr: 2.3012e-04\n",
            "\n",
            "Epoch 347: LearningRateScheduler setting learning rate to 0.00022196976351551712.\n",
            "Epoch 347/400\n",
            "43/43 [==============================] - 5s 128ms/step - loss: 0.0046 - custom_metric: 0.6897 - val_loss: 0.0032 - val_custom_metric: 0.4775 - lr: 2.2197e-04\n",
            "\n",
            "Epoch 348: LearningRateScheduler setting learning rate to 0.00021396088413894176.\n",
            "Epoch 348/400\n",
            "43/43 [==============================] - 5s 126ms/step - loss: 0.0046 - custom_metric: 0.6825 - val_loss: 0.0033 - val_custom_metric: 0.4795 - lr: 2.1396e-04\n",
            "\n",
            "Epoch 349: LearningRateScheduler setting learning rate to 0.0002060929691651836.\n",
            "Epoch 349/400\n",
            "43/43 [==============================] - 5s 127ms/step - loss: 0.0046 - custom_metric: 0.6826 - val_loss: 0.0034 - val_custom_metric: 0.5003 - lr: 2.0609e-04\n",
            "\n",
            "Epoch 350: LearningRateScheduler setting learning rate to 0.00019836658611893654.\n",
            "Epoch 350/400\n",
            "43/43 [==============================] - 7s 165ms/step - loss: 0.0046 - custom_metric: 0.6893 - val_loss: 0.0035 - val_custom_metric: 0.5102 - lr: 1.9837e-04\n",
            "\n",
            "Epoch 351: LearningRateScheduler setting learning rate to 0.00019078220066148788.\n",
            "Epoch 351/400\n",
            "43/43 [==============================] - 6s 129ms/step - loss: 0.0046 - custom_metric: 0.6785 - val_loss: 0.0034 - val_custom_metric: 0.5018 - lr: 1.9078e-04\n",
            "\n",
            "Epoch 352: LearningRateScheduler setting learning rate to 0.0001833402639022097.\n",
            "Epoch 352/400\n",
            "43/43 [==============================] - 5s 126ms/step - loss: 0.0046 - custom_metric: 0.6813 - val_loss: 0.0034 - val_custom_metric: 0.5087 - lr: 1.8334e-04\n",
            "\n",
            "Epoch 353: LearningRateScheduler setting learning rate to 0.00017604121239855886.\n",
            "Epoch 353/400\n",
            "43/43 [==============================] - 6s 128ms/step - loss: 0.0045 - custom_metric: 0.6745 - val_loss: 0.0034 - val_custom_metric: 0.5040 - lr: 1.7604e-04\n",
            "\n",
            "Epoch 354: LearningRateScheduler setting learning rate to 0.00016888565733097494.\n",
            "Epoch 354/400\n",
            "43/43 [==============================] - 6s 129ms/step - loss: 0.0045 - custom_metric: 0.6771 - val_loss: 0.0034 - val_custom_metric: 0.5052 - lr: 1.6889e-04\n",
            "\n",
            "Epoch 355: LearningRateScheduler setting learning rate to 0.00016187386063393205.\n",
            "Epoch 355/400\n",
            "43/43 [==============================] - 5s 127ms/step - loss: 0.0046 - custom_metric: 0.6846 - val_loss: 0.0035 - val_custom_metric: 0.5029 - lr: 1.6187e-04\n",
            "\n",
            "Epoch 356: LearningRateScheduler setting learning rate to 0.00015500630252063274.\n",
            "Epoch 356/400\n",
            "43/43 [==============================] - 6s 128ms/step - loss: 0.0045 - custom_metric: 0.6774 - val_loss: 0.0035 - val_custom_metric: 0.5149 - lr: 1.5501e-04\n",
            "\n",
            "Epoch 357: LearningRateScheduler setting learning rate to 0.00014828327402938157.\n",
            "Epoch 357/400\n",
            "43/43 [==============================] - 5s 126ms/step - loss: 0.0046 - custom_metric: 0.6808 - val_loss: 0.0035 - val_custom_metric: 0.5136 - lr: 1.4828e-04\n",
            "\n",
            "Epoch 358: LearningRateScheduler setting learning rate to 0.0001417055173078552.\n",
            "Epoch 358/400\n",
            "43/43 [==============================] - 6s 127ms/step - loss: 0.0045 - custom_metric: 0.6698 - val_loss: 0.0035 - val_custom_metric: 0.5172 - lr: 1.4171e-04\n",
            "\n",
            "Epoch 359: LearningRateScheduler setting learning rate to 0.00013527317787520587.\n",
            "Epoch 359/400\n",
            "43/43 [==============================] - 5s 127ms/step - loss: 0.0045 - custom_metric: 0.6751 - val_loss: 0.0035 - val_custom_metric: 0.5188 - lr: 1.3527e-04\n",
            "\n",
            "Epoch 360: LearningRateScheduler setting learning rate to 0.0001289867068408057.\n",
            "Epoch 360/400\n",
            "43/43 [==============================] - 6s 128ms/step - loss: 0.0045 - custom_metric: 0.6762 - val_loss: 0.0035 - val_custom_metric: 0.5167 - lr: 1.2899e-04\n",
            "\n",
            "Epoch 361: LearningRateScheduler setting learning rate to 0.00012284655531402677.\n",
            "Epoch 361/400\n",
            "43/43 [==============================] - 5s 126ms/step - loss: 0.0046 - custom_metric: 0.6798 - val_loss: 0.0035 - val_custom_metric: 0.5173 - lr: 1.2285e-04\n",
            "\n",
            "Epoch 362: LearningRateScheduler setting learning rate to 0.00011685301433317363.\n",
            "Epoch 362/400\n",
            "43/43 [==============================] - 5s 127ms/step - loss: 0.0045 - custom_metric: 0.6734 - val_loss: 0.0035 - val_custom_metric: 0.5178 - lr: 1.1685e-04\n",
            "\n",
            "Epoch 363: LearningRateScheduler setting learning rate to 0.00011100638221250847.\n",
            "Epoch 363/400\n",
            "43/43 [==============================] - 5s 126ms/step - loss: 0.0045 - custom_metric: 0.6727 - val_loss: 0.0034 - val_custom_metric: 0.5100 - lr: 1.1101e-04\n",
            "\n",
            "Epoch 364: LearningRateScheduler setting learning rate to 0.00010530725558055565.\n",
            "Epoch 364/400\n",
            "43/43 [==============================] - 6s 129ms/step - loss: 0.0045 - custom_metric: 0.6759 - val_loss: 0.0035 - val_custom_metric: 0.5146 - lr: 1.0531e-04\n",
            "\n",
            "Epoch 365: LearningRateScheduler setting learning rate to 9.975594002753496e-05.\n",
            "Epoch 365/400\n",
            "43/43 [==============================] - 5s 127ms/step - loss: 0.0045 - custom_metric: 0.6701 - val_loss: 0.0034 - val_custom_metric: 0.5046 - lr: 9.9756e-05\n",
            "\n",
            "Epoch 366: LearningRateScheduler setting learning rate to 9.435257379664108e-05.\n",
            "Epoch 366/400\n",
            "43/43 [==============================] - 5s 127ms/step - loss: 0.0045 - custom_metric: 0.6739 - val_loss: 0.0034 - val_custom_metric: 0.4998 - lr: 9.4353e-05\n",
            "\n",
            "Epoch 367: LearningRateScheduler setting learning rate to 8.909760799724609e-05.\n",
            "Epoch 367/400\n",
            "43/43 [==============================] - 5s 127ms/step - loss: 0.0044 - custom_metric: 0.6585 - val_loss: 0.0034 - val_custom_metric: 0.4987 - lr: 8.9098e-05\n",
            "\n",
            "Epoch 368: LearningRateScheduler setting learning rate to 8.399134094361216e-05.\n",
            "Epoch 368/400\n",
            "43/43 [==============================] - 7s 151ms/step - loss: 0.0045 - custom_metric: 0.6679 - val_loss: 0.0034 - val_custom_metric: 0.4946 - lr: 8.3991e-05\n",
            "\n",
            "Epoch 369: LearningRateScheduler setting learning rate to 7.903423102106899e-05.\n",
            "Epoch 369/400\n",
            "43/43 [==============================] - 5s 127ms/step - loss: 0.0045 - custom_metric: 0.6743 - val_loss: 0.0034 - val_custom_metric: 0.4942 - lr: 7.9034e-05\n",
            "\n",
            "Epoch 370: LearningRateScheduler setting learning rate to 7.422639464493841e-05.\n",
            "Epoch 370/400\n",
            "43/43 [==============================] - 5s 127ms/step - loss: 0.0045 - custom_metric: 0.6750 - val_loss: 0.0034 - val_custom_metric: 0.5076 - lr: 7.4226e-05\n",
            "\n",
            "Epoch 371: LearningRateScheduler setting learning rate to 6.956831202842295e-05.\n",
            "Epoch 371/400\n",
            "43/43 [==============================] - 6s 128ms/step - loss: 0.0045 - custom_metric: 0.6701 - val_loss: 0.0035 - val_custom_metric: 0.5051 - lr: 6.9568e-05\n",
            "\n",
            "Epoch 372: LearningRateScheduler setting learning rate to 6.506012141471729e-05.\n",
            "Epoch 372/400\n",
            "43/43 [==============================] - 6s 130ms/step - loss: 0.0045 - custom_metric: 0.6702 - val_loss: 0.0035 - val_custom_metric: 0.5120 - lr: 6.5060e-05\n",
            "\n",
            "Epoch 373: LearningRateScheduler setting learning rate to 6.070211748010479e-05.\n",
            "Epoch 373/400\n",
            "43/43 [==============================] - 6s 128ms/step - loss: 0.0044 - custom_metric: 0.6615 - val_loss: 0.0034 - val_custom_metric: 0.5026 - lr: 6.0702e-05\n",
            "\n",
            "Epoch 374: LearningRateScheduler setting learning rate to 5.649459853884764e-05.\n",
            "Epoch 374/400\n",
            "43/43 [==============================] - 6s 128ms/step - loss: 0.0045 - custom_metric: 0.6697 - val_loss: 0.0034 - val_custom_metric: 0.5060 - lr: 5.6495e-05\n",
            "\n",
            "Epoch 375: LearningRateScheduler setting learning rate to 5.243771738605574e-05.\n",
            "Epoch 375/400\n",
            "43/43 [==============================] - 6s 130ms/step - loss: 0.0045 - custom_metric: 0.6726 - val_loss: 0.0034 - val_custom_metric: 0.5089 - lr: 5.2438e-05\n",
            "\n",
            "Epoch 376: LearningRateScheduler setting learning rate to 4.853191785514355e-05.\n",
            "Epoch 376/400\n",
            "43/43 [==============================] - 6s 129ms/step - loss: 0.0045 - custom_metric: 0.6684 - val_loss: 0.0035 - val_custom_metric: 0.5082 - lr: 4.8532e-05\n",
            "\n",
            "Epoch 377: LearningRateScheduler setting learning rate to 4.477749826037325e-05.\n",
            "Epoch 377/400\n",
            "43/43 [==============================] - 6s 128ms/step - loss: 0.0045 - custom_metric: 0.6692 - val_loss: 0.0035 - val_custom_metric: 0.5078 - lr: 4.4777e-05\n",
            "\n",
            "Epoch 378: LearningRateScheduler setting learning rate to 4.1174309444613755e-05.\n",
            "Epoch 378/400\n",
            "43/43 [==============================] - 5s 126ms/step - loss: 0.0044 - custom_metric: 0.6681 - val_loss: 0.0034 - val_custom_metric: 0.5007 - lr: 4.1174e-05\n",
            "\n",
            "Epoch 379: LearningRateScheduler setting learning rate to 3.772295167436823e-05.\n",
            "Epoch 379/400\n",
            "43/43 [==============================] - 5s 128ms/step - loss: 0.0045 - custom_metric: 0.6699 - val_loss: 0.0034 - val_custom_metric: 0.5029 - lr: 3.7723e-05\n",
            "\n",
            "Epoch 380: LearningRateScheduler setting learning rate to 3.4423421311657876e-05.\n",
            "Epoch 380/400\n",
            "43/43 [==============================] - 5s 128ms/step - loss: 0.0045 - custom_metric: 0.6671 - val_loss: 0.0034 - val_custom_metric: 0.5096 - lr: 3.4423e-05\n",
            "\n",
            "Epoch 381: LearningRateScheduler setting learning rate to 3.127601303276606e-05.\n",
            "Epoch 381/400\n",
            "43/43 [==============================] - 5s 127ms/step - loss: 0.0044 - custom_metric: 0.6596 - val_loss: 0.0035 - val_custom_metric: 0.5137 - lr: 3.1276e-05\n",
            "\n",
            "Epoch 382: LearningRateScheduler setting learning rate to 2.828102878993377e-05.\n",
            "Epoch 382/400\n",
            "43/43 [==============================] - 5s 127ms/step - loss: 0.0045 - custom_metric: 0.6717 - val_loss: 0.0034 - val_custom_metric: 0.5072 - lr: 2.8281e-05\n",
            "\n",
            "Epoch 383: LearningRateScheduler setting learning rate to 2.5438323064008728e-05.\n",
            "Epoch 383/400\n",
            "43/43 [==============================] - 6s 128ms/step - loss: 0.0045 - custom_metric: 0.6688 - val_loss: 0.0035 - val_custom_metric: 0.5037 - lr: 2.5438e-05\n",
            "\n",
            "Epoch 384: LearningRateScheduler setting learning rate to 2.2748336050426587e-05.\n",
            "Epoch 384/400\n",
            "43/43 [==============================] - 7s 158ms/step - loss: 0.0045 - custom_metric: 0.6669 - val_loss: 0.0035 - val_custom_metric: 0.5095 - lr: 2.2748e-05\n",
            "\n",
            "Epoch 385: LearningRateScheduler setting learning rate to 2.0211220544297248e-05.\n",
            "Epoch 385/400\n",
            "43/43 [==============================] - 6s 130ms/step - loss: 0.0045 - custom_metric: 0.6741 - val_loss: 0.0035 - val_custom_metric: 0.5068 - lr: 2.0211e-05\n",
            "\n",
            "Epoch 386: LearningRateScheduler setting learning rate to 1.78271257027518e-05.\n",
            "Epoch 386/400\n",
            "43/43 [==============================] - 6s 129ms/step - loss: 0.0045 - custom_metric: 0.6723 - val_loss: 0.0035 - val_custom_metric: 0.5066 - lr: 1.7827e-05\n",
            "\n",
            "Epoch 387: LearningRateScheduler setting learning rate to 1.5596047887811437e-05.\n",
            "Epoch 387/400\n",
            "43/43 [==============================] - 6s 129ms/step - loss: 0.0044 - custom_metric: 0.6575 - val_loss: 0.0035 - val_custom_metric: 0.5108 - lr: 1.5596e-05\n",
            "\n",
            "Epoch 388: LearningRateScheduler setting learning rate to 1.3518289051717147e-05.\n",
            "Epoch 388/400\n",
            "43/43 [==============================] - 5s 127ms/step - loss: 0.0044 - custom_metric: 0.6620 - val_loss: 0.0033 - val_custom_metric: 0.4978 - lr: 1.3518e-05\n",
            "\n",
            "Epoch 389: LearningRateScheduler setting learning rate to 1.159399744210532e-05.\n",
            "Epoch 389/400\n",
            "43/43 [==============================] - 6s 129ms/step - loss: 0.0045 - custom_metric: 0.6739 - val_loss: 0.0035 - val_custom_metric: 0.5121 - lr: 1.1594e-05\n",
            "\n",
            "Epoch 390: LearningRateScheduler setting learning rate to 9.82317123998655e-06.\n",
            "Epoch 390/400\n",
            "43/43 [==============================] - 5s 127ms/step - loss: 0.0044 - custom_metric: 0.6616 - val_loss: 0.0035 - val_custom_metric: 0.5120 - lr: 9.8232e-06\n",
            "\n",
            "Epoch 391: LearningRateScheduler setting learning rate to 8.205811354855541e-06.\n",
            "Epoch 391/400\n",
            "43/43 [==============================] - 6s 128ms/step - loss: 0.0045 - custom_metric: 0.6682 - val_loss: 0.0035 - val_custom_metric: 0.5187 - lr: 8.2058e-06\n",
            "\n",
            "Epoch 392: LearningRateScheduler setting learning rate to 6.742365712852916e-06.\n",
            "Epoch 392/400\n",
            "43/43 [==============================] - 5s 127ms/step - loss: 0.0044 - custom_metric: 0.6661 - val_loss: 0.0035 - val_custom_metric: 0.5163 - lr: 6.7424e-06\n",
            "\n",
            "Epoch 393: LearningRateScheduler setting learning rate to 5.432684247352881e-06.\n",
            "Epoch 393/400\n",
            "43/43 [==============================] - 6s 129ms/step - loss: 0.0045 - custom_metric: 0.6662 - val_loss: 0.0034 - val_custom_metric: 0.5044 - lr: 5.4327e-06\n",
            "\n",
            "Epoch 394: LearningRateScheduler setting learning rate to 4.276917479728581e-06.\n",
            "Epoch 394/400\n",
            "43/43 [==============================] - 5s 128ms/step - loss: 0.0044 - custom_metric: 0.6663 - val_loss: 0.0035 - val_custom_metric: 0.5131 - lr: 4.2769e-06\n",
            "\n",
            "Epoch 395: LearningRateScheduler setting learning rate to 3.2750635909906123e-06.\n",
            "Epoch 395/400\n",
            "43/43 [==============================] - 6s 128ms/step - loss: 0.0045 - custom_metric: 0.6738 - val_loss: 0.0035 - val_custom_metric: 0.5148 - lr: 3.2751e-06\n",
            "\n",
            "Epoch 396: LearningRateScheduler setting learning rate to 2.427272420391091e-06.\n",
            "Epoch 396/400\n",
            "43/43 [==============================] - 5s 127ms/step - loss: 0.0044 - custom_metric: 0.6671 - val_loss: 0.0035 - val_custom_metric: 0.5134 - lr: 2.4273e-06\n",
            "\n",
            "Epoch 397: LearningRateScheduler setting learning rate to 1.7335437405563425e-06.\n",
            "Epoch 397/400\n",
            "43/43 [==============================] - 6s 129ms/step - loss: 0.0044 - custom_metric: 0.6597 - val_loss: 0.0035 - val_custom_metric: 0.5126 - lr: 1.7335e-06\n",
            "\n",
            "Epoch 398: LearningRateScheduler setting learning rate to 1.1938776651732042e-06.\n",
            "Epoch 398/400\n",
            "43/43 [==============================] - 6s 128ms/step - loss: 0.0045 - custom_metric: 0.6721 - val_loss: 0.0035 - val_custom_metric: 0.5140 - lr: 1.1939e-06\n",
            "\n",
            "Epoch 399: LearningRateScheduler setting learning rate to 8.084231808425102e-07.\n",
            "Epoch 399/400\n",
            "43/43 [==============================] - 7s 162ms/step - loss: 0.0044 - custom_metric: 0.6668 - val_loss: 0.0035 - val_custom_metric: 0.5124 - lr: 8.0842e-07\n",
            "\n",
            "Epoch 400: LearningRateScheduler setting learning rate to 5.770312441200076e-07.\n",
            "Epoch 400/400\n",
            "43/43 [==============================] - 5s 127ms/step - loss: 0.0045 - custom_metric: 0.6676 - val_loss: 0.0035 - val_custom_metric: 0.5124 - lr: 5.7703e-07\n"
          ]
        }
      ]
    },
    {
      "cell_type": "markdown",
      "source": [
        "Export trained model."
      ],
      "metadata": {
        "id": "HvdzX5bLhrYK"
      }
    },
    {
      "cell_type": "code",
      "source": [
        "model.save(checkpoint_filepath)"
      ],
      "metadata": {
        "id": "LD9Pm3aEL-ol"
      },
      "execution_count": null,
      "outputs": []
    },
    {
      "cell_type": "markdown",
      "source": [
        "Show some training info."
      ],
      "metadata": {
        "id": "kpnLrU5whwfK"
      }
    },
    {
      "cell_type": "code",
      "source": [
        "min_metric_epoch = tf.math.argmin(History.history['custom_metric'])\n",
        "min_metric = History.history['custom_metric'][min_metric_epoch]\n",
        "loss_min_metric = History.history['loss'][min_metric_epoch]\n",
        "val_metric = History.history['val_custom_metric'][min_metric_epoch]\n",
        "val_loss = History.history['val_loss'][min_metric_epoch]\n",
        "\n",
        "print('Best model at epoch', (min_metric_epoch.numpy() + 1))\n",
        "print('Metric:', min_metric)\n",
        "print('Loss:', loss_min_metric)\n",
        "print('Validation metric:', val_metric)\n",
        "print('Validation loss:', val_loss)"
      ],
      "metadata": {
        "id": "iBuHNoC6RsjY",
        "colab": {
          "base_uri": "https://localhost:8080/"
        },
        "outputId": "98facdc3-f23b-4e54-ec8d-91127a127402"
      },
      "execution_count": null,
      "outputs": [
        {
          "output_type": "stream",
          "name": "stdout",
          "text": [
            "Best model at epoch 387\n",
            "Metric: 0.6574747562408447\n",
            "Loss: 0.004387478809803724\n",
            "Validation metric: 0.5108354091644287\n",
            "Validation loss: 0.0034926878288388252\n"
          ]
        }
      ]
    },
    {
      "cell_type": "markdown",
      "source": [
        "Show training progress."
      ],
      "metadata": {
        "id": "E9dIzRy3hzbK"
      }
    },
    {
      "cell_type": "code",
      "source": [
        "start_epoch_loss = 60\n",
        "epochs_interval_loss = range(start_epoch_loss, epochs)\n",
        "start_epoch_metric = 60\n",
        "epochs_interval_metric = range(start_epoch_metric, epochs)\n",
        "\n",
        "fig, (ax1, ax2) = plt.subplots(1, 2, figsize=(15,4))\n",
        "\n",
        "ax1.plot(epochs_interval_loss, History.history['loss'][start_epoch_loss:], label='Loss')\n",
        "ax1.plot(epochs_interval_loss, History.history['val_loss'][start_epoch_loss:], label='Validation Loss')\n",
        "ax1.set_xlabel(\"Epochs\")\n",
        "ax1.legend(loc='upper right')\n",
        "\n",
        "ax2.plot(epochs_interval_metric, History.history['custom_metric'][start_epoch_metric:], label='Metric')\n",
        "ax2.plot(epochs_interval_metric, History.history['val_custom_metric'][start_epoch_metric:], label='Validation Metric')\n",
        "ax2.set_xlabel(\"Epochs\")\n",
        "ax2.legend(loc='upper right')\n",
        "\n",
        "plt.show()"
      ],
      "metadata": {
        "id": "BZBx_Wdnv25h",
        "colab": {
          "base_uri": "https://localhost:8080/",
          "height": 279
        },
        "outputId": "13ce9123-ed14-4e52-fc9e-54e01dc66689"
      },
      "execution_count": null,
      "outputs": [
        {
          "output_type": "display_data",
          "data": {
            "text/plain": [
              "<Figure size 1080x288 with 2 Axes>"
            ],
            "image/png": "[encoded data removed]"
          },
          "metadata": {
            "needs_background": "light"
          }
        }
      ]
    },
    {
      "cell_type": "markdown",
      "metadata": {
        "id": "sJY7Oww8nvvo"
      },
      "source": [
        "# Load model and make predictions\n",
        "\n"
      ]
    },
    {
      "cell_type": "markdown",
      "source": [
        "Define test set preprocessing functions."
      ],
      "metadata": {
        "id": "dw6Zz41ph4qR"
      }
    },
    {
      "cell_type": "code",
      "source": [
        "def normalize_test(image, label, height, width, std_vec, max_gt_values):             #Function to normalize the test dataset\n",
        "    image = tf.cast(image,tf.float32)\n",
        "    image = image/std_vec\n",
        "    label = label/max_gt_values\n",
        "\n",
        "    return image, label, height, width\n",
        "\n",
        "def image_repetition_test(image, height, width):    #Function that repeats small images applying random flips to create a bigger image\n",
        "    nx = tf.math.floordiv(target_image_size, tf.cast(width, tf.int32))\n",
        "    ny = tf.math.floordiv(target_image_size, tf.cast(height, tf.int32))\n",
        "    \n",
        "    image = tf.tile(image, [ny, nx, 1])\n",
        "    image = tf.cond(tf.math.maximum(nx, ny)==1, lambda: tf.image.resize(image, [target_image_size, target_image_size], method='bilinear', antialias=False), lambda: tf.image.pad_to_bounding_box(image, 0, 0, target_image_size, target_image_size))\n",
        "\n",
        "    return image\n",
        "\n",
        "def pad_with_patches_test(image, label, height, width):    #Function to resize images to [128,128,150]\n",
        "    max_dim = tf.math.maximum(height, width)\n",
        "    image = tf.cond(max_dim<target_image_size, lambda: image_repetition_test(image, height, width), lambda: tf.image.resize(image, [target_image_size, target_image_size], method='bilinear', antialias=False))\n",
        "\n",
        "    return image, label"
      ],
      "metadata": {
        "id": "BxCtdKLAdnSy"
      },
      "execution_count": 28,
      "outputs": []
    },
    {
      "cell_type": "markdown",
      "source": [
        "Preprocessing of test dataset."
      ],
      "metadata": {
        "id": "57qQjkLxiGTi"
      }
    },
    {
      "cell_type": "code",
      "execution_count": 29,
      "metadata": {
        "id": "8mCLVg9YOmVX"
      },
      "outputs": [],
      "source": [
        "test_data = load_tf_records(tf_records_path.format(test_partition_id)).map(decode_dataset, num_parallel_calls=AUTO)\n",
        "\n",
        "# Normalize, pad, cache, batch and prefetch test set\n",
        "test_data = test_data.map(lambda image, label, height, width: normalize_test(image, label, height, width, std_vec, max_gt_values), num_parallel_calls=AUTO)\n",
        "test_data = test_data.map(lambda image, label, height, width: pad_with_patches_test(image, label, height, width), num_parallel_calls=AUTO).cache()\n",
        "test_data = test_data.batch(batch_size=batch_size, drop_remainder=False).prefetch(AUTO)"
      ]
    },
    {
      "cell_type": "markdown",
      "source": [
        "Print some entries from the test dataset"
      ],
      "metadata": {
        "id": "fY7rJ1SwiL_D"
      }
    },
    {
      "cell_type": "code",
      "execution_count": 30,
      "metadata": {
        "id": "eo11uXRbpMFT",
        "colab": {
          "base_uri": "https://localhost:8080/",
          "height": 1000
        },
        "outputId": "2e403b30-9de8-4241-c3dd-405c6c0406ee"
      },
      "outputs": [
        {
          "output_type": "stream",
          "name": "stdout",
          "text": [
            "[0.16707692 0.2752     0.4375     0.4642857 ]\n"
          ]
        },
        {
          "output_type": "display_data",
          "data": {
            "text/plain": [
              "<Figure size 432x288 with 1 Axes>"
            ],
            "image/png": "[encoded data removed]"
          },
          "metadata": {
            "needs_background": "light"
          }
        },
        {
          "output_type": "stream",
          "name": "stdout",
          "text": [
            "[0.24       0.4768     0.435      0.45714286]\n"
          ]
        },
        {
          "output_type": "display_data",
          "data": {
            "text/plain": [
              "<Figure size 432x288 with 1 Axes>"
            ],
            "image/png": "[encoded data removed]"
          },
          "metadata": {
            "needs_background": "light"
          }
        },
        {
          "output_type": "stream",
          "name": "stdout",
          "text": [
            "[0.35076922 0.3872     0.385      0.49428573]\n"
          ]
        },
        {
          "output_type": "display_data",
          "data": {
            "text/plain": [
              "<Figure size 432x288 with 1 Axes>"
            ],
            "image/png": "[encoded data removed]"
          },
          "metadata": {
            "needs_background": "light"
          }
        },
        {
          "output_type": "stream",
          "name": "stdout",
          "text": [
            "[0.15015385 0.2928     0.3625     0.47857141]\n"
          ]
        },
        {
          "output_type": "display_data",
          "data": {
            "text/plain": [
              "<Figure size 432x288 with 1 Axes>"
            ],
            "image/png": "[encoded data removed]"
          },
          "metadata": {
            "needs_background": "light"
          }
        },
        {
          "output_type": "stream",
          "name": "stdout",
          "text": [
            "[0.23323078 0.288      0.37       0.4857143 ]\n"
          ]
        },
        {
          "output_type": "display_data",
          "data": {
            "text/plain": [
              "<Figure size 432x288 with 1 Axes>"
            ],
            "image/png": "[encoded data removed]"
          },
          "metadata": {
            "needs_background": "light"
          }
        }
      ],
      "source": [
        "for image, label in test_data.unbatch().take(5):\n",
        "    plt.imshow(image[:,:,0].numpy())\n",
        "    print(label.numpy())\n",
        "    plt.show()\n",
        "    "
      ]
    },
    {
      "cell_type": "markdown",
      "source": [
        "Load the exported model."
      ],
      "metadata": {
        "id": "93M4qxvqifQp"
      }
    },
    {
      "cell_type": "code",
      "execution_count": 33,
      "metadata": {
        "id": "nGxvLtx7n-fY",
        "colab": {
          "base_uri": "https://localhost:8080/"
        },
        "outputId": "e1662fdc-0c47-491b-b5c8-946c305f9669"
      },
      "outputs": [
        {
          "output_type": "stream",
          "name": "stdout",
          "text": [
            "Model: \"sequential\"\n",
            "_________________________________________________________________\n",
            " Layer (type)                Output Shape              Param #   \n",
            "=================================================================\n",
            " efficientnetlite0 (Function  (None, 1, 1, 1280)       728896    \n",
            " al)                                                             \n",
            "                                                                 \n",
            " flatten (Flatten)           (None, 1280)              0         \n",
            "                                                                 \n",
            " dense (Dense)               (None, 4)                 5124      \n",
            "                                                                 \n",
            "=================================================================\n",
            "Total params: 734,020\n",
            "Trainable params: 719,780\n",
            "Non-trainable params: 14,240\n",
            "_________________________________________________________________\n"
          ]
        }
      ],
      "source": [
        "loaded_model = keras.models.load_model(checkpoint_filepath, custom_objects={'custom_metric': custom_metric})\n",
        "\n",
        "loaded_model.summary()"
      ]
    },
    {
      "cell_type": "markdown",
      "source": [
        "Make predictions and generate csv file."
      ],
      "metadata": {
        "id": "Vp5qQya1io_A"
      }
    },
    {
      "cell_type": "code",
      "execution_count": null,
      "metadata": {
        "id": "DYJIYKokmtYX"
      },
      "outputs": [],
      "source": [
        "predictions = loaded_model.predict(test_data)\n",
        "\n",
        "submission = pd.DataFrame(data=predictions, columns=[\"P\", \"K\", \"Mg\", \"pH\"])\n",
        "submission.to_csv(predictions_filepath, index_label=\"sample_index\")"
      ]
    },
    {
      "cell_type": "markdown",
      "source": [
        "Evaluate model performace."
      ],
      "metadata": {
        "id": "CN4W_yXDiq24"
      }
    },
    {
      "cell_type": "code",
      "source": [
        "gt = np.array(list(test_data.unbatch().map(lambda image, label: label)))\n",
        "\n",
        "score = custom_metric(gt, predictions)\n",
        "\n",
        "print(score.numpy())"
      ],
      "metadata": {
        "colab": {
          "base_uri": "https://localhost:8080/"
        },
        "id": "OpUlmrJTithE",
        "outputId": "f8819210-d516-48f3-e768-d112b3317347"
      },
      "execution_count": null,
      "outputs": [
        {
          "output_type": "stream",
          "name": "stdout",
          "text": [
            "0.76751924\n"
          ]
        }
      ]
    }
  ],
  "metadata": {
    "colab": {
      "collapsed_sections": [
        "y5fCn7npUfHA",
        "hbDaIVw1T2u1"
      ],
      "provenance": [],
      "machine_shape": "hm"
    },
    "kernelspec": {
      "display_name": "Python 3",
      "name": "python3"
    },
    "language_info": {
      "name": "python"
    },
    "gpuClass": "standard",
    "accelerator": "GPU"
  },
  "nbformat": 4,
  "nbformat_minor": 0
}
