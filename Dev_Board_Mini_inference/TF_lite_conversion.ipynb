{
  "nbformat": 4,
  "nbformat_minor": 0,
  "metadata": {
    "colab": {
      "provenance": [],
      "collapsed_sections": []
    },
    "kernelspec": {
      "display_name": "Python 3",
      "name": "python3"
    },
    "language_info": {
      "name": "python"
    }
  },
  "cells": [
    {
      "cell_type": "markdown",
      "source": [
        "Conversion to TFLite and Quantization"
      ],
      "metadata": {
        "id": "vwIep7By1fzK"
      }
    },
    {
      "cell_type": "markdown",
      "source": [
        "Before starting read: https://www.tensorflow.org/lite/performance/post_training_integer_quant"
      ],
      "metadata": {
        "id": "Q6qYi5sudjFc"
      }
    },
    {
      "cell_type": "markdown",
      "source": [
        "# Conversion to tflite of float32 models: no quantization"
      ],
      "metadata": {
        "id": "YPfhTYPxYRt5"
      }
    },
    {
      "cell_type": "code",
      "source": [
        "import os\n",
        "\n",
        "# Change with actual path to TensorFlow model directory\n",
        "directory = '\\content\\tf_models'\n",
        "\n",
        "sources=[]\n",
        "for path in os.listdir(directory):\n",
        "    full_path = os.path.join(directory, path)\n",
        "    if os.path.isdir(full_path) :\n",
        "\n",
        "          print('found dir %s' % full_path)\n",
        "          sources.append(full_path)"
      ],
      "metadata": {
        "id": "RJOKTDIIbgKA"
      },
      "execution_count": null,
      "outputs": []
    },
    {
      "cell_type": "code",
      "source": [
        "#Convert and export all networks sequentially\n",
        "import tensorflow as tf\n",
        "destinations = '/content/'\n",
        "\n",
        "i=-1\n",
        "for network in sources:\n",
        "  i+=1\n",
        "  #Convert to TFlite with absolutely no quantization\n",
        "\n",
        "  #This may be changed to load saved model (suggested in https://www.tensorflow.org/lite/models/convert)\n",
        "  model=tf.keras.models.load_model(\n",
        "    network, custom_objects=None, compile=False, options=None\n",
        "  )\n",
        "  converter=tf.lite.TFLiteConverter.from_keras_model(model) \n",
        "\n",
        "  #Note that no optimization is applied\n",
        "\n",
        "  tflite_model = converter.convert()\n",
        "  open(destinations+os.path.split(sources[i])[1]+'_float.tflite','wb').write(tflite_model)"
      ],
      "metadata": {
        "id": "QFlVDTydaDDw"
      },
      "execution_count": null,
      "outputs": []
    }
  ]
}